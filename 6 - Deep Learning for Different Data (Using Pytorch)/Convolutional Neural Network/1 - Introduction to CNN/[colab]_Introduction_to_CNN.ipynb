{
  "cells": [
    {
      "cell_type": "code",
      "execution_count": 85,
      "metadata": {
        "colab": {
          "base_uri": "https://localhost:8080/"
        },
        "id": "U02evzeXGem5",
        "outputId": "cf491e61-5cf1-49ac-86a5-143b15145730"
      },
      "outputs": [
        {
          "data": {
            "text/plain": [
              "<torch._C.Generator at 0x7fe03ff70a50>"
            ]
          },
          "execution_count": 85,
          "metadata": {},
          "output_type": "execute_result"
        }
      ],
      "source": [
        "import torch\n",
        "import torch.nn as nn # All neural network modules, nn.Linear, nn.Conv2d, BatchNorm, Loss functions\n",
        "\n",
        "torch.manual_seed(42)"
      ]
    },
    {
      "cell_type": "markdown",
      "metadata": {
        "id": "8Nidq_AxX76m"
      },
      "source": [
        "## 1. Convolutional Layer"
      ]
    },
    {
      "cell_type": "markdown",
      "metadata": {
        "id": "MmtnjMB1LuJv"
      },
      "source": [
        "### 1.1. Convolutional Operation\n",
        "\n",
        "Input: $M \\times N$\n",
        "\n",
        "Kernel: $K \\times O$\n",
        "\n",
        "Output: $M - (K - 1) \\times N - (O - 1)$"
      ]
    },
    {
      "cell_type": "markdown",
      "metadata": {
        "id": "Z8uhnuOaPJ-c"
      },
      "source": [
        "**Example 1**"
      ]
    },
    {
      "cell_type": "code",
      "execution_count": 86,
      "metadata": {
        "colab": {
          "base_uri": "https://localhost:8080/"
        },
        "id": "9IuCEeCvP87V",
        "outputId": "f57236d7-3b19-4ea3-8777-03a2eee158cc"
      },
      "outputs": [
        {
          "data": {
            "text/plain": [
              "tensor([[[2., 2., 1., 4., 1., 0.],\n",
              "         [0., 4., 0., 3., 3., 4.],\n",
              "         [0., 4., 1., 2., 0., 0.],\n",
              "         [2., 1., 4., 1., 3., 1.],\n",
              "         [4., 3., 1., 4., 2., 4.],\n",
              "         [2., 0., 0., 4., 3., 4.]]])"
            ]
          },
          "execution_count": 86,
          "metadata": {},
          "output_type": "execute_result"
        }
      ],
      "source": [
        "input = torch.randint(5, (1, 6, 6), dtype=torch.float32) # 1x6x6: 1 batch, 6x6 grid, 5 possible values\n",
        "input"
      ]
    },
    {
      "cell_type": "code",
      "execution_count": 87,
      "metadata": {
        "id": "G-oG1V_fIv4x"
      },
      "outputs": [],
      "source": [
        "# define convolutional layer\n",
        "conv_layer = nn.Conv2d(\n",
        "    in_channels=1,\n",
        "    out_channels=1,\n",
        "    kernel_size=3, # create a kernel: 3 x 3\n",
        "    bias=False # If True, adds a learnable bias to the output\n",
        ")"
      ]
    },
    {
      "cell_type": "code",
      "execution_count": 88,
      "metadata": {
        "colab": {
          "base_uri": "https://localhost:8080/"
        },
        "id": "0qqPnYGpKOCN",
        "outputId": "eeb27f90-adb1-4fb6-c894-2d786b706148"
      },
      "outputs": [
        {
          "data": {
            "text/plain": [
              "Parameter containing:\n",
              "tensor([[[[ 0.0520,  0.2693,  0.0364],\n",
              "          [-0.1051,  0.0896, -0.0904],\n",
              "          [ 0.1403,  0.2976,  0.1927]]]], requires_grad=True)"
            ]
          },
          "execution_count": 88,
          "metadata": {},
          "output_type": "execute_result"
        }
      ],
      "source": [
        "conv_layer.weight # random weights of the kernel are updated during training (loss calculation, backpropagation,...)"
      ]
    },
    {
      "cell_type": "code",
      "execution_count": 89,
      "metadata": {
        "colab": {
          "base_uri": "https://localhost:8080/"
        },
        "id": "BumnkOhigvWa",
        "outputId": "7c15555d-f516-4254-cb06-a975ba204b50"
      },
      "outputs": [
        {
          "data": {
            "text/plain": [
              "tensor([[[[1., 1., 0.],\n",
              "          [1., 1., 0.],\n",
              "          [1., 0., 1.]]]])"
            ]
          },
          "execution_count": 89,
          "metadata": {},
          "output_type": "execute_result"
        }
      ],
      "source": [
        "init_kernel_weight = torch.randint(\n",
        "    high=2, # 0 or 1\n",
        "    size=(conv_layer.weight.data.shape),\n",
        "    dtype=torch.float32\n",
        ")\n",
        "init_kernel_weight"
      ]
    },
    {
      "cell_type": "code",
      "execution_count": 90,
      "metadata": {
        "colab": {
          "base_uri": "https://localhost:8080/"
        },
        "id": "XTX2HGaAI9cM",
        "outputId": "0cdde9e5-ebe1-414f-f377-ce6c0efa23ae"
      },
      "outputs": [
        {
          "data": {
            "text/plain": [
              "Parameter containing:\n",
              "tensor([[[[1., 1., 0.],\n",
              "          [1., 1., 0.],\n",
              "          [1., 0., 1.]]]], requires_grad=True)"
            ]
          },
          "execution_count": 90,
          "metadata": {},
          "output_type": "execute_result"
        }
      ],
      "source": [
        "# init weight\n",
        "conv_layer.weight.data = init_kernel_weight\n",
        "conv_layer.weight"
      ]
    },
    {
      "cell_type": "code",
      "execution_count": 91,
      "metadata": {
        "colab": {
          "base_uri": "https://localhost:8080/"
        },
        "id": "UECHzGMkedfm",
        "outputId": "3b39b34c-2632-4af8-f2a0-7d5083e8654f"
      },
      "outputs": [
        {
          "data": {
            "text/plain": [
              "tensor([[[ 9., 13.,  9., 13.],\n",
              "         [14., 11., 13., 10.],\n",
              "         [12., 17., 11., 14.],\n",
              "         [12., 13., 13., 18.]]], grad_fn=<SqueezeBackward1>)"
            ]
          },
          "execution_count": 91,
          "metadata": {},
          "output_type": "execute_result"
        }
      ],
      "source": [
        "output = conv_layer(input)\n",
        "output"
      ]
    },
    {
      "cell_type": "markdown",
      "metadata": {
        "id": "VeUKY2ogfzBf"
      },
      "source": [
        "**Example 2**"
      ]
    },
    {
      "cell_type": "code",
      "execution_count": 92,
      "metadata": {
        "colab": {
          "base_uri": "https://localhost:8080/"
        },
        "id": "OAfR9BTuf1kq",
        "outputId": "7b4dc9b5-2e81-41c1-9254-fb77039a8468"
      },
      "outputs": [
        {
          "data": {
            "text/plain": [
              "tensor([[[2., 2., 1., 4., 1., 0.],\n",
              "         [0., 4., 0., 3., 3., 4.],\n",
              "         [0., 4., 1., 2., 0., 0.],\n",
              "         [2., 1., 4., 1., 3., 1.],\n",
              "         [4., 3., 1., 4., 2., 4.],\n",
              "         [2., 0., 0., 4., 3., 4.]]])"
            ]
          },
          "execution_count": 92,
          "metadata": {},
          "output_type": "execute_result"
        }
      ],
      "source": [
        "input"
      ]
    },
    {
      "cell_type": "code",
      "execution_count": 93,
      "metadata": {
        "id": "cL-mwEV5f5Zq"
      },
      "outputs": [],
      "source": [
        "# define convolutional layer\n",
        "conv_layer = nn.Conv2d(\n",
        "    in_channels=1,\n",
        "    out_channels=1,\n",
        "    kernel_size=3, # create a kernel: 3 x 3\n",
        ")"
      ]
    },
    {
      "cell_type": "code",
      "execution_count": 94,
      "metadata": {
        "colab": {
          "base_uri": "https://localhost:8080/"
        },
        "id": "-HwlTvZmmixI",
        "outputId": "2c0f5944-bcac-40f3-fcca-c0b17c7619ff"
      },
      "outputs": [
        {
          "data": {
            "text/plain": [
              "tensor([[[[1., 1., 0.],\n",
              "          [1., 1., 0.],\n",
              "          [1., 0., 1.]]]])"
            ]
          },
          "execution_count": 94,
          "metadata": {},
          "output_type": "execute_result"
        }
      ],
      "source": [
        "init_kernel_weight"
      ]
    },
    {
      "cell_type": "code",
      "execution_count": 95,
      "metadata": {
        "colab": {
          "base_uri": "https://localhost:8080/"
        },
        "id": "7OXWHtQ7f2nX",
        "outputId": "eff7c3f4-aab0-447e-e476-e5b35fe8ac95"
      },
      "outputs": [
        {
          "data": {
            "text/plain": [
              "Parameter containing:\n",
              "tensor([[[[1., 1., 0.],\n",
              "          [1., 1., 0.],\n",
              "          [1., 0., 1.]]]], requires_grad=True)"
            ]
          },
          "execution_count": 95,
          "metadata": {},
          "output_type": "execute_result"
        }
      ],
      "source": [
        "# init weight\n",
        "conv_layer.weight.data = init_kernel_weight\n",
        "conv_layer.weight"
      ]
    },
    {
      "cell_type": "code",
      "execution_count": 96,
      "metadata": {
        "colab": {
          "base_uri": "https://localhost:8080/"
        },
        "id": "U2wASpB_OIJ7",
        "outputId": "13510170-6c25-43c7-9cec-a1499cfb6de2"
      },
      "outputs": [
        {
          "data": {
            "text/plain": [
              "Parameter containing:\n",
              "tensor([-0.1148], requires_grad=True)"
            ]
          },
          "execution_count": 96,
          "metadata": {},
          "output_type": "execute_result"
        }
      ],
      "source": [
        "conv_layer.bias # random bias"
      ]
    },
    {
      "cell_type": "code",
      "execution_count": 97,
      "metadata": {
        "colab": {
          "base_uri": "https://localhost:8080/"
        },
        "id": "q_isavzQLKp-",
        "outputId": "2299084d-40a2-43e6-bea3-1f0d62e63d15"
      },
      "outputs": [
        {
          "data": {
            "text/plain": [
              "Parameter containing:\n",
              "tensor([1.], requires_grad=True)"
            ]
          },
          "execution_count": 97,
          "metadata": {},
          "output_type": "execute_result"
        }
      ],
      "source": [
        "# init bias\n",
        "conv_layer.bias =  nn.Parameter(\n",
        "    torch.tensor([1], dtype=torch.float32)\n",
        ")\n",
        "conv_layer.bias"
      ]
    },
    {
      "cell_type": "code",
      "execution_count": 98,
      "metadata": {
        "colab": {
          "base_uri": "https://localhost:8080/"
        },
        "id": "iJhA-0ULZT6Z",
        "outputId": "34eb4f84-ac3f-40aa-9b96-61bb4061f742"
      },
      "outputs": [
        {
          "data": {
            "text/plain": [
              "tensor([[[10., 14., 10., 14.],\n",
              "         [15., 12., 14., 11.],\n",
              "         [13., 18., 12., 15.],\n",
              "         [13., 14., 14., 19.]]], grad_fn=<SqueezeBackward1>)"
            ]
          },
          "execution_count": 98,
          "metadata": {},
          "output_type": "execute_result"
        }
      ],
      "source": [
        "output = conv_layer(input)\n",
        "output"
      ]
    },
    {
      "cell_type": "markdown",
      "metadata": {
        "id": "8YEHNFX0fo55"
      },
      "source": [
        "**Example 3**"
      ]
    },
    {
      "cell_type": "code",
      "execution_count": 99,
      "metadata": {
        "colab": {
          "base_uri": "https://localhost:8080/"
        },
        "id": "RluR3eElfwKU",
        "outputId": "7f7e91e0-eafe-4103-8441-b8568642d21a"
      },
      "outputs": [
        {
          "data": {
            "text/plain": [
              "tensor([[[2., 2., 1., 4., 1., 0.],\n",
              "         [0., 4., 0., 3., 3., 4.],\n",
              "         [0., 4., 1., 2., 0., 0.],\n",
              "         [2., 1., 4., 1., 3., 1.],\n",
              "         [4., 3., 1., 4., 2., 4.],\n",
              "         [2., 0., 0., 4., 3., 4.]]])"
            ]
          },
          "execution_count": 99,
          "metadata": {},
          "output_type": "execute_result"
        }
      ],
      "source": [
        "input"
      ]
    },
    {
      "cell_type": "code",
      "execution_count": 100,
      "metadata": {
        "id": "6TbxArLDfWnM"
      },
      "outputs": [],
      "source": [
        "# define convolutional layer\n",
        "conv_layer = nn.Conv2d(\n",
        "    in_channels=1,\n",
        "    out_channels=1,\n",
        "    kernel_size=(2, 3), # create a kernel: 2 x 3\n",
        ")"
      ]
    },
    {
      "cell_type": "code",
      "execution_count": 101,
      "metadata": {
        "colab": {
          "base_uri": "https://localhost:8080/"
        },
        "id": "OCwNJgI7iHHs",
        "outputId": "ef351275-4331-4899-a207-e8bc50c34a65"
      },
      "outputs": [
        {
          "data": {
            "text/plain": [
              "tensor([[[[1., 0., 1.],\n",
              "          [0., 1., 1.]]]])"
            ]
          },
          "execution_count": 101,
          "metadata": {},
          "output_type": "execute_result"
        }
      ],
      "source": [
        "init_kernel_weight = torch.randint(\n",
        "    high=2,\n",
        "    size=(conv_layer.weight.data.shape),\n",
        "    dtype=torch.float32\n",
        ")\n",
        "init_kernel_weight"
      ]
    },
    {
      "cell_type": "code",
      "execution_count": 102,
      "metadata": {
        "colab": {
          "base_uri": "https://localhost:8080/"
        },
        "id": "4yj3luVlfbsF",
        "outputId": "1c0d4583-6344-4606-8264-8e44e09295a7"
      },
      "outputs": [
        {
          "data": {
            "text/plain": [
              "Parameter containing:\n",
              "tensor([[[[1., 0., 1.],\n",
              "          [0., 1., 1.]]]], requires_grad=True)"
            ]
          },
          "execution_count": 102,
          "metadata": {},
          "output_type": "execute_result"
        }
      ],
      "source": [
        "# init weight & bias\n",
        "conv_layer.weight.data = init_kernel_weight\n",
        "conv_layer.weight"
      ]
    },
    {
      "cell_type": "code",
      "execution_count": 103,
      "metadata": {
        "colab": {
          "base_uri": "https://localhost:8080/"
        },
        "id": "lHX5_FuffiDW",
        "outputId": "6b330d00-cc9e-4695-bdae-034cbdd8ac68"
      },
      "outputs": [
        {
          "data": {
            "text/plain": [
              "Parameter containing:\n",
              "tensor([0.3672], requires_grad=True)"
            ]
          },
          "execution_count": 103,
          "metadata": {},
          "output_type": "execute_result"
        }
      ],
      "source": [
        "conv_layer.bias"
      ]
    },
    {
      "cell_type": "code",
      "execution_count": 104,
      "metadata": {
        "colab": {
          "base_uri": "https://localhost:8080/"
        },
        "id": "JXwHvcVhiTde",
        "outputId": "7e4f2696-1ae5-47da-fbf8-1dbf1f15c428"
      },
      "outputs": [
        {
          "data": {
            "text/plain": [
              "Parameter containing:\n",
              "tensor([1.], requires_grad=True)"
            ]
          },
          "execution_count": 104,
          "metadata": {},
          "output_type": "execute_result"
        }
      ],
      "source": [
        "# init bias\n",
        "conv_layer.bias =  nn.Parameter(\n",
        "    torch.tensor([1], dtype=torch.float32)\n",
        ")\n",
        "conv_layer.bias"
      ]
    },
    {
      "cell_type": "code",
      "execution_count": 105,
      "metadata": {
        "colab": {
          "base_uri": "https://localhost:8080/"
        },
        "id": "wFgzhvywJlNb",
        "outputId": "e18ba241-533e-4d5c-8861-e57c62e9b4cc"
      },
      "outputs": [
        {
          "data": {
            "text/plain": [
              "tensor([[[ 8., 10.,  9., 12.],\n",
              "         [ 6., 11.,  6.,  8.],\n",
              "         [ 7., 12.,  6.,  7.],\n",
              "         [11.,  8., 14.,  9.],\n",
              "         [ 6., 12., 11., 16.]]], grad_fn=<SqueezeBackward1>)"
            ]
          },
          "execution_count": 105,
          "metadata": {},
          "output_type": "execute_result"
        }
      ],
      "source": [
        "output = conv_layer(input)\n",
        "output"
      ]
    },
    {
      "cell_type": "markdown",
      "metadata": {
        "id": "aCNArNIXQgx2"
      },
      "source": [
        "### 1.2. Padding\n",
        "\n",
        "Padding is a technique used to preserve the spatial dimensions of the input volume. This is done by adding zeros around the border of the input volume.\n",
        "\n",
        "Padding helps to control the size of the output volume.\n",
        "\n",
        "Input: $M \\times N$\n",
        "\n",
        "Padding: $P \\times Q$\n",
        "\n",
        "New Input: $(M + 2P) \\times (N + 2Q)$\n",
        "\n",
        "Kernel: $K \\times O$\n",
        "\n",
        "Output: $(M + 2P - K - 1) \\times (N + 2Q - O - 1)$"
      ]
    },
    {
      "cell_type": "markdown",
      "metadata": {
        "id": "W4gp1Sgh2Bcs"
      },
      "source": [
        "**Example 1**"
      ]
    },
    {
      "cell_type": "code",
      "execution_count": 106,
      "metadata": {
        "colab": {
          "base_uri": "https://localhost:8080/"
        },
        "id": "MnoxvemsQkm3",
        "outputId": "82e9a367-a531-4e68-af36-4bb2e5872b72"
      },
      "outputs": [
        {
          "data": {
            "text/plain": [
              "tensor([[[2., 3., 1., 4.],\n",
              "         [1., 1., 3., 2.],\n",
              "         [0., 4., 3., 0.],\n",
              "         [3., 2., 2., 0.]]])"
            ]
          },
          "execution_count": 106,
          "metadata": {},
          "output_type": "execute_result"
        }
      ],
      "source": [
        "input = torch.randint(5, (1, 4, 4), dtype=torch.float32)\n",
        "input"
      ]
    },
    {
      "cell_type": "code",
      "execution_count": 107,
      "metadata": {
        "colab": {
          "base_uri": "https://localhost:8080/"
        },
        "id": "c7PKlK7Mtd52",
        "outputId": "b4de69b4-9555-4aa4-8853-47975814bf1b"
      },
      "outputs": [
        {
          "data": {
            "text/plain": [
              "tensor([[[[1., 1., 1.],\n",
              "          [1., 1., 1.]]]])"
            ]
          },
          "execution_count": 107,
          "metadata": {},
          "output_type": "execute_result"
        }
      ],
      "source": [
        "init_kernel_weight = torch.randint(\n",
        "    high=2,\n",
        "    size=(conv_layer.weight.data.shape),\n",
        "    dtype=torch.float32\n",
        ")\n",
        "init_kernel_weight"
      ]
    },
    {
      "cell_type": "code",
      "execution_count": 108,
      "metadata": {
        "id": "8WQOo2tvQsmD"
      },
      "outputs": [],
      "source": [
        "# define convolutional layer\n",
        "conv_layer = nn.Conv2d(\n",
        "    in_channels=1,\n",
        "    out_channels=1,\n",
        "    kernel_size=3, # create a kernel: 3 x 3\n",
        "    padding='same' # or 'valid'\n",
        "    # 'same' helps to obtain the same size of the input and output\n",
        ")"
      ]
    },
    {
      "cell_type": "code",
      "execution_count": 109,
      "metadata": {
        "colab": {
          "base_uri": "https://localhost:8080/"
        },
        "id": "9q9clh3mtXP2",
        "outputId": "ff25cbfd-aed5-4015-9dce-82744dbac5be"
      },
      "outputs": [
        {
          "data": {
            "text/plain": [
              "Parameter containing:\n",
              "tensor([[[[1., 1., 1.],\n",
              "          [1., 1., 1.]]]], requires_grad=True)"
            ]
          },
          "execution_count": 109,
          "metadata": {},
          "output_type": "execute_result"
        }
      ],
      "source": [
        "conv_layer.weight.data = init_kernel_weight\n",
        "conv_layer.weight"
      ]
    },
    {
      "cell_type": "code",
      "execution_count": 110,
      "metadata": {
        "colab": {
          "base_uri": "https://localhost:8080/"
        },
        "id": "oWvRnr4Mtl2u",
        "outputId": "4bf38e06-517f-4396-e776-899f05b5e53e"
      },
      "outputs": [
        {
          "data": {
            "text/plain": [
              "Parameter containing:\n",
              "tensor([1.], requires_grad=True)"
            ]
          },
          "execution_count": 110,
          "metadata": {},
          "output_type": "execute_result"
        }
      ],
      "source": [
        "# init bias\n",
        "conv_layer.bias =  nn.Parameter(\n",
        "    torch.tensor([1], dtype=torch.float32)\n",
        ")\n",
        "conv_layer.bias"
      ]
    },
    {
      "cell_type": "code",
      "execution_count": 111,
      "metadata": {
        "colab": {
          "base_uri": "https://localhost:8080/"
        },
        "id": "UKn-kjm3Q3Uq",
        "outputId": "46cd2f0c-4947-4d97-c7a8-064e02f843c5"
      },
      "outputs": [
        {
          "data": {
            "text/plain": [
              "tensor([[[ 8., 12., 15., 11.],\n",
              "         [ 7., 13., 14.,  9.],\n",
              "         [10., 15., 12.,  6.],\n",
              "         [ 6.,  8.,  5.,  3.]]], grad_fn=<SqueezeBackward1>)"
            ]
          },
          "execution_count": 111,
          "metadata": {},
          "output_type": "execute_result"
        }
      ],
      "source": [
        "output = conv_layer(input)\n",
        "output"
      ]
    },
    {
      "cell_type": "markdown",
      "metadata": {
        "id": "7-ruq3J-2EH5"
      },
      "source": [
        "**Example 2**"
      ]
    },
    {
      "cell_type": "code",
      "execution_count": 112,
      "metadata": {
        "colab": {
          "base_uri": "https://localhost:8080/"
        },
        "id": "oM-WfQWq0sxc",
        "outputId": "8208376d-c739-4eb5-ab44-ebb932485b0b"
      },
      "outputs": [
        {
          "data": {
            "text/plain": [
              "tensor([[[2., 3., 1., 4.],\n",
              "         [1., 1., 3., 2.],\n",
              "         [0., 4., 3., 0.],\n",
              "         [3., 2., 2., 0.]]])"
            ]
          },
          "execution_count": 112,
          "metadata": {},
          "output_type": "execute_result"
        }
      ],
      "source": [
        "input"
      ]
    },
    {
      "cell_type": "code",
      "execution_count": 113,
      "metadata": {
        "id": "-O6mibPA0o1-"
      },
      "outputs": [],
      "source": [
        "# define convolutional layer\n",
        "conv_layer = nn.Conv2d(\n",
        "    in_channels=1,\n",
        "    out_channels=1,\n",
        "    kernel_size=3, # create a kernel: 3 x 3\n",
        "    padding=(2, 1)\n",
        ")"
      ]
    },
    {
      "cell_type": "code",
      "execution_count": 114,
      "metadata": {
        "colab": {
          "base_uri": "https://localhost:8080/"
        },
        "id": "zFX-bFQ10w_O",
        "outputId": "737cc91f-afa5-4e8d-9fbb-d62c5e3488cf"
      },
      "outputs": [
        {
          "data": {
            "text/plain": [
              "Parameter containing:\n",
              "tensor([[[[1., 1., 1.],\n",
              "          [1., 1., 1.]]]], requires_grad=True)"
            ]
          },
          "execution_count": 114,
          "metadata": {},
          "output_type": "execute_result"
        }
      ],
      "source": [
        "conv_layer.weight.data = init_kernel_weight\n",
        "conv_layer.weight"
      ]
    },
    {
      "cell_type": "code",
      "execution_count": 115,
      "metadata": {
        "colab": {
          "base_uri": "https://localhost:8080/"
        },
        "id": "ieHcO4rt04CX",
        "outputId": "eaf36dad-4d90-468c-8b04-148946e07801"
      },
      "outputs": [
        {
          "data": {
            "text/plain": [
              "Parameter containing:\n",
              "tensor([1.], requires_grad=True)"
            ]
          },
          "execution_count": 115,
          "metadata": {},
          "output_type": "execute_result"
        }
      ],
      "source": [
        "# init bias\n",
        "conv_layer.bias =  nn.Parameter(\n",
        "    torch.tensor([1], dtype=torch.float32)\n",
        ")\n",
        "conv_layer.bias"
      ]
    },
    {
      "cell_type": "code",
      "execution_count": 116,
      "metadata": {
        "colab": {
          "base_uri": "https://localhost:8080/"
        },
        "id": "CZXZwbTU0qvf",
        "outputId": "52669580-4f6b-4828-b29e-af0782ef82aa"
      },
      "outputs": [
        {
          "data": {
            "text/plain": [
              "tensor([[[ 1.,  1.,  1.,  1.],\n",
              "         [ 6.,  7.,  9.,  6.],\n",
              "         [ 8., 12., 15., 11.],\n",
              "         [ 7., 13., 14.,  9.],\n",
              "         [10., 15., 12.,  6.],\n",
              "         [ 6.,  8.,  5.,  3.],\n",
              "         [ 1.,  1.,  1.,  1.]]], grad_fn=<SqueezeBackward1>)"
            ]
          },
          "execution_count": 116,
          "metadata": {},
          "output_type": "execute_result"
        }
      ],
      "source": [
        "output = conv_layer(input)\n",
        "output"
      ]
    },
    {
      "cell_type": "markdown",
      "metadata": {
        "id": "zxm9TPs17UTh"
      },
      "source": [
        "### 1.3. Stride\n",
        "\n",
        "Input: $M \\times N$\n",
        "\n",
        "Padding: $P \\times Q$\n",
        "\n",
        "New Input: $(M + 2P) \\times (N + 2Q)$\n",
        "\n",
        "Stride: $S \\times T$\n",
        "\n",
        "Kernel: $K \\times O$\n",
        "\n",
        "Output: $\\left\\lfloor \\dfrac{M + 2P - K}{S} \\right\\rfloor \\times \\left\\lfloor \\dfrac{N + 2Q - O}{T} \\right\\rfloor$"
      ]
    },
    {
      "cell_type": "markdown",
      "metadata": {
        "id": "TfRPwM0a8RDA"
      },
      "source": [
        "**Example 1**"
      ]
    },
    {
      "cell_type": "code",
      "execution_count": 117,
      "metadata": {
        "colab": {
          "base_uri": "https://localhost:8080/"
        },
        "id": "emBuo7r_3WXD",
        "outputId": "06d18e81-e792-4d84-ed6e-4ea9ecda4097"
      },
      "outputs": [
        {
          "data": {
            "text/plain": [
              "tensor([[[3., 4., 1., 2., 1., 0.],\n",
              "         [4., 0., 2., 4., 1., 2.],\n",
              "         [3., 1., 0., 1., 3., 1.],\n",
              "         [3., 0., 1., 4., 0., 0.],\n",
              "         [4., 0., 2., 0., 3., 3.],\n",
              "         [2., 2., 2., 1., 3., 2.]]])"
            ]
          },
          "execution_count": 117,
          "metadata": {},
          "output_type": "execute_result"
        }
      ],
      "source": [
        "input = torch.randint(5, (1, 6, 6), dtype=torch.float32)\n",
        "input"
      ]
    },
    {
      "cell_type": "code",
      "execution_count": 118,
      "metadata": {
        "id": "Xvi6KF-d7e9V"
      },
      "outputs": [],
      "source": [
        "# define convolutional layer\n",
        "conv_layer = nn.Conv2d(\n",
        "    in_channels=1,\n",
        "    out_channels=1,\n",
        "    kernel_size=3, # create a kernel: 3 x 3\n",
        "    stride=2\n",
        ")"
      ]
    },
    {
      "cell_type": "code",
      "execution_count": 119,
      "metadata": {
        "colab": {
          "base_uri": "https://localhost:8080/"
        },
        "id": "lJ4-dp-i7yd9",
        "outputId": "e83dd270-56a1-43c8-c504-a26054558a91"
      },
      "outputs": [
        {
          "data": {
            "text/plain": [
              "Parameter containing:\n",
              "tensor([[[[1., 1., 1.],\n",
              "          [1., 1., 1.]]]], requires_grad=True)"
            ]
          },
          "execution_count": 119,
          "metadata": {},
          "output_type": "execute_result"
        }
      ],
      "source": [
        "conv_layer.weight.data = init_kernel_weight\n",
        "conv_layer.weight"
      ]
    },
    {
      "cell_type": "code",
      "execution_count": 120,
      "metadata": {
        "colab": {
          "base_uri": "https://localhost:8080/"
        },
        "id": "Sybp1Q9t72WX",
        "outputId": "8fda8b6c-38d7-489d-82d8-798f9ea9b871"
      },
      "outputs": [
        {
          "data": {
            "text/plain": [
              "Parameter containing:\n",
              "tensor([1.], requires_grad=True)"
            ]
          },
          "execution_count": 120,
          "metadata": {},
          "output_type": "execute_result"
        }
      ],
      "source": [
        "# init bias\n",
        "conv_layer.bias =  nn.Parameter(\n",
        "    torch.tensor([1], dtype=torch.float32)\n",
        ")\n",
        "conv_layer.bias"
      ]
    },
    {
      "cell_type": "code",
      "execution_count": 121,
      "metadata": {
        "colab": {
          "base_uri": "https://localhost:8080/"
        },
        "id": "aWMTRefu75MU",
        "outputId": "4b405b4e-732b-4064-a59b-d4ec7455607d"
      },
      "outputs": [
        {
          "data": {
            "text/plain": [
              "tensor([[[15., 12.],\n",
              "         [ 9., 10.],\n",
              "         [13., 12.]]], grad_fn=<SqueezeBackward1>)"
            ]
          },
          "execution_count": 121,
          "metadata": {},
          "output_type": "execute_result"
        }
      ],
      "source": [
        "output = conv_layer(input)\n",
        "output"
      ]
    },
    {
      "cell_type": "markdown",
      "metadata": {
        "id": "PKXcQaoG8Tsx"
      },
      "source": [
        "**Example 2**"
      ]
    },
    {
      "cell_type": "code",
      "execution_count": 122,
      "metadata": {
        "colab": {
          "base_uri": "https://localhost:8080/"
        },
        "id": "z7PDEGL78Vbx",
        "outputId": "9697cc93-4e73-44ad-fa38-684b2caf5abd"
      },
      "outputs": [
        {
          "data": {
            "text/plain": [
              "tensor([[[3., 4., 1., 2., 1., 0.],\n",
              "         [4., 0., 2., 4., 1., 2.],\n",
              "         [3., 1., 0., 1., 3., 1.],\n",
              "         [3., 0., 1., 4., 0., 0.],\n",
              "         [4., 0., 2., 0., 3., 3.],\n",
              "         [2., 2., 2., 1., 3., 2.]]])"
            ]
          },
          "execution_count": 122,
          "metadata": {},
          "output_type": "execute_result"
        }
      ],
      "source": [
        "input"
      ]
    },
    {
      "cell_type": "code",
      "execution_count": 123,
      "metadata": {
        "id": "7FKb019HB9-E"
      },
      "outputs": [],
      "source": [
        "# define convolutional layer\n",
        "conv_layer = nn.Conv2d(\n",
        "    in_channels=1,\n",
        "    out_channels=1,\n",
        "    kernel_size=3, # create a kernel: 3 x 3\n",
        "    stride=(1, 2)\n",
        ")"
      ]
    },
    {
      "cell_type": "code",
      "execution_count": 124,
      "metadata": {
        "colab": {
          "base_uri": "https://localhost:8080/"
        },
        "id": "ZZwQFCX5CBf8",
        "outputId": "53b34e69-d404-4e89-a1e6-19d4f3c6bd86"
      },
      "outputs": [
        {
          "data": {
            "text/plain": [
              "Parameter containing:\n",
              "tensor([[[[1., 1., 1.],\n",
              "          [1., 1., 1.]]]], requires_grad=True)"
            ]
          },
          "execution_count": 124,
          "metadata": {},
          "output_type": "execute_result"
        }
      ],
      "source": [
        "conv_layer.weight.data = init_kernel_weight\n",
        "conv_layer.weight"
      ]
    },
    {
      "cell_type": "code",
      "execution_count": 125,
      "metadata": {
        "colab": {
          "base_uri": "https://localhost:8080/"
        },
        "id": "8gQ62owiCD3w",
        "outputId": "0a6cb8e7-4aee-43f4-fcdf-b829ead4c734"
      },
      "outputs": [
        {
          "data": {
            "text/plain": [
              "Parameter containing:\n",
              "tensor([1.], requires_grad=True)"
            ]
          },
          "execution_count": 125,
          "metadata": {},
          "output_type": "execute_result"
        }
      ],
      "source": [
        "# init bias\n",
        "conv_layer.bias =  nn.Parameter(\n",
        "    torch.tensor([1], dtype=torch.float32)\n",
        ")\n",
        "conv_layer.bias"
      ]
    },
    {
      "cell_type": "code",
      "execution_count": 126,
      "metadata": {
        "colab": {
          "base_uri": "https://localhost:8080/"
        },
        "id": "X_581pEcCGIH",
        "outputId": "7e0b0608-b82c-465e-9891-79ae314c3bb2"
      },
      "outputs": [
        {
          "data": {
            "text/plain": [
              "tensor([[[15., 12.],\n",
              "         [11., 12.],\n",
              "         [ 9., 10.],\n",
              "         [11., 11.],\n",
              "         [13., 12.]]], grad_fn=<SqueezeBackward1>)"
            ]
          },
          "execution_count": 126,
          "metadata": {},
          "output_type": "execute_result"
        }
      ],
      "source": [
        "output = conv_layer(input)\n",
        "output"
      ]
    },
    {
      "cell_type": "markdown",
      "metadata": {
        "id": "ASOeYuZGC6HO"
      },
      "source": [
        "**Example 3**"
      ]
    },
    {
      "cell_type": "code",
      "execution_count": 127,
      "metadata": {
        "colab": {
          "base_uri": "https://localhost:8080/"
        },
        "id": "LBT33VqLC8Uy",
        "outputId": "5d0696a5-8a51-4a76-ca13-f86eec33a94c"
      },
      "outputs": [
        {
          "data": {
            "text/plain": [
              "tensor([[[4., 2., 1., 3.],\n",
              "         [2., 3., 2., 1.],\n",
              "         [0., 0., 1., 0.],\n",
              "         [0., 1., 4., 2.]]])"
            ]
          },
          "execution_count": 127,
          "metadata": {},
          "output_type": "execute_result"
        }
      ],
      "source": [
        "input = torch.randint(5, (1, 4, 4), dtype=torch.float32)\n",
        "input"
      ]
    },
    {
      "cell_type": "code",
      "execution_count": 128,
      "metadata": {
        "id": "huzwbOYLC_jC"
      },
      "outputs": [],
      "source": [
        "# define convolutional layer\n",
        "conv_layer = nn.Conv2d(\n",
        "    in_channels=1,\n",
        "    out_channels=1,\n",
        "    kernel_size=3, # create a kernel: 3 x 3\n",
        "    padding=1,\n",
        "    stride=(2, 2)\n",
        ")"
      ]
    },
    {
      "cell_type": "code",
      "execution_count": 129,
      "metadata": {
        "colab": {
          "base_uri": "https://localhost:8080/"
        },
        "id": "4ba3554TDGUR",
        "outputId": "c4778175-9438-4877-cd07-3b00ef1e362a"
      },
      "outputs": [
        {
          "data": {
            "text/plain": [
              "Parameter containing:\n",
              "tensor([[[[1., 1., 1.],\n",
              "          [1., 1., 1.]]]], requires_grad=True)"
            ]
          },
          "execution_count": 129,
          "metadata": {},
          "output_type": "execute_result"
        }
      ],
      "source": [
        "conv_layer.weight.data = init_kernel_weight\n",
        "conv_layer.weight"
      ]
    },
    {
      "cell_type": "code",
      "execution_count": 130,
      "metadata": {
        "colab": {
          "base_uri": "https://localhost:8080/"
        },
        "id": "crUP2Dh1DJGX",
        "outputId": "7becc309-41f8-4f11-f9d8-c01903aec73b"
      },
      "outputs": [
        {
          "data": {
            "text/plain": [
              "Parameter containing:\n",
              "tensor([1.], requires_grad=True)"
            ]
          },
          "execution_count": 130,
          "metadata": {},
          "output_type": "execute_result"
        }
      ],
      "source": [
        "# init bias\n",
        "conv_layer.bias =  nn.Parameter(\n",
        "    torch.tensor([1], dtype=torch.float32)\n",
        ")\n",
        "conv_layer.bias"
      ]
    },
    {
      "cell_type": "code",
      "execution_count": 131,
      "metadata": {
        "colab": {
          "base_uri": "https://localhost:8080/"
        },
        "id": "FG6w4HB0DLfC",
        "outputId": "b28ffd10-df34-406f-e2da-015fe84d4968"
      },
      "outputs": [
        {
          "data": {
            "text/plain": [
              "tensor([[[7., 7.],\n",
              "         [6., 8.],\n",
              "         [2., 8.]]], grad_fn=<SqueezeBackward1>)"
            ]
          },
          "execution_count": 131,
          "metadata": {},
          "output_type": "execute_result"
        }
      ],
      "source": [
        "output = conv_layer(input)\n",
        "output"
      ]
    },
    {
      "cell_type": "markdown",
      "metadata": {
        "id": "Um64Zbg8HrLE"
      },
      "source": [
        "**Example 4**"
      ]
    },
    {
      "cell_type": "code",
      "execution_count": 132,
      "metadata": {
        "colab": {
          "base_uri": "https://localhost:8080/"
        },
        "id": "5n5jNXn4ESHU",
        "outputId": "01708ddd-0a41-42bf-db6c-ba545666b54b"
      },
      "outputs": [
        {
          "data": {
            "text/plain": [
              "tensor([[[4., 4., 3., 4., 2., 0., 4.],\n",
              "         [4., 1., 4., 0., 3., 2., 4.],\n",
              "         [0., 1., 0., 2., 0., 3., 3.],\n",
              "         [4., 1., 3., 1., 4., 1., 0.],\n",
              "         [3., 0., 1., 2., 4., 4., 0.]]])"
            ]
          },
          "execution_count": 132,
          "metadata": {},
          "output_type": "execute_result"
        }
      ],
      "source": [
        "input = torch.randint(5, (1, 5, 7), dtype=torch.float32)\n",
        "input"
      ]
    },
    {
      "cell_type": "code",
      "execution_count": 133,
      "metadata": {
        "id": "7fRpOHhiGNZQ"
      },
      "outputs": [],
      "source": [
        "# define convolutional layer\n",
        "conv_layer = nn.Conv2d(\n",
        "    in_channels=1,\n",
        "    out_channels=1,\n",
        "    kernel_size=3, # create a kernel: 3 x 3\n",
        "    padding=1,\n",
        "    stride=(2, 2)\n",
        ")"
      ]
    },
    {
      "cell_type": "code",
      "execution_count": 134,
      "metadata": {
        "colab": {
          "base_uri": "https://localhost:8080/"
        },
        "id": "S64186ufGPCj",
        "outputId": "abe20eb2-5041-4a67-cbe8-881931bf157f"
      },
      "outputs": [
        {
          "data": {
            "text/plain": [
              "tensor([[[-1.1715, -2.5614, -1.9058, -0.5903],\n",
              "         [-2.5259, -2.5943, -3.5760, -1.8482],\n",
              "         [-1.1248, -1.4748, -2.2698, -1.4850]]], grad_fn=<SqueezeBackward1>)"
            ]
          },
          "execution_count": 134,
          "metadata": {},
          "output_type": "execute_result"
        }
      ],
      "source": [
        "output = conv_layer(input)\n",
        "output"
      ]
    },
    {
      "cell_type": "markdown",
      "metadata": {
        "id": "tBcE1ZmmYGxw"
      },
      "source": [
        "## 2. Pooling Layer"
      ]
    },
    {
      "cell_type": "markdown",
      "metadata": {
        "id": "5agpga9yITI2"
      },
      "source": [
        "### 2.1. Max Pooling Layer"
      ]
    },
    {
      "cell_type": "markdown",
      "metadata": {
        "id": "onC2VWOgMecQ"
      },
      "source": [
        "**Example 1**"
      ]
    },
    {
      "cell_type": "code",
      "execution_count": 135,
      "metadata": {
        "colab": {
          "base_uri": "https://localhost:8080/"
        },
        "id": "xjs1vmFmIWWT",
        "outputId": "62bf5ab8-cdd7-460f-e478-f1abdca3ddff"
      },
      "outputs": [
        {
          "data": {
            "text/plain": [
              "tensor([[[3., 4., 2., 3., 3., 0.],\n",
              "         [0., 2., 4., 3., 4., 3.],\n",
              "         [1., 2., 0., 3., 4., 2.],\n",
              "         [2., 1., 3., 2., 0., 3.],\n",
              "         [2., 3., 2., 2., 2., 0.],\n",
              "         [4., 2., 2., 3., 2., 4.]]])"
            ]
          },
          "execution_count": 135,
          "metadata": {},
          "output_type": "execute_result"
        }
      ],
      "source": [
        "input = torch.randint(5, (1, 6, 6), dtype=torch.float32)\n",
        "input"
      ]
    },
    {
      "cell_type": "code",
      "execution_count": 136,
      "metadata": {
        "id": "np-wMgz_IcfA"
      },
      "outputs": [],
      "source": [
        "max_pool_layer = nn.MaxPool2d(kernel_size=2)"
      ]
    },
    {
      "cell_type": "code",
      "execution_count": 137,
      "metadata": {
        "colab": {
          "base_uri": "https://localhost:8080/"
        },
        "id": "L244ChgoImk8",
        "outputId": "a000142a-9962-4bfb-f993-c10db3da6d7c"
      },
      "outputs": [
        {
          "data": {
            "text/plain": [
              "tensor([[[4., 4., 4.],\n",
              "         [2., 3., 4.],\n",
              "         [4., 3., 4.]]])"
            ]
          },
          "execution_count": 137,
          "metadata": {},
          "output_type": "execute_result"
        }
      ],
      "source": [
        "output = max_pool_layer(input)\n",
        "output"
      ]
    },
    {
      "cell_type": "markdown",
      "metadata": {
        "id": "QDNf6H0mMhKA"
      },
      "source": [
        "**Example 2**"
      ]
    },
    {
      "cell_type": "code",
      "execution_count": 138,
      "metadata": {
        "colab": {
          "base_uri": "https://localhost:8080/"
        },
        "id": "1LiqgFTXKsNL",
        "outputId": "c82e0e02-4ff7-49ad-eead-294be298ea20"
      },
      "outputs": [
        {
          "data": {
            "text/plain": [
              "tensor([[[3., 4., 2., 3., 3., 0.],\n",
              "         [0., 2., 4., 3., 4., 3.],\n",
              "         [1., 2., 0., 3., 4., 2.],\n",
              "         [2., 1., 3., 2., 0., 3.],\n",
              "         [2., 3., 2., 2., 2., 0.],\n",
              "         [4., 2., 2., 3., 2., 4.]]])"
            ]
          },
          "execution_count": 138,
          "metadata": {},
          "output_type": "execute_result"
        }
      ],
      "source": [
        "input"
      ]
    },
    {
      "cell_type": "code",
      "execution_count": 139,
      "metadata": {
        "id": "VI2RPo0jMtPa"
      },
      "outputs": [],
      "source": [
        "max_pool_layer = nn.MaxPool2d(\n",
        "    kernel_size=2,\n",
        "    stride=(1, 2)\n",
        ")"
      ]
    },
    {
      "cell_type": "code",
      "execution_count": 140,
      "metadata": {
        "colab": {
          "base_uri": "https://localhost:8080/"
        },
        "id": "37aacVxTMy4_",
        "outputId": "83a52cde-e8e4-40ab-89f7-a9111def183a"
      },
      "outputs": [
        {
          "data": {
            "text/plain": [
              "tensor([[[4., 4., 4.],\n",
              "         [2., 4., 4.],\n",
              "         [2., 3., 4.],\n",
              "         [3., 3., 3.],\n",
              "         [4., 3., 4.]]])"
            ]
          },
          "execution_count": 140,
          "metadata": {},
          "output_type": "execute_result"
        }
      ],
      "source": [
        "output = max_pool_layer(input)\n",
        "output"
      ]
    },
    {
      "cell_type": "markdown",
      "metadata": {
        "id": "is_0ohnxNIDs"
      },
      "source": [
        "**Example 3**"
      ]
    },
    {
      "cell_type": "code",
      "execution_count": 141,
      "metadata": {
        "colab": {
          "base_uri": "https://localhost:8080/"
        },
        "id": "1JeoPCpXNKWB",
        "outputId": "5f5a2e1c-cc09-4244-e504-f04338ea8b8f"
      },
      "outputs": [
        {
          "data": {
            "text/plain": [
              "tensor([[[3., 4., 2., 3., 3., 0.],\n",
              "         [0., 2., 4., 3., 4., 3.],\n",
              "         [1., 2., 0., 3., 4., 2.],\n",
              "         [2., 1., 3., 2., 0., 3.],\n",
              "         [2., 3., 2., 2., 2., 0.],\n",
              "         [4., 2., 2., 3., 2., 4.]]])"
            ]
          },
          "execution_count": 141,
          "metadata": {},
          "output_type": "execute_result"
        }
      ],
      "source": [
        "input"
      ]
    },
    {
      "cell_type": "code",
      "execution_count": 142,
      "metadata": {
        "id": "v_nSZEhjNY8-"
      },
      "outputs": [],
      "source": [
        "max_pool_layer = nn.MaxPool2d(\n",
        "    kernel_size=(2, 3),\n",
        "    stride=(2, 2),\n",
        "    padding=1\n",
        ")"
      ]
    },
    {
      "cell_type": "code",
      "execution_count": 143,
      "metadata": {
        "colab": {
          "base_uri": "https://localhost:8080/"
        },
        "id": "yGqtkB96NeMN",
        "outputId": "1047c7f0-9a80-4f7e-f376-ca485d20d3cc"
      },
      "outputs": [
        {
          "data": {
            "text/plain": [
              "tensor([[[4., 4., 3.],\n",
              "         [2., 4., 4.],\n",
              "         [3., 3., 3.],\n",
              "         [4., 3., 4.]]])"
            ]
          },
          "execution_count": 143,
          "metadata": {},
          "output_type": "execute_result"
        }
      ],
      "source": [
        "output = max_pool_layer(input)\n",
        "output"
      ]
    },
    {
      "cell_type": "markdown",
      "metadata": {
        "id": "oIRfho4cNhhW"
      },
      "source": [
        "**Example 4: MaxPool1d**"
      ]
    },
    {
      "cell_type": "code",
      "execution_count": 144,
      "metadata": {
        "colab": {
          "base_uri": "https://localhost:8080/"
        },
        "id": "suBcxzl7NkOx",
        "outputId": "1cad70bc-0841-4a48-f666-4a6e7e98215e"
      },
      "outputs": [
        {
          "data": {
            "text/plain": [
              "tensor([[[3., 4., 2., 3., 3., 0.],\n",
              "         [0., 2., 4., 3., 4., 3.],\n",
              "         [1., 2., 0., 3., 4., 2.],\n",
              "         [2., 1., 3., 2., 0., 3.],\n",
              "         [2., 3., 2., 2., 2., 0.],\n",
              "         [4., 2., 2., 3., 2., 4.]]])"
            ]
          },
          "execution_count": 144,
          "metadata": {},
          "output_type": "execute_result"
        }
      ],
      "source": [
        "input"
      ]
    },
    {
      "cell_type": "code",
      "execution_count": 145,
      "metadata": {
        "id": "SWKtfYnXKdRD"
      },
      "outputs": [],
      "source": [
        "max_pool_layer = nn.MaxPool1d(\n",
        "    kernel_size=3,\n",
        "    stride=3\n",
        ")"
      ]
    },
    {
      "cell_type": "code",
      "execution_count": 146,
      "metadata": {
        "colab": {
          "base_uri": "https://localhost:8080/"
        },
        "id": "ovTuXKqMKlQF",
        "outputId": "6f9654bd-1c9e-43d0-91ab-a1b3f9711495"
      },
      "outputs": [
        {
          "data": {
            "text/plain": [
              "tensor([[[4., 3.],\n",
              "         [4., 4.],\n",
              "         [2., 4.],\n",
              "         [3., 3.],\n",
              "         [3., 2.],\n",
              "         [4., 4.]]])"
            ]
          },
          "execution_count": 146,
          "metadata": {},
          "output_type": "execute_result"
        }
      ],
      "source": [
        "max_pool_layer(input)"
      ]
    },
    {
      "cell_type": "markdown",
      "metadata": {
        "id": "mqHNJD7eShGh"
      },
      "source": [
        "### 2.2. Average Pooling Layer"
      ]
    },
    {
      "cell_type": "markdown",
      "metadata": {
        "id": "H1atuQI6Vo2r"
      },
      "source": [
        "**Example 1**"
      ]
    },
    {
      "cell_type": "code",
      "execution_count": 147,
      "metadata": {
        "colab": {
          "base_uri": "https://localhost:8080/"
        },
        "id": "RUwMfK92SSK6",
        "outputId": "790e0535-7f7e-43fb-bce2-b06c1f7b5f45"
      },
      "outputs": [
        {
          "data": {
            "text/plain": [
              "tensor([[[3., 4., 2., 3., 3., 0.],\n",
              "         [0., 2., 4., 3., 4., 3.],\n",
              "         [1., 2., 0., 3., 4., 2.],\n",
              "         [2., 1., 3., 2., 0., 3.],\n",
              "         [2., 3., 2., 2., 2., 0.],\n",
              "         [4., 2., 2., 3., 2., 4.]]])"
            ]
          },
          "execution_count": 147,
          "metadata": {},
          "output_type": "execute_result"
        }
      ],
      "source": [
        "input"
      ]
    },
    {
      "cell_type": "code",
      "execution_count": 148,
      "metadata": {
        "id": "E0W-MF3lTItJ"
      },
      "outputs": [],
      "source": [
        "avg_pool_layer = nn.AvgPool2d(\n",
        "    kernel_size=(3, 2),\n",
        "    stride=(2, 2)\n",
        ")"
      ]
    },
    {
      "cell_type": "code",
      "execution_count": 149,
      "metadata": {
        "colab": {
          "base_uri": "https://localhost:8080/"
        },
        "id": "m1pP-zAfTP7N",
        "outputId": "49b3e714-5a44-47e8-a724-0a9c59239c64"
      },
      "outputs": [
        {
          "data": {
            "text/plain": [
              "tensor([[[2.0000, 2.5000, 2.6667],\n",
              "         [1.8333, 2.0000, 1.8333]]])"
            ]
          },
          "execution_count": 149,
          "metadata": {},
          "output_type": "execute_result"
        }
      ],
      "source": [
        "output = avg_pool_layer(input)\n",
        "output"
      ]
    },
    {
      "cell_type": "markdown",
      "metadata": {
        "id": "OPLyfJegVr8K"
      },
      "source": [
        "**Example 2**"
      ]
    },
    {
      "cell_type": "code",
      "execution_count": 150,
      "metadata": {
        "colab": {
          "base_uri": "https://localhost:8080/"
        },
        "id": "3vT0O6LqULuE",
        "outputId": "d8212af8-d854-409b-8d74-224df60be98d"
      },
      "outputs": [
        {
          "data": {
            "text/plain": [
              "tensor([[[3., 4., 2., 3., 3., 0.],\n",
              "         [0., 2., 4., 3., 4., 3.],\n",
              "         [1., 2., 0., 3., 4., 2.],\n",
              "         [2., 1., 3., 2., 0., 3.],\n",
              "         [2., 3., 2., 2., 2., 0.],\n",
              "         [4., 2., 2., 3., 2., 4.]]])"
            ]
          },
          "execution_count": 150,
          "metadata": {},
          "output_type": "execute_result"
        }
      ],
      "source": [
        "input"
      ]
    },
    {
      "cell_type": "code",
      "execution_count": 151,
      "metadata": {
        "id": "dKJgAGUJVwcE"
      },
      "outputs": [],
      "source": [
        "avg_pool_layer = nn.AvgPool1d(\n",
        "    kernel_size=3,\n",
        "    stride=3\n",
        ")"
      ]
    },
    {
      "cell_type": "code",
      "execution_count": 152,
      "metadata": {
        "colab": {
          "base_uri": "https://localhost:8080/"
        },
        "id": "XlNMS8mOV3hB",
        "outputId": "8e70fb5c-a292-49c3-b126-072479cf5755"
      },
      "outputs": [
        {
          "data": {
            "text/plain": [
              "tensor([[[3.0000, 2.0000],\n",
              "         [2.0000, 3.3333],\n",
              "         [1.0000, 3.0000],\n",
              "         [2.0000, 1.6667],\n",
              "         [2.3333, 1.3333],\n",
              "         [2.6667, 3.0000]]])"
            ]
          },
          "execution_count": 152,
          "metadata": {},
          "output_type": "execute_result"
        }
      ],
      "source": [
        "output = avg_pool_layer(input)\n",
        "output"
      ]
    },
    {
      "cell_type": "markdown",
      "metadata": {
        "id": "8Lgufu14YVS8"
      },
      "source": [
        "## 3. Flatten"
      ]
    },
    {
      "cell_type": "code",
      "execution_count": 153,
      "metadata": {
        "colab": {
          "base_uri": "https://localhost:8080/"
        },
        "id": "tF_QO6XcYXzw",
        "outputId": "c0f44852-4d3d-4628-93f7-1413cef4952d"
      },
      "outputs": [
        {
          "data": {
            "text/plain": [
              "tensor([[[3., 0.],\n",
              "         [4., 2.],\n",
              "         [2., 1.]]])"
            ]
          },
          "execution_count": 153,
          "metadata": {},
          "output_type": "execute_result"
        }
      ],
      "source": [
        "input = torch.randint(5, (1, 3, 2), dtype=torch.float32)\n",
        "input"
      ]
    },
    {
      "cell_type": "code",
      "execution_count": 154,
      "metadata": {
        "id": "pBZGanYSYi0i"
      },
      "outputs": [],
      "source": [
        "flatten_layer = nn.Flatten()"
      ]
    },
    {
      "cell_type": "code",
      "execution_count": 155,
      "metadata": {
        "colab": {
          "base_uri": "https://localhost:8080/"
        },
        "id": "9456QMjzYlI2",
        "outputId": "40f539af-1302-4181-e4fe-84f9b9b8f6e5"
      },
      "outputs": [
        {
          "data": {
            "text/plain": [
              "tensor([[3., 0., 4., 2., 2., 1.]])"
            ]
          },
          "execution_count": 155,
          "metadata": {},
          "output_type": "execute_result"
        }
      ],
      "source": [
        "output = flatten_layer(input)\n",
        "output"
      ]
    },
    {
      "cell_type": "markdown",
      "metadata": {
        "id": "AfsSNZI3zqDy"
      },
      "source": [
        "# Excercise"
      ]
    },
    {
      "cell_type": "markdown",
      "metadata": {
        "id": "08Nu5psQ0agy"
      },
      "source": [
        "### Ex01"
      ]
    },
    {
      "cell_type": "code",
      "execution_count": 156,
      "metadata": {
        "id": "UZtIh4YTzvtY"
      },
      "outputs": [],
      "source": [
        "# input\n",
        "input = torch.tensor([[[2., 2., 1., 4., 1., 0.],\n",
        "                       [0., 4., 0., 3., 3., 4.],\n",
        "                       [0., 4., 1., 2., 0., 0.],\n",
        "                       [2., 1., 4., 1., 3., 1.]]])\n",
        "\n",
        "# define convolutional layer\n",
        "conv_layer = nn.Conv2d(\n",
        "    in_channels=1,\n",
        "    out_channels=1,\n",
        "    kernel_size=3, # create a kernel: 3 x 3\n",
        "    bias=False\n",
        ")"
      ]
    },
    {
      "cell_type": "code",
      "execution_count": 157,
      "metadata": {
        "colab": {
          "base_uri": "https://localhost:8080/"
        },
        "id": "DPpi_Q0Bz5JW",
        "outputId": "d778cfe2-0a31-4152-81cf-d67fbc8c7044"
      },
      "outputs": [
        {
          "data": {
            "text/plain": [
              "tensor([[[[1., 1., 0.],\n",
              "          [1., 0., 0.],\n",
              "          [0., 0., 0.]]]])"
            ]
          },
          "execution_count": 157,
          "metadata": {},
          "output_type": "execute_result"
        }
      ],
      "source": [
        "init_kernel_weight = torch.tensor([[[[1., 1., 0.],\n",
        "                                     [1., 0., 0.],\n",
        "                                     [0., 0., 0.]]]])\n",
        "\n",
        "init_kernel_weight"
      ]
    },
    {
      "cell_type": "code",
      "execution_count": 158,
      "metadata": {
        "colab": {
          "base_uri": "https://localhost:8080/"
        },
        "id": "lPVc6xktz5aN",
        "outputId": "31961f08-be2b-49c8-ce57-ddf3db7959a7"
      },
      "outputs": [
        {
          "data": {
            "text/plain": [
              "Parameter containing:\n",
              "tensor([[[[1., 1., 0.],\n",
              "          [1., 0., 0.],\n",
              "          [0., 0., 0.]]]], requires_grad=True)"
            ]
          },
          "execution_count": 158,
          "metadata": {},
          "output_type": "execute_result"
        }
      ],
      "source": [
        "# init weight\n",
        "conv_layer.weight.data = init_kernel_weight\n",
        "conv_layer.weight"
      ]
    },
    {
      "cell_type": "code",
      "execution_count": 159,
      "metadata": {
        "colab": {
          "base_uri": "https://localhost:8080/"
        },
        "id": "sxrYfA8Fz65m",
        "outputId": "6e742d87-1cdf-484f-eb38-e717ce5b8846"
      },
      "outputs": [
        {
          "data": {
            "text/plain": [
              "tensor([[[4., 7., 5., 8.],\n",
              "         [4., 8., 4., 8.]]], grad_fn=<SqueezeBackward1>)"
            ]
          },
          "execution_count": 159,
          "metadata": {},
          "output_type": "execute_result"
        }
      ],
      "source": [
        "output = conv_layer(input)\n",
        "output"
      ]
    },
    {
      "cell_type": "code",
      "execution_count": 160,
      "metadata": {
        "colab": {
          "base_uri": "https://localhost:8080/"
        },
        "id": "sOtD4nOaz87T",
        "outputId": "c830c6bf-6256-4f4f-824f-1a85634d788a"
      },
      "outputs": [
        {
          "data": {
            "text/plain": [
              "Parameter containing:\n",
              "tensor([2.], requires_grad=True)"
            ]
          },
          "execution_count": 160,
          "metadata": {},
          "output_type": "execute_result"
        }
      ],
      "source": [
        "# init bias\n",
        "conv_layer.bias =  nn.Parameter(\n",
        "    torch.tensor([2], dtype=torch.float32)\n",
        ")\n",
        "conv_layer.bias"
      ]
    },
    {
      "cell_type": "code",
      "execution_count": 161,
      "metadata": {
        "colab": {
          "base_uri": "https://localhost:8080/"
        },
        "id": "soNpBSuyz-C-",
        "outputId": "926f391d-efcd-49f1-c730-dcdd6a15b6e2"
      },
      "outputs": [
        {
          "data": {
            "text/plain": [
              "tensor([[[ 6.,  9.,  7., 10.],\n",
              "         [ 6., 10.,  6., 10.]]], grad_fn=<SqueezeBackward1>)"
            ]
          },
          "execution_count": 161,
          "metadata": {},
          "output_type": "execute_result"
        }
      ],
      "source": [
        "output = conv_layer(input)\n",
        "output\n"
      ]
    },
    {
      "cell_type": "markdown",
      "metadata": {
        "id": "r5unknMn0WLG"
      },
      "source": [
        "### Ex02"
      ]
    },
    {
      "cell_type": "code",
      "execution_count": 162,
      "metadata": {
        "id": "6o6UXl_e0Zhv"
      },
      "outputs": [],
      "source": [
        "# input\n",
        "input = torch.tensor([[[2., 4., 2.],\n",
        "                       [3., 3., 4.],\n",
        "                       [3., 2., 0.],\n",
        "                       [4., 0., 4.],\n",
        "                       [1., 4., 0.]]])\n",
        "\n",
        "# define convolutional layer\n",
        "conv_layer = nn.Conv2d(\n",
        "    in_channels=1,\n",
        "    out_channels=1,\n",
        "    kernel_size=3, # create a kernel: 3 x 3\n",
        "    bias=False,\n",
        "    padding=1\n",
        ")"
      ]
    },
    {
      "cell_type": "code",
      "execution_count": 163,
      "metadata": {
        "colab": {
          "base_uri": "https://localhost:8080/"
        },
        "id": "6-s4Tbfv0dvO",
        "outputId": "6ef01119-96ef-403e-d67e-15f40c0e4c06"
      },
      "outputs": [
        {
          "data": {
            "text/plain": [
              "tensor([[[2., 4., 2.],\n",
              "         [3., 3., 4.],\n",
              "         [3., 2., 0.],\n",
              "         [4., 0., 4.],\n",
              "         [1., 4., 0.]]])"
            ]
          },
          "execution_count": 163,
          "metadata": {},
          "output_type": "execute_result"
        }
      ],
      "source": [
        "input"
      ]
    },
    {
      "cell_type": "code",
      "execution_count": 164,
      "metadata": {
        "colab": {
          "base_uri": "https://localhost:8080/"
        },
        "id": "EZ3hfWoj0gpP",
        "outputId": "4e2c17cf-287e-4cac-acd0-cb8f632aee28"
      },
      "outputs": [
        {
          "data": {
            "text/plain": [
              "tensor([[[[1., 0., 1.],\n",
              "          [1., 1., 1.],\n",
              "          [0., 1., 0.]]]])"
            ]
          },
          "execution_count": 164,
          "metadata": {},
          "output_type": "execute_result"
        }
      ],
      "source": [
        "init_kernel_weight = torch.tensor([[[[1., 0., 1.],\n",
        "                                     [1., 1., 1.],\n",
        "                                     [0., 1., 0.]]]])\n",
        "\n",
        "init_kernel_weight"
      ]
    },
    {
      "cell_type": "code",
      "execution_count": 165,
      "metadata": {
        "colab": {
          "base_uri": "https://localhost:8080/"
        },
        "id": "WLAKjcBg0l1P",
        "outputId": "9b31ded8-9056-437a-ed32-cedf7865540f"
      },
      "outputs": [
        {
          "data": {
            "text/plain": [
              "Parameter containing:\n",
              "tensor([[[[1., 0., 1.],\n",
              "          [1., 1., 1.],\n",
              "          [0., 1., 0.]]]], requires_grad=True)"
            ]
          },
          "execution_count": 165,
          "metadata": {},
          "output_type": "execute_result"
        }
      ],
      "source": [
        "# init weight\n",
        "conv_layer.weight.data = init_kernel_weight\n",
        "conv_layer.weight"
      ]
    },
    {
      "cell_type": "code",
      "execution_count": 166,
      "metadata": {
        "colab": {
          "base_uri": "https://localhost:8080/"
        },
        "id": "BjNTKLcs0pPd",
        "outputId": "90da7288-02bf-40cb-a638-bc3c79501462"
      },
      "outputs": [
        {
          "data": {
            "text/plain": [
              "Parameter containing:\n",
              "tensor([2.], requires_grad=True)"
            ]
          },
          "execution_count": 166,
          "metadata": {},
          "output_type": "execute_result"
        }
      ],
      "source": [
        "# init bias\n",
        "conv_layer.bias =  nn.Parameter(\n",
        "    torch.tensor([2], dtype=torch.float32)\n",
        ")\n",
        "conv_layer.bias"
      ]
    },
    {
      "cell_type": "code",
      "execution_count": 167,
      "metadata": {
        "colab": {
          "base_uri": "https://localhost:8080/"
        },
        "id": "3zxkKKoO0qkm",
        "outputId": "b4be30dc-43da-41ce-bcc0-38d2e978236e"
      },
      "outputs": [
        {
          "data": {
            "text/plain": [
              "tensor([[[11., 13., 12.],\n",
              "         [15., 18., 13.],\n",
              "         [14., 14., 11.],\n",
              "         [ 9., 17.,  8.],\n",
              "         [ 7., 15.,  6.]]], grad_fn=<SqueezeBackward1>)"
            ]
          },
          "execution_count": 167,
          "metadata": {},
          "output_type": "execute_result"
        }
      ],
      "source": [
        "output = conv_layer(input)\n",
        "output"
      ]
    },
    {
      "cell_type": "code",
      "execution_count": 168,
      "metadata": {
        "id": "XJh6ZKZQ0rok"
      },
      "outputs": [],
      "source": [
        "conv_layer.stride = (2, 2)"
      ]
    },
    {
      "cell_type": "code",
      "execution_count": 169,
      "metadata": {
        "colab": {
          "base_uri": "https://localhost:8080/"
        },
        "id": "s1gOO-Z20s7K",
        "outputId": "ebf6adf4-e6a2-4b4a-8742-86f7adaea2a5"
      },
      "outputs": [
        {
          "data": {
            "text/plain": [
              "tensor([[[11., 12.],\n",
              "         [14., 11.],\n",
              "         [ 7.,  6.]]], grad_fn=<SqueezeBackward1>)"
            ]
          },
          "execution_count": 169,
          "metadata": {},
          "output_type": "execute_result"
        }
      ],
      "source": [
        "output = conv_layer(input)\n",
        "output"
      ]
    },
    {
      "cell_type": "markdown",
      "metadata": {
        "id": "kvyr4sBX0vLU"
      },
      "source": [
        "### Ex03 - Conv + Pooling"
      ]
    },
    {
      "cell_type": "code",
      "execution_count": 170,
      "metadata": {
        "id": "guC24lHh09Ez"
      },
      "outputs": [],
      "source": [
        "# input\n",
        "input = torch.tensor([[[2., 4., 2.],\n",
        "                       [1., 3., 2.],\n",
        "                       [3., 2., 1.],\n",
        "                       [0., 0., 1.],\n",
        "                       [0., 0., 1.]]])\n",
        "# define convolutional layer\n",
        "conv_layer = nn.Conv2d(\n",
        "    in_channels=1,\n",
        "    out_channels=1,\n",
        "    kernel_size=(3,2), # create a kernel: 3 x 3\n",
        "    bias=False,\n",
        ")"
      ]
    },
    {
      "cell_type": "code",
      "execution_count": 171,
      "metadata": {
        "colab": {
          "base_uri": "https://localhost:8080/"
        },
        "id": "gI0rdKll0-C9",
        "outputId": "49c477e7-6904-40b5-948b-5fd32ae49ab4"
      },
      "outputs": [
        {
          "data": {
            "text/plain": [
              "tensor([[[2., 4., 2.],\n",
              "         [1., 3., 2.],\n",
              "         [3., 2., 1.],\n",
              "         [0., 0., 1.],\n",
              "         [0., 0., 1.]]])"
            ]
          },
          "execution_count": 171,
          "metadata": {},
          "output_type": "execute_result"
        }
      ],
      "source": [
        "input"
      ]
    },
    {
      "cell_type": "code",
      "execution_count": 172,
      "metadata": {
        "colab": {
          "base_uri": "https://localhost:8080/"
        },
        "id": "Z-8eu96R0_Id",
        "outputId": "924b9c78-9af5-4d8d-82c0-c10d6e63c68f"
      },
      "outputs": [
        {
          "data": {
            "text/plain": [
              "tensor([[[[1., 1.],\n",
              "          [1., 0.],\n",
              "          [0., 0.]]]])"
            ]
          },
          "execution_count": 172,
          "metadata": {},
          "output_type": "execute_result"
        }
      ],
      "source": [
        "init_kernel_weight = torch.tensor([[[[1., 1.],\n",
        "                                     [1., 0.],\n",
        "                                     [0., 0.]]]])\n",
        "\n",
        "init_kernel_weight"
      ]
    },
    {
      "cell_type": "code",
      "execution_count": 173,
      "metadata": {
        "colab": {
          "base_uri": "https://localhost:8080/"
        },
        "id": "8bpP2TG71AaY",
        "outputId": "28716bd8-fcb5-47a9-d4e6-89e08b101047"
      },
      "outputs": [
        {
          "data": {
            "text/plain": [
              "Parameter containing:\n",
              "tensor([[[[1., 1.],\n",
              "          [1., 0.],\n",
              "          [0., 0.]]]], requires_grad=True)"
            ]
          },
          "execution_count": 173,
          "metadata": {},
          "output_type": "execute_result"
        }
      ],
      "source": [
        "# init weight\n",
        "conv_layer.weight.data = init_kernel_weight\n",
        "conv_layer.weight"
      ]
    },
    {
      "cell_type": "code",
      "execution_count": 174,
      "metadata": {
        "colab": {
          "base_uri": "https://localhost:8080/"
        },
        "id": "zM1ul0MN1Bt1",
        "outputId": "547e3613-866e-4cc4-f8be-40ba59911da6"
      },
      "outputs": [
        {
          "data": {
            "text/plain": [
              "Parameter containing:\n",
              "tensor([1.], requires_grad=True)"
            ]
          },
          "execution_count": 174,
          "metadata": {},
          "output_type": "execute_result"
        }
      ],
      "source": [
        "# init bias\n",
        "conv_layer.bias =  nn.Parameter(\n",
        "    torch.tensor([1], dtype=torch.float32)\n",
        ")\n",
        "conv_layer.bias"
      ]
    },
    {
      "cell_type": "code",
      "execution_count": 175,
      "metadata": {
        "colab": {
          "base_uri": "https://localhost:8080/"
        },
        "id": "U4XHweXv1C1-",
        "outputId": "abe39b6f-6006-4a5a-bdc1-8c8a33864c45"
      },
      "outputs": [
        {
          "data": {
            "text/plain": [
              "tensor([[[ 8., 10.],\n",
              "         [ 8.,  8.],\n",
              "         [ 6.,  4.]]], grad_fn=<SqueezeBackward1>)"
            ]
          },
          "execution_count": 175,
          "metadata": {},
          "output_type": "execute_result"
        }
      ],
      "source": [
        "max_pool_layer = nn.MaxPool2d(kernel_size=(1, 2))\n",
        "avg_pool_layer = nn.AvgPool2d(kernel_size=(1, 2))\n",
        "\n",
        "output = conv_layer(input)\n",
        "output"
      ]
    },
    {
      "cell_type": "code",
      "execution_count": 176,
      "metadata": {
        "colab": {
          "base_uri": "https://localhost:8080/"
        },
        "id": "o-2We-yK1Duw",
        "outputId": "2a198dd7-f467-4052-a97a-3d5688dfa6aa"
      },
      "outputs": [
        {
          "data": {
            "text/plain": [
              "tensor([[[10.],\n",
              "         [ 8.],\n",
              "         [ 6.]]], grad_fn=<MaxPool2DWithIndicesBackward0>)"
            ]
          },
          "execution_count": 176,
          "metadata": {},
          "output_type": "execute_result"
        }
      ],
      "source": [
        "max_pool_layer(output)"
      ]
    },
    {
      "cell_type": "code",
      "execution_count": 177,
      "metadata": {
        "colab": {
          "base_uri": "https://localhost:8080/"
        },
        "id": "RHbk_3Q71FB-",
        "outputId": "13b801a5-1184-430f-f286-fd99d882a075"
      },
      "outputs": [
        {
          "data": {
            "text/plain": [
              "tensor([[[9.],\n",
              "         [8.],\n",
              "         [5.]]], grad_fn=<AvgPool2DBackward0>)"
            ]
          },
          "execution_count": 177,
          "metadata": {},
          "output_type": "execute_result"
        }
      ],
      "source": [
        "avg_pool_layer(output)"
      ]
    },
    {
      "cell_type": "markdown",
      "metadata": {
        "id": "bVP64I-Y1GIW"
      },
      "source": [
        "### Ex04 - Convolutions on Gray Scale Images"
      ]
    },
    {
      "cell_type": "code",
      "execution_count": 178,
      "metadata": {
        "id": "dzuR-nef1Zgk"
      },
      "outputs": [],
      "source": [
        "# define convolutional layer\n",
        "conv_layer = nn.Conv2d(\n",
        "    in_channels=1,\n",
        "    out_channels=1,\n",
        "    kernel_size=(3,3), # create a kernel: 3 x 3\n",
        "    bias=False,\n",
        ")"
      ]
    },
    {
      "cell_type": "code",
      "execution_count": 179,
      "metadata": {
        "colab": {
          "base_uri": "https://localhost:8080/"
        },
        "id": "G_MUpUeK1aZD",
        "outputId": "092dd6cb-375c-44e6-c143-f18947198e00"
      },
      "outputs": [
        {
          "name": "stdout",
          "output_type": "stream",
          "text": [
            "/bin/bash: line 1: gdown: command not found\n"
          ]
        }
      ],
      "source": [
        "!gdown 12Q7SpIVm4W2hT6QsiEuARLl5xXKMK8pE"
      ]
    },
    {
      "cell_type": "code",
      "execution_count": null,
      "metadata": {},
      "outputs": [],
      "source": [
        "import pandas as pd\n",
        "import numpy as np\n",
        "import cv2\n",
        "\n",
        "test_df = pd.read_csv(\"test.csv\")"
      ]
    },
    {
      "cell_type": "code",
      "execution_count": null,
      "metadata": {
        "colab": {
          "base_uri": "https://localhost:8080/"
        },
        "id": "sbx11If61dEL",
        "outputId": "faab723d-6bbd-43a3-8b93-9d426ad92cd5"
      },
      "outputs": [
        {
          "data": {
            "text/plain": [
              "(28, 28)"
            ]
          },
          "execution_count": 97,
          "metadata": {},
          "output_type": "execute_result"
        }
      ],
      "source": [
        "img = np.array(test_df.iloc[1].values).astype(np.uint8).reshape((28, 28))\n",
        "img.shape"
      ]
    },
    {
      "cell_type": "code",
      "execution_count": null,
      "metadata": {
        "colab": {
          "base_uri": "https://localhost:8080/"
        },
        "id": "5LvCcW4A1ifj",
        "outputId": "5f38824f-d30f-4d3a-c005-1732beac7f1a"
      },
      "outputs": [
        {
          "data": {
            "text/plain": [
              "(7, 7)"
            ]
          },
          "execution_count": 98,
          "metadata": {},
          "output_type": "execute_result"
        }
      ],
      "source": [
        "resized_img =  cv2.resize(img, (7, 7))\n",
        "resized_img.shape"
      ]
    },
    {
      "cell_type": "code",
      "execution_count": null,
      "metadata": {
        "colab": {
          "base_uri": "https://localhost:8080/"
        },
        "id": "waKGXNoz1itz",
        "outputId": "df723e6a-d1e8-40d4-a4d0-f2d1927cbe47"
      },
      "outputs": [
        {
          "data": {
            "text/plain": [
              "array([[  0,   0,   0,   0,   0,   0,   0],\n",
              "       [  0,   0,   0,  43,  43,   0,   0],\n",
              "       [  0,  30, 250, 230, 125, 251,   0],\n",
              "       [  0, 191,  38,   0,   0,  81,   0],\n",
              "       [  0, 241,   0,  35, 119, 250,   0],\n",
              "       [  0,  49, 193, 198,  83,   0,   0],\n",
              "       [  0,   0,   0,   0,   0,   0,   0]], dtype=uint8)"
            ]
          },
          "execution_count": 99,
          "metadata": {},
          "output_type": "execute_result"
        }
      ],
      "source": [
        "resized_img"
      ]
    },
    {
      "cell_type": "code",
      "execution_count": null,
      "metadata": {
        "colab": {
          "base_uri": "https://localhost:8080/"
        },
        "id": "PW6REqdi1k7-",
        "outputId": "a32d1ab5-2637-42c3-eef9-e621b69840b9"
      },
      "outputs": [
        {
          "name": "stderr",
          "output_type": "stream",
          "text": [
            "/usr/local/lib/python3.10/dist-packages/torch/_tensor.py:836: UserWarning: non-inplace resize is deprecated\n",
            "  warnings.warn(\"non-inplace resize is deprecated\")\n"
          ]
        }
      ],
      "source": [
        "tensor_img = torch.tensor(resized_img).resize(1, 1, 7 , 7).float()"
      ]
    },
    {
      "cell_type": "code",
      "execution_count": null,
      "metadata": {
        "colab": {
          "base_uri": "https://localhost:8080/"
        },
        "id": "4qtZY3WQ1nTS",
        "outputId": "78d5ffc3-e593-45d6-8617-44f80b144aef"
      },
      "outputs": [
        {
          "data": {
            "text/plain": [
              "Parameter containing:\n",
              "tensor([[[[ 1.,  0.,  1.],\n",
              "          [ 1.,  0., -1.],\n",
              "          [ 1.,  0., -1.]]]], requires_grad=True)"
            ]
          },
          "execution_count": 101,
          "metadata": {},
          "output_type": "execute_result"
        }
      ],
      "source": [
        "kernel_weight = nn.Parameter(torch.tensor([[[[1., 0. , 1.],\n",
        "                                            [1., 0., -1.],\n",
        "                                            [1., 0., -1.]]]]))\n",
        "conv_layer.weight = kernel_weight\n",
        "conv_layer.weight"
      ]
    },
    {
      "cell_type": "code",
      "execution_count": null,
      "metadata": {
        "colab": {
          "base_uri": "https://localhost:8080/"
        },
        "id": "qhdkeIfB1oNr",
        "outputId": "ed42a930-f8d4-413d-ab71-956aced1f180"
      },
      "outputs": [
        {
          "data": {
            "text/plain": [
              "tensor([[[[  0.,   0.,   0.,   0.,   0.,   0.,   0.],\n",
              "          [  0.,   0.,   0.,  43.,  43.,   0.,   0.],\n",
              "          [  0.,  30., 250., 230., 125., 251.,   0.],\n",
              "          [  0., 191.,  38.,   0.,   0.,  81.,   0.],\n",
              "          [  0., 241.,   0.,  35., 119., 250.,   0.],\n",
              "          [  0.,  49., 193., 198.,  83.,   0.,   0.],\n",
              "          [  0.,   0.,   0.,   0.,   0.,   0.,   0.]]]])"
            ]
          },
          "execution_count": 102,
          "metadata": {},
          "output_type": "execute_result"
        }
      ],
      "source": [
        "tensor_img"
      ]
    },
    {
      "cell_type": "code",
      "execution_count": null,
      "metadata": {
        "colab": {
          "base_uri": "https://localhost:8080/"
        },
        "id": "2xSu0kOv1pMB",
        "outputId": "c9a79d9b-b918-4ed4-93f4-c14d15c83a69"
      },
      "outputs": [
        {
          "data": {
            "text/plain": [
              "tensor([[[[  0.,  43.,  43.],\n",
              "          [191., 250., 251.],\n",
              "          [241., 198., 250.]]]])"
            ]
          },
          "execution_count": 105,
          "metadata": {},
          "output_type": "execute_result"
        }
      ],
      "source": [
        "max_pool_layer = nn.MaxPool2d(kernel_size=(2, 2))\n",
        "\n",
        "output = max_pool_layer(tensor_img)\n",
        "output"
      ]
    },
    {
      "cell_type": "code",
      "execution_count": null,
      "metadata": {
        "colab": {
          "base_uri": "https://localhost:8080/"
        },
        "id": "dx7GlgbW1qei",
        "outputId": "d2311301-5860-4feb-db2f-a2a5fbd83dc2"
      },
      "outputs": [
        {
          "data": {
            "text/plain": [
              "tensor([[[[-250., -243.,   82.,   22.,  168.],\n",
              "          [-288.,   34.,  206.,  -59.,  168.],\n",
              "          [ 212.,  657.,  294.,  185.,  244.],\n",
              "          [-155.,  248.,   29.,   64.,  202.],\n",
              "          [-193.,  127.,  229.,  483.,  202.]]]],\n",
              "       grad_fn=<ConvolutionBackward0>)"
            ]
          },
          "execution_count": 107,
          "metadata": {},
          "output_type": "execute_result"
        }
      ],
      "source": [
        "output = conv_layer(tensor_img)\n",
        "output"
      ]
    },
    {
      "cell_type": "code",
      "execution_count": null,
      "metadata": {
        "colab": {
          "base_uri": "https://localhost:8080/"
        },
        "id": "giy2c8nC2BxC",
        "outputId": "4b7f3979-737c-4f60-f7e5-c09b4106b828"
      },
      "outputs": [
        {
          "data": {
            "text/plain": [
              "tensor([[[[ 34., 206.],\n",
              "          [657., 294.]]]], grad_fn=<MaxPool2DWithIndicesBackward0>)"
            ]
          },
          "execution_count": 108,
          "metadata": {},
          "output_type": "execute_result"
        }
      ],
      "source": [
        "max_pool_layer = nn.MaxPool2d(kernel_size=(2, 2))\n",
        "\n",
        "max_pool_layer(output)"
      ]
    },
    {
      "cell_type": "code",
      "execution_count": null,
      "metadata": {
        "id": "4PVFXJcd2FHm"
      },
      "outputs": [],
      "source": []
    }
  ],
  "metadata": {
    "colab": {
      "provenance": []
    },
    "kernelspec": {
      "display_name": "Python 3",
      "name": "python3"
    },
    "language_info": {
      "codemirror_mode": {
        "name": "ipython",
        "version": 3
      },
      "file_extension": ".py",
      "mimetype": "text/x-python",
      "name": "python",
      "nbconvert_exporter": "python",
      "pygments_lexer": "ipython3",
      "version": "3.10.12"
    }
  },
  "nbformat": 4,
  "nbformat_minor": 0
}
