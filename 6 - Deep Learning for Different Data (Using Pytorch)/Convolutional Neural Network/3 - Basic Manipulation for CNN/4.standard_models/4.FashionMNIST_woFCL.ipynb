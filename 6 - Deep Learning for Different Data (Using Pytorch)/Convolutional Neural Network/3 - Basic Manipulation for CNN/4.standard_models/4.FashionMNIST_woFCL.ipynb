{
 "cells": [
  {
   "cell_type": "code",
   "execution_count": 1,
   "metadata": {},
   "outputs": [],
   "source": [
    "import torch\n",
    "import torch.nn as nn\n",
    "import torch.optim as optim\n",
    "import torchvision\n",
    "import torchvision.transforms as transforms\n",
    "import torch.nn.init as init\n",
    "\n",
    "# Check if GPU is available\n",
    "device = torch.device(\"cuda:0\" if torch.cuda.is_available() else \"cpu\")"
   ]
  },
  {
   "cell_type": "code",
   "execution_count": null,
   "metadata": {},
   "outputs": [],
   "source": []
  },
  {
   "cell_type": "markdown",
   "metadata": {},
   "source": [
    "#### Data"
   ]
  },
  {
   "cell_type": "code",
   "execution_count": 2,
   "metadata": {},
   "outputs": [],
   "source": [
    "# Load CFashionMNIST dataset\n",
    "transform = transforms.Compose([transforms.ToTensor(), transforms.Normalize((0.5,), (0.5,))])\n",
    "\n",
    "trainset = torchvision.datasets.FashionMNIST(root='data', train=True, download=True, transform=transform)\n",
    "trainloader = torch.utils.data.DataLoader(trainset, batch_size=1024, num_workers=10, shuffle=True, drop_last=True)\n",
    "\n",
    "testset = torchvision.datasets.FashionMNIST(root='data', train=False, download=True, transform=transform)\n",
    "testloader = torch.utils.data.DataLoader(testset, batch_size=1024, num_workers=10, shuffle=False)"
   ]
  },
  {
   "cell_type": "code",
   "execution_count": 3,
   "metadata": {},
   "outputs": [
    {
     "data": {
      "image/png": "[encoded data removed]",
      "text/plain": [
       "<Figure size 640x480 with 1 Axes>"
      ]
     },
     "metadata": {},
     "output_type": "display_data"
    }
   ],
   "source": [
    "import matplotlib.pyplot as plt\n",
    "import numpy as np\n",
    "\n",
    "# Function to display the images\n",
    "def imshow(img):\n",
    "    img = img*0.5 + 0.5\n",
    "    np_img = img.numpy()\n",
    "    plt.imshow(np.transpose(np_img, (1, 2, 0)))\n",
    "    plt.show()\n",
    "\n",
    "for i, (images, labels) in enumerate(trainloader, 0):\n",
    "    # Plot some images\n",
    "    imshow(torchvision.utils.make_grid(images[:8]))  # Display 8 images from the batch\n",
    "    break"
   ]
  },
  {
   "cell_type": "code",
   "execution_count": null,
   "metadata": {},
   "outputs": [],
   "source": []
  },
  {
   "cell_type": "markdown",
   "metadata": {},
   "source": [
    "#### Model"
   ]
  },
  {
   "cell_type": "code",
   "execution_count": 6,
   "metadata": {},
   "outputs": [
    {
     "name": "stdout",
     "output_type": "stream",
     "text": [
      "----------------------------------------------------------------\n",
      "        Layer (type)               Output Shape         Param #\n",
      "================================================================\n",
      "            Conv2d-1           [-1, 32, 28, 28]             320\n",
      "              ReLU-2           [-1, 32, 28, 28]               0\n",
      "         MaxPool2d-3           [-1, 32, 14, 14]               0\n",
      "            Conv2d-4           [-1, 64, 14, 14]          18,496\n",
      "              ReLU-5           [-1, 64, 14, 14]               0\n",
      "         MaxPool2d-6             [-1, 64, 7, 7]               0\n",
      "            Conv2d-7            [-1, 128, 1, 1]         401,536\n",
      "              ReLU-8            [-1, 128, 1, 1]               0\n",
      "            Conv2d-9             [-1, 10, 1, 1]           1,290\n",
      "          Flatten-10                   [-1, 10]               0\n",
      "================================================================\n",
      "Total params: 421,642\n",
      "Trainable params: 421,642\n",
      "Non-trainable params: 0\n",
      "----------------------------------------------------------------\n",
      "Input size (MB): 0.00\n",
      "Forward/backward pass size (MB): 0.65\n",
      "Params size (MB): 1.61\n",
      "Estimated Total Size (MB): 2.26\n",
      "----------------------------------------------------------------\n"
     ]
    }
   ],
   "source": [
    "import torch\n",
    "import torch.nn as nn\n",
    "from torchsummary import summary\n",
    "\n",
    "class CustomModel(nn.Module):\n",
    "    def __init__(self):\n",
    "        super(CustomModel, self).__init__()\n",
    "        self.conv1 = nn.Conv2d(1, 32, kernel_size=3, padding=1)\n",
    "        self.conv2 = nn.Conv2d(32, 64, kernel_size=3, padding=1)\n",
    "        self.conv3 = nn.Conv2d(64, 128, kernel_size=7)\n",
    "        self.conv4 = nn.Conv2d(128, 10, kernel_size=1)\n",
    "        \n",
    "        self.pool = nn.MaxPool2d(2, 2)  # 2x2 Max pooling\n",
    "        self.relu = nn.ReLU()\n",
    "        self.flatten = nn.Flatten()\n",
    "        \n",
    "    def forward(self, x):\n",
    "        x = self.conv1(x)\n",
    "        x = self.relu(x)\n",
    "        x = self.pool(x)\n",
    "        \n",
    "        x = self.conv2(x)\n",
    "        x = self.relu(x)\n",
    "        x = self.pool(x)\n",
    "\n",
    "        x = self.conv3(x)\n",
    "        x = self.relu(x)\n",
    "\n",
    "        x = self.conv4(x)        \n",
    "        x = self.flatten(x)\n",
    "        \n",
    "        return x\n",
    "\n",
    "model = CustomModel()\n",
    "model = model.to(device)\n",
    "\n",
    "# Print model\n",
    "summary(model, (1, 28, 28))"
   ]
  },
  {
   "cell_type": "code",
   "execution_count": null,
   "metadata": {},
   "outputs": [],
   "source": []
  },
  {
   "cell_type": "markdown",
   "metadata": {},
   "source": [
    "#### Loss, Optimizer, and Evaluation Function"
   ]
  },
  {
   "cell_type": "code",
   "execution_count": 7,
   "metadata": {},
   "outputs": [],
   "source": [
    "criterion = nn.CrossEntropyLoss()\n",
    "optimizer = optim.Adam(model.parameters(), lr=1e-4)"
   ]
  },
  {
   "cell_type": "code",
   "execution_count": 8,
   "metadata": {},
   "outputs": [],
   "source": [
    "# Function to compute loss and accuracy for test set\n",
    "def evaluate(model, testloader, criterion):\n",
    "    model.eval()\n",
    "    test_loss = 0.0\n",
    "    running_correct = 0\n",
    "    total = 0\n",
    "    with torch.no_grad():\n",
    "        for images, labels in testloader:\n",
    "            # Move inputs and labels to the device\n",
    "            images, labels = images.to(device), labels.to(device)\n",
    "\n",
    "            outputs = model(images)\n",
    "            loss = criterion(outputs, labels)\n",
    "            test_loss += loss.item()\n",
    "            \n",
    "            _, predicted = torch.max(outputs.data, 1)\n",
    "            total += labels.size(0)\n",
    "            running_correct += (predicted == labels).sum().item()\n",
    "\n",
    "    accuracy = 100 * running_correct / total\n",
    "    test_loss = test_loss / len(testloader)\n",
    "    return test_loss, accuracy"
   ]
  },
  {
   "cell_type": "code",
   "execution_count": null,
   "metadata": {},
   "outputs": [],
   "source": []
  },
  {
   "cell_type": "markdown",
   "metadata": {},
   "source": [
    "#### Train"
   ]
  },
  {
   "cell_type": "code",
   "execution_count": 9,
   "metadata": {},
   "outputs": [],
   "source": [
    "# some parameter\n",
    "train_losses = []\n",
    "train_accuracies = []\n",
    "test_losses = []\n",
    "test_accuracies = []\n",
    "max_epoch = 100"
   ]
  },
  {
   "cell_type": "code",
   "execution_count": 10,
   "metadata": {
    "colab": {
     "base_uri": "https://localhost:8080/"
    },
    "id": "tYwXeSOOF_4Z",
    "outputId": "a4c62a4a-267f-4101-ce96-662cc23cdbe0"
   },
   "outputs": [
    {
     "name": "stdout",
     "output_type": "stream",
     "text": [
      "Epoch [1/100], Loss: 1.7737, Accuracy: 54.71%, Test Loss: 1.1094, Test Accuracy: 69.39%\n",
      "Epoch [2/100], Loss: 0.8276, Accuracy: 73.79%, Test Loss: 0.6875, Test Accuracy: 75.80%\n",
      "Epoch [3/100], Loss: 0.6216, Accuracy: 78.27%, Test Loss: 0.5906, Test Accuracy: 78.78%\n",
      "Epoch [4/100], Loss: 0.5514, Accuracy: 80.43%, Test Loss: 0.5428, Test Accuracy: 80.18%\n",
      "Epoch [5/100], Loss: 0.5106, Accuracy: 81.84%, Test Loss: 0.5116, Test Accuracy: 81.43%\n",
      "Epoch [6/100], Loss: 0.4821, Accuracy: 82.88%, Test Loss: 0.4846, Test Accuracy: 82.70%\n",
      "Epoch [7/100], Loss: 0.4614, Accuracy: 83.68%, Test Loss: 0.4663, Test Accuracy: 83.46%\n",
      "Epoch [8/100], Loss: 0.4425, Accuracy: 84.41%, Test Loss: 0.4545, Test Accuracy: 83.76%\n",
      "Epoch [9/100], Loss: 0.4271, Accuracy: 84.99%, Test Loss: 0.4360, Test Accuracy: 84.57%\n",
      "Epoch [10/100], Loss: 0.4171, Accuracy: 85.33%, Test Loss: 0.4254, Test Accuracy: 84.85%\n",
      "Epoch [11/100], Loss: 0.4031, Accuracy: 85.79%, Test Loss: 0.4177, Test Accuracy: 85.10%\n",
      "Epoch [12/100], Loss: 0.3955, Accuracy: 86.13%, Test Loss: 0.4078, Test Accuracy: 85.26%\n",
      "Epoch [13/100], Loss: 0.3856, Accuracy: 86.54%, Test Loss: 0.4001, Test Accuracy: 85.78%\n",
      "Epoch [14/100], Loss: 0.3788, Accuracy: 86.71%, Test Loss: 0.3928, Test Accuracy: 85.98%\n",
      "Epoch [15/100], Loss: 0.3724, Accuracy: 86.87%, Test Loss: 0.3896, Test Accuracy: 86.02%\n",
      "Epoch [16/100], Loss: 0.3647, Accuracy: 87.22%, Test Loss: 0.3809, Test Accuracy: 86.45%\n",
      "Epoch [17/100], Loss: 0.3586, Accuracy: 87.43%, Test Loss: 0.3748, Test Accuracy: 86.60%\n",
      "Epoch [18/100], Loss: 0.3537, Accuracy: 87.58%, Test Loss: 0.3760, Test Accuracy: 86.32%\n",
      "Epoch [19/100], Loss: 0.3494, Accuracy: 87.75%, Test Loss: 0.3711, Test Accuracy: 86.60%\n",
      "Epoch [20/100], Loss: 0.3437, Accuracy: 87.93%, Test Loss: 0.3656, Test Accuracy: 86.86%\n",
      "Epoch [21/100], Loss: 0.3394, Accuracy: 88.03%, Test Loss: 0.3600, Test Accuracy: 87.18%\n",
      "Epoch [22/100], Loss: 0.3346, Accuracy: 88.23%, Test Loss: 0.3542, Test Accuracy: 87.33%\n",
      "Epoch [23/100], Loss: 0.3300, Accuracy: 88.43%, Test Loss: 0.3536, Test Accuracy: 87.28%\n",
      "Epoch [24/100], Loss: 0.3263, Accuracy: 88.44%, Test Loss: 0.3523, Test Accuracy: 87.42%\n",
      "Epoch [25/100], Loss: 0.3227, Accuracy: 88.65%, Test Loss: 0.3476, Test Accuracy: 87.62%\n",
      "Epoch [26/100], Loss: 0.3197, Accuracy: 88.72%, Test Loss: 0.3457, Test Accuracy: 87.92%\n",
      "Epoch [27/100], Loss: 0.3149, Accuracy: 88.99%, Test Loss: 0.3391, Test Accuracy: 87.90%\n",
      "Epoch [28/100], Loss: 0.3137, Accuracy: 88.95%, Test Loss: 0.3436, Test Accuracy: 87.46%\n",
      "Epoch [29/100], Loss: 0.3105, Accuracy: 89.04%, Test Loss: 0.3333, Test Accuracy: 88.20%\n",
      "Epoch [30/100], Loss: 0.3056, Accuracy: 89.26%, Test Loss: 0.3335, Test Accuracy: 87.83%\n",
      "Epoch [31/100], Loss: 0.3026, Accuracy: 89.33%, Test Loss: 0.3269, Test Accuracy: 88.13%\n",
      "Epoch [32/100], Loss: 0.2999, Accuracy: 89.37%, Test Loss: 0.3321, Test Accuracy: 88.04%\n",
      "Epoch [33/100], Loss: 0.2976, Accuracy: 89.48%, Test Loss: 0.3215, Test Accuracy: 88.23%\n",
      "Epoch [34/100], Loss: 0.2955, Accuracy: 89.47%, Test Loss: 0.3261, Test Accuracy: 88.41%\n",
      "Epoch [35/100], Loss: 0.2927, Accuracy: 89.66%, Test Loss: 0.3177, Test Accuracy: 88.52%\n",
      "Epoch [36/100], Loss: 0.2894, Accuracy: 89.70%, Test Loss: 0.3200, Test Accuracy: 88.41%\n",
      "Epoch [37/100], Loss: 0.2870, Accuracy: 89.88%, Test Loss: 0.3139, Test Accuracy: 88.79%\n",
      "Epoch [38/100], Loss: 0.2856, Accuracy: 89.93%, Test Loss: 0.3180, Test Accuracy: 88.56%\n",
      "Epoch [39/100], Loss: 0.2817, Accuracy: 90.06%, Test Loss: 0.3105, Test Accuracy: 88.84%\n",
      "Epoch [40/100], Loss: 0.2800, Accuracy: 90.01%, Test Loss: 0.3101, Test Accuracy: 88.72%\n",
      "Epoch [41/100], Loss: 0.2782, Accuracy: 90.11%, Test Loss: 0.3127, Test Accuracy: 88.66%\n",
      "Epoch [42/100], Loss: 0.2758, Accuracy: 90.17%, Test Loss: 0.3114, Test Accuracy: 88.99%\n",
      "Epoch [43/100], Loss: 0.2746, Accuracy: 90.25%, Test Loss: 0.3048, Test Accuracy: 88.94%\n",
      "Epoch [44/100], Loss: 0.2721, Accuracy: 90.31%, Test Loss: 0.3046, Test Accuracy: 89.08%\n",
      "Epoch [45/100], Loss: 0.2723, Accuracy: 90.31%, Test Loss: 0.3021, Test Accuracy: 89.03%\n",
      "Epoch [46/100], Loss: 0.2683, Accuracy: 90.45%, Test Loss: 0.3003, Test Accuracy: 89.20%\n",
      "Epoch [47/100], Loss: 0.2656, Accuracy: 90.59%, Test Loss: 0.3009, Test Accuracy: 89.00%\n",
      "Epoch [48/100], Loss: 0.2643, Accuracy: 90.57%, Test Loss: 0.3022, Test Accuracy: 89.06%\n",
      "Epoch [49/100], Loss: 0.2629, Accuracy: 90.58%, Test Loss: 0.2977, Test Accuracy: 89.28%\n",
      "Epoch [50/100], Loss: 0.2625, Accuracy: 90.61%, Test Loss: 0.2985, Test Accuracy: 89.23%\n",
      "Epoch [51/100], Loss: 0.2590, Accuracy: 90.84%, Test Loss: 0.2953, Test Accuracy: 89.08%\n",
      "Epoch [52/100], Loss: 0.2601, Accuracy: 90.65%, Test Loss: 0.2995, Test Accuracy: 89.35%\n",
      "Epoch [53/100], Loss: 0.2594, Accuracy: 90.77%, Test Loss: 0.2937, Test Accuracy: 89.42%\n",
      "Epoch [54/100], Loss: 0.2547, Accuracy: 90.89%, Test Loss: 0.2930, Test Accuracy: 89.57%\n",
      "Epoch [55/100], Loss: 0.2555, Accuracy: 90.85%, Test Loss: 0.2918, Test Accuracy: 89.61%\n",
      "Epoch [56/100], Loss: 0.2510, Accuracy: 91.02%, Test Loss: 0.2889, Test Accuracy: 89.58%\n",
      "Epoch [57/100], Loss: 0.2500, Accuracy: 91.08%, Test Loss: 0.2871, Test Accuracy: 89.59%\n",
      "Epoch [58/100], Loss: 0.2488, Accuracy: 91.19%, Test Loss: 0.2860, Test Accuracy: 89.51%\n",
      "Epoch [59/100], Loss: 0.2463, Accuracy: 91.19%, Test Loss: 0.2882, Test Accuracy: 89.43%\n",
      "Epoch [60/100], Loss: 0.2467, Accuracy: 91.21%, Test Loss: 0.2847, Test Accuracy: 89.65%\n",
      "Epoch [61/100], Loss: 0.2451, Accuracy: 91.19%, Test Loss: 0.2922, Test Accuracy: 89.52%\n",
      "Epoch [62/100], Loss: 0.2438, Accuracy: 91.24%, Test Loss: 0.2829, Test Accuracy: 89.58%\n",
      "Epoch [63/100], Loss: 0.2416, Accuracy: 91.32%, Test Loss: 0.2838, Test Accuracy: 89.60%\n",
      "Epoch [64/100], Loss: 0.2406, Accuracy: 91.39%, Test Loss: 0.2857, Test Accuracy: 89.43%\n",
      "Epoch [65/100], Loss: 0.2410, Accuracy: 91.30%, Test Loss: 0.2890, Test Accuracy: 89.69%\n",
      "Epoch [66/100], Loss: 0.2402, Accuracy: 91.34%, Test Loss: 0.2794, Test Accuracy: 90.01%\n",
      "Epoch [67/100], Loss: 0.2379, Accuracy: 91.42%, Test Loss: 0.2805, Test Accuracy: 89.72%\n",
      "Epoch [68/100], Loss: 0.2364, Accuracy: 91.52%, Test Loss: 0.2787, Test Accuracy: 90.07%\n",
      "Epoch [69/100], Loss: 0.2324, Accuracy: 91.71%, Test Loss: 0.2792, Test Accuracy: 89.97%\n",
      "Epoch [70/100], Loss: 0.2327, Accuracy: 91.63%, Test Loss: 0.2763, Test Accuracy: 89.98%\n",
      "Epoch [71/100], Loss: 0.2336, Accuracy: 91.63%, Test Loss: 0.2814, Test Accuracy: 90.04%\n",
      "Epoch [72/100], Loss: 0.2306, Accuracy: 91.71%, Test Loss: 0.2748, Test Accuracy: 89.93%\n",
      "Epoch [73/100], Loss: 0.2297, Accuracy: 91.71%, Test Loss: 0.2751, Test Accuracy: 90.07%\n",
      "Epoch [74/100], Loss: 0.2269, Accuracy: 91.87%, Test Loss: 0.2738, Test Accuracy: 90.02%\n",
      "Epoch [75/100], Loss: 0.2260, Accuracy: 91.88%, Test Loss: 0.2746, Test Accuracy: 90.20%\n",
      "Epoch [76/100], Loss: 0.2294, Accuracy: 91.75%, Test Loss: 0.2794, Test Accuracy: 89.88%\n",
      "Epoch [77/100], Loss: 0.2284, Accuracy: 91.80%, Test Loss: 0.2742, Test Accuracy: 90.10%\n",
      "Epoch [78/100], Loss: 0.2228, Accuracy: 92.06%, Test Loss: 0.2712, Test Accuracy: 90.13%\n",
      "Epoch [79/100], Loss: 0.2224, Accuracy: 92.09%, Test Loss: 0.2724, Test Accuracy: 90.17%\n",
      "Epoch [80/100], Loss: 0.2213, Accuracy: 92.08%, Test Loss: 0.2705, Test Accuracy: 90.26%\n",
      "Epoch [81/100], Loss: 0.2221, Accuracy: 92.06%, Test Loss: 0.2716, Test Accuracy: 90.22%\n",
      "Epoch [82/100], Loss: 0.2188, Accuracy: 92.17%, Test Loss: 0.2687, Test Accuracy: 90.24%\n",
      "Epoch [83/100], Loss: 0.2201, Accuracy: 92.10%, Test Loss: 0.2695, Test Accuracy: 90.25%\n",
      "Epoch [84/100], Loss: 0.2183, Accuracy: 92.12%, Test Loss: 0.2705, Test Accuracy: 89.96%\n",
      "Epoch [85/100], Loss: 0.2162, Accuracy: 92.18%, Test Loss: 0.2761, Test Accuracy: 89.85%\n",
      "Epoch [86/100], Loss: 0.2177, Accuracy: 92.21%, Test Loss: 0.2714, Test Accuracy: 90.35%\n",
      "Epoch [87/100], Loss: 0.2147, Accuracy: 92.24%, Test Loss: 0.2684, Test Accuracy: 90.46%\n",
      "Epoch [88/100], Loss: 0.2140, Accuracy: 92.31%, Test Loss: 0.2650, Test Accuracy: 90.41%\n",
      "Epoch [89/100], Loss: 0.2122, Accuracy: 92.37%, Test Loss: 0.2720, Test Accuracy: 90.11%\n",
      "Epoch [90/100], Loss: 0.2128, Accuracy: 92.38%, Test Loss: 0.2665, Test Accuracy: 90.39%\n",
      "Epoch [91/100], Loss: 0.2101, Accuracy: 92.51%, Test Loss: 0.2656, Test Accuracy: 90.38%\n",
      "Epoch [92/100], Loss: 0.2098, Accuracy: 92.52%, Test Loss: 0.2724, Test Accuracy: 90.53%\n",
      "Epoch [93/100], Loss: 0.2082, Accuracy: 92.56%, Test Loss: 0.2623, Test Accuracy: 90.54%\n",
      "Epoch [94/100], Loss: 0.2078, Accuracy: 92.58%, Test Loss: 0.2632, Test Accuracy: 90.51%\n",
      "Epoch [95/100], Loss: 0.2066, Accuracy: 92.65%, Test Loss: 0.2636, Test Accuracy: 90.42%\n",
      "Epoch [96/100], Loss: 0.2061, Accuracy: 92.70%, Test Loss: 0.2629, Test Accuracy: 90.52%\n",
      "Epoch [97/100], Loss: 0.2052, Accuracy: 92.59%, Test Loss: 0.2615, Test Accuracy: 90.65%\n",
      "Epoch [98/100], Loss: 0.2035, Accuracy: 92.66%, Test Loss: 0.2612, Test Accuracy: 90.66%\n",
      "Epoch [99/100], Loss: 0.2027, Accuracy: 92.72%, Test Loss: 0.2670, Test Accuracy: 90.52%\n",
      "Epoch [100/100], Loss: 0.2021, Accuracy: 92.70%, Test Loss: 0.2630, Test Accuracy: 90.43%\n"
     ]
    }
   ],
   "source": [
    "# train\n",
    "for epoch in range(max_epoch):\n",
    "    model.train()\n",
    "    running_loss = 0.0\n",
    "    running_correct = 0   # to track number of correct predictions\n",
    "    total = 0             # to track total number of samples\n",
    "\n",
    "    for i, (inputs, labels) in enumerate(trainloader, 0):\n",
    "        # Move inputs and labels to the device\n",
    "        inputs, labels = inputs.to(device), labels.to(device)\n",
    "\n",
    "        # Zero the parameter gradients\n",
    "        optimizer.zero_grad()\n",
    "\n",
    "        # Forward pass\n",
    "        outputs = model(inputs)\n",
    "        loss = criterion(outputs, labels)\n",
    "        running_loss += loss.item()\n",
    "\n",
    "        # Determine class predictions and track accuracy\n",
    "        _, predicted = torch.max(outputs.data, 1)\n",
    "        total += labels.size(0)\n",
    "        running_correct += (predicted == labels).sum().item()\n",
    "\n",
    "        # Backward pass and optimization\n",
    "        loss.backward()\n",
    "        optimizer.step()        \n",
    "\n",
    "    epoch_accuracy = 100 * running_correct / total\n",
    "    epoch_loss = running_loss / (i + 1)\n",
    "    \n",
    "    test_loss, test_accuracy = evaluate(model, testloader, criterion)\n",
    "    print(f\"Epoch [{epoch + 1}/{max_epoch}], Loss: {epoch_loss:.4f}, Accuracy: {epoch_accuracy:.2f}%, Test Loss: {test_loss:.4f}, Test Accuracy: {test_accuracy:.2f}%\")\n",
    "    \n",
    "    # save for plot\n",
    "    train_losses.append(epoch_loss)\n",
    "    train_accuracies.append(epoch_accuracy)\n",
    "    test_losses.append(test_loss)\n",
    "    test_accuracies.append(test_accuracy)"
   ]
  },
  {
   "cell_type": "code",
   "execution_count": null,
   "metadata": {
    "id": "QKFbl4unF_6t"
   },
   "outputs": [],
   "source": []
  },
  {
   "cell_type": "code",
   "execution_count": 11,
   "metadata": {
    "id": "AwIj3vrnF_8_"
   },
   "outputs": [
    {
     "data": {
      "text/plain": [
       "<matplotlib.legend.Legend at 0x7f11bee8ed70>"
      ]
     },
     "execution_count": 11,
     "metadata": {},
     "output_type": "execute_result"
    },
    {
     "data": {
      "image/png": "[encoded data removed]",
      "text/plain": [
       "<Figure size 640x480 with 1 Axes>"
      ]
     },
     "metadata": {},
     "output_type": "display_data"
    }
   ],
   "source": [
    "import matplotlib.pyplot as plt\n",
    "\n",
    "plt.plot(train_losses, label='train_losses')\n",
    "plt.plot(test_losses, label='test_losses')\n",
    "plt.legend()"
   ]
  },
  {
   "cell_type": "code",
   "execution_count": 12,
   "metadata": {
    "id": "eh3iDa8lF__H"
   },
   "outputs": [
    {
     "data": {
      "text/plain": [
       "<matplotlib.legend.Legend at 0x7f11bcf0a1d0>"
      ]
     },
     "execution_count": 12,
     "metadata": {},
     "output_type": "execute_result"
    },
    {
     "data": {
      "image/png": "[encoded data removed]",
      "text/plain": [
       "<Figure size 640x480 with 1 Axes>"
      ]
     },
     "metadata": {},
     "output_type": "display_data"
    }
   ],
   "source": [
    "import matplotlib.pyplot as plt\n",
    "\n",
    "plt.plot(train_accuracies, label='train_accuracy')\n",
    "plt.plot(test_accuracies, label='test_accuracy')\n",
    "plt.legend()"
   ]
  },
  {
   "cell_type": "code",
   "execution_count": null,
   "metadata": {},
   "outputs": [],
   "source": []
  },
  {
   "cell_type": "code",
   "execution_count": 13,
   "metadata": {},
   "outputs": [
    {
     "data": {
      "text/plain": [
       "<matplotlib.legend.Legend at 0x7f11a2306a40>"
      ]
     },
     "execution_count": 13,
     "metadata": {},
     "output_type": "execute_result"
    }
   ],
   "source": [
    "import matplotlib.pyplot as plt\n",
    "%matplotlib qt\n",
    "\n",
    "plt.plot(train_losses, label='train_losses')\n",
    "plt.plot(test_losses, label='test_losses')\n",
    "plt.legend()"
   ]
  },
  {
   "cell_type": "code",
   "execution_count": 14,
   "metadata": {},
   "outputs": [
    {
     "data": {
      "text/plain": [
       "<matplotlib.legend.Legend at 0x7f10f13aa770>"
      ]
     },
     "execution_count": 14,
     "metadata": {},
     "output_type": "execute_result"
    }
   ],
   "source": [
    "import matplotlib.pyplot as plt\n",
    "%matplotlib qt\n",
    "\n",
    "plt.plot(train_accuracies, label='train_accuracy')\n",
    "plt.plot(test_accuracies, label='test_accuracy')\n",
    "plt.legend()"
   ]
  },
  {
   "cell_type": "code",
   "execution_count": null,
   "metadata": {},
   "outputs": [],
   "source": []
  }
 ],
 "metadata": {
  "accelerator": "GPU",
  "colab": {
   "gpuType": "T4",
   "provenance": []
  },
  "kernelspec": {
   "display_name": "Python 3 (ipykernel)",
   "language": "python",
   "name": "python3"
  },
  "language_info": {
   "codemirror_mode": {
    "name": "ipython",
    "version": 3
   },
   "file_extension": ".py",
   "mimetype": "text/x-python",
   "name": "python",
   "nbconvert_exporter": "python",
   "pygments_lexer": "ipython3",
   "version": "3.9.18"
  }
 },
 "nbformat": 4,
 "nbformat_minor": 4
}
