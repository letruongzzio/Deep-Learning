{
 "cells": [
  {
   "cell_type": "code",
   "execution_count": 1,
   "metadata": {},
   "outputs": [],
   "source": [
    "import torch\n",
    "import torch.nn as nn\n",
    "import torch.optim as optim\n",
    "import torchvision\n",
    "import torchvision.transforms as transforms\n",
    "import torch.nn.init as init\n",
    "\n",
    "# Check if GPU is available\n",
    "device = torch.device(\"cuda:0\" if torch.cuda.is_available() else \"cpu\")"
   ]
  },
  {
   "cell_type": "code",
   "execution_count": null,
   "metadata": {},
   "outputs": [],
   "source": []
  },
  {
   "cell_type": "markdown",
   "metadata": {},
   "source": [
    "#### Data"
   ]
  },
  {
   "cell_type": "code",
   "execution_count": 2,
   "metadata": {},
   "outputs": [],
   "source": [
    "# Load CFashionMNIST dataset\n",
    "transform = transforms.Compose([transforms.ToTensor(), transforms.Normalize((0.5,), (0.5,))])\n",
    "\n",
    "trainset = torchvision.datasets.FashionMNIST(root='data', train=True, download=True, transform=transform)\n",
    "trainloader = torch.utils.data.DataLoader(trainset, batch_size=1024, num_workers=10, shuffle=True, drop_last=True)\n",
    "\n",
    "testset = torchvision.datasets.FashionMNIST(root='data', train=False, download=True, transform=transform)\n",
    "testloader = torch.utils.data.DataLoader(testset, batch_size=1024, num_workers=10, shuffle=False)"
   ]
  },
  {
   "cell_type": "code",
   "execution_count": 3,
   "metadata": {},
   "outputs": [
    {
     "data": {
      "image/png": "[encoded data removed]",
      "text/plain": [
       "<Figure size 640x480 with 1 Axes>"
      ]
     },
     "metadata": {},
     "output_type": "display_data"
    }
   ],
   "source": [
    "import matplotlib.pyplot as plt\n",
    "import numpy as np\n",
    "\n",
    "# Function to display the images\n",
    "def imshow(img):\n",
    "    img = img*0.5 + 0.5\n",
    "    np_img = img.numpy()\n",
    "    plt.imshow(np.transpose(np_img, (1, 2, 0)))\n",
    "    plt.show()\n",
    "\n",
    "for i, (images, labels) in enumerate(trainloader, 0):\n",
    "    # Plot some images\n",
    "    imshow(torchvision.utils.make_grid(images[:8]))  # Display 8 images from the batch\n",
    "    break"
   ]
  },
  {
   "cell_type": "code",
   "execution_count": null,
   "metadata": {},
   "outputs": [],
   "source": []
  },
  {
   "cell_type": "markdown",
   "metadata": {},
   "source": [
    "#### Model"
   ]
  },
  {
   "cell_type": "code",
   "execution_count": 5,
   "metadata": {},
   "outputs": [
    {
     "name": "stdout",
     "output_type": "stream",
     "text": [
      "----------------------------------------------------------------\n",
      "        Layer (type)               Output Shape         Param #\n",
      "================================================================\n",
      "            Conv2d-1           [-1, 32, 28, 28]             320\n",
      "              ReLU-2           [-1, 32, 28, 28]               0\n",
      "         MaxPool2d-3           [-1, 32, 14, 14]               0\n",
      "            Conv2d-4           [-1, 64, 14, 14]          18,496\n",
      "              ReLU-5           [-1, 64, 14, 14]               0\n",
      "         MaxPool2d-6             [-1, 64, 7, 7]               0\n",
      "           Flatten-7                 [-1, 3136]               0\n",
      "            Linear-8                  [-1, 128]         401,536\n",
      "              ReLU-9                  [-1, 128]               0\n",
      "           Linear-10                   [-1, 10]           1,290\n",
      "================================================================\n",
      "Total params: 421,642\n",
      "Trainable params: 421,642\n",
      "Non-trainable params: 0\n",
      "----------------------------------------------------------------\n",
      "Input size (MB): 0.00\n",
      "Forward/backward pass size (MB): 0.67\n",
      "Params size (MB): 1.61\n",
      "Estimated Total Size (MB): 2.28\n",
      "----------------------------------------------------------------\n"
     ]
    }
   ],
   "source": [
    "import torch\n",
    "import torch.nn as nn\n",
    "from torchsummary import summary\n",
    "\n",
    "class CustomModel(nn.Module):\n",
    "    def __init__(self):\n",
    "        super(CustomModel, self).__init__()\n",
    "        self.conv1 = nn.Conv2d(1, 32, kernel_size=3, padding=1)\n",
    "        self.conv2 = nn.Conv2d(32, 64, kernel_size=3, padding=1)\n",
    "        self.pool = nn.MaxPool2d(2, 2)  # 2x2 Max pooling\n",
    "        self.flatten = nn.Flatten()\n",
    "        self.dense1 = nn.Linear(7*7*64, 128)\n",
    "        self.dense2 = nn.Linear(128, 10)\n",
    "        self.relu = nn.ReLU()\n",
    "        \n",
    "    def forward(self, x):\n",
    "        x = self.conv1(x)\n",
    "        x = self.relu(x)\n",
    "        x = self.pool(x)\n",
    "        \n",
    "        x = self.conv2(x)\n",
    "        x = self.relu(x)\n",
    "        x = self.pool(x)\n",
    "        \n",
    "        x = self.flatten(x)\n",
    "        x = self.relu(self.dense1(x))\n",
    "        x = self.dense2(x)\n",
    "        \n",
    "        return x\n",
    "\n",
    "model = CustomModel()\n",
    "model = model.to(device)\n",
    "\n",
    "# Print model\n",
    "summary(model, (1, 28, 28))"
   ]
  },
  {
   "cell_type": "code",
   "execution_count": null,
   "metadata": {},
   "outputs": [],
   "source": []
  },
  {
   "cell_type": "markdown",
   "metadata": {},
   "source": [
    "#### Loss, Optimizer, and Evaluation Function"
   ]
  },
  {
   "cell_type": "code",
   "execution_count": 6,
   "metadata": {},
   "outputs": [],
   "source": [
    "criterion = nn.CrossEntropyLoss()\n",
    "optimizer = optim.Adam(model.parameters(), lr=1e-4)"
   ]
  },
  {
   "cell_type": "code",
   "execution_count": 7,
   "metadata": {},
   "outputs": [],
   "source": [
    "# Function to compute loss and accuracy for test set\n",
    "def evaluate(model, testloader, criterion):\n",
    "    model.eval()\n",
    "    test_loss = 0.0\n",
    "    running_correct = 0\n",
    "    total = 0\n",
    "    with torch.no_grad():\n",
    "        for images, labels in testloader:\n",
    "            # Move inputs and labels to the device\n",
    "            images, labels = images.to(device), labels.to(device)\n",
    "\n",
    "            outputs = model(images)\n",
    "            loss = criterion(outputs, labels)\n",
    "            test_loss += loss.item()\n",
    "            \n",
    "            _, predicted = torch.max(outputs.data, 1)\n",
    "            total += labels.size(0)\n",
    "            running_correct += (predicted == labels).sum().item()\n",
    "\n",
    "    accuracy = 100 * running_correct / total\n",
    "    test_loss = test_loss / len(testloader)\n",
    "    return test_loss, accuracy"
   ]
  },
  {
   "cell_type": "code",
   "execution_count": null,
   "metadata": {},
   "outputs": [],
   "source": []
  },
  {
   "cell_type": "markdown",
   "metadata": {},
   "source": [
    "#### Train"
   ]
  },
  {
   "cell_type": "code",
   "execution_count": 8,
   "metadata": {},
   "outputs": [],
   "source": [
    "# some parameter\n",
    "train_losses = []\n",
    "train_accuracies = []\n",
    "test_losses = []\n",
    "test_accuracies = []\n",
    "max_epoch = 100"
   ]
  },
  {
   "cell_type": "code",
   "execution_count": 9,
   "metadata": {
    "colab": {
     "base_uri": "https://localhost:8080/"
    },
    "id": "tYwXeSOOF_4Z",
    "outputId": "a4c62a4a-267f-4101-ce96-662cc23cdbe0"
   },
   "outputs": [
    {
     "name": "stdout",
     "output_type": "stream",
     "text": [
      "Epoch [1/100], Loss: 1.7092, Accuracy: 52.66%, Test Loss: 1.0220, Test Accuracy: 71.41%\n",
      "Epoch [2/100], Loss: 0.7747, Accuracy: 75.07%, Test Loss: 0.6589, Test Accuracy: 76.93%\n",
      "Epoch [3/100], Loss: 0.6045, Accuracy: 78.54%, Test Loss: 0.5810, Test Accuracy: 79.41%\n",
      "Epoch [4/100], Loss: 0.5456, Accuracy: 80.47%, Test Loss: 0.5402, Test Accuracy: 80.67%\n",
      "Epoch [5/100], Loss: 0.5100, Accuracy: 81.88%, Test Loss: 0.5099, Test Accuracy: 81.82%\n",
      "Epoch [6/100], Loss: 0.4818, Accuracy: 82.90%, Test Loss: 0.4905, Test Accuracy: 82.51%\n",
      "Epoch [7/100], Loss: 0.4620, Accuracy: 83.70%, Test Loss: 0.4694, Test Accuracy: 83.40%\n",
      "Epoch [8/100], Loss: 0.4446, Accuracy: 84.32%, Test Loss: 0.4537, Test Accuracy: 83.85%\n",
      "Epoch [9/100], Loss: 0.4300, Accuracy: 84.90%, Test Loss: 0.4451, Test Accuracy: 84.19%\n",
      "Epoch [10/100], Loss: 0.4176, Accuracy: 85.36%, Test Loss: 0.4321, Test Accuracy: 84.55%\n",
      "Epoch [11/100], Loss: 0.4065, Accuracy: 85.67%, Test Loss: 0.4243, Test Accuracy: 84.83%\n",
      "Epoch [12/100], Loss: 0.3959, Accuracy: 86.09%, Test Loss: 0.4131, Test Accuracy: 85.17%\n",
      "Epoch [13/100], Loss: 0.3880, Accuracy: 86.38%, Test Loss: 0.4046, Test Accuracy: 85.37%\n",
      "Epoch [14/100], Loss: 0.3809, Accuracy: 86.61%, Test Loss: 0.3975, Test Accuracy: 85.81%\n",
      "Epoch [15/100], Loss: 0.3753, Accuracy: 86.81%, Test Loss: 0.3936, Test Accuracy: 85.87%\n",
      "Epoch [16/100], Loss: 0.3691, Accuracy: 87.06%, Test Loss: 0.3848, Test Accuracy: 86.26%\n",
      "Epoch [17/100], Loss: 0.3617, Accuracy: 87.35%, Test Loss: 0.3800, Test Accuracy: 86.36%\n",
      "Epoch [18/100], Loss: 0.3554, Accuracy: 87.53%, Test Loss: 0.3760, Test Accuracy: 86.26%\n",
      "Epoch [19/100], Loss: 0.3499, Accuracy: 87.73%, Test Loss: 0.3708, Test Accuracy: 86.56%\n",
      "Epoch [20/100], Loss: 0.3455, Accuracy: 87.92%, Test Loss: 0.3677, Test Accuracy: 86.50%\n",
      "Epoch [21/100], Loss: 0.3404, Accuracy: 88.05%, Test Loss: 0.3664, Test Accuracy: 86.74%\n",
      "Epoch [22/100], Loss: 0.3357, Accuracy: 88.14%, Test Loss: 0.3642, Test Accuracy: 86.63%\n",
      "Epoch [23/100], Loss: 0.3327, Accuracy: 88.23%, Test Loss: 0.3530, Test Accuracy: 87.08%\n",
      "Epoch [24/100], Loss: 0.3282, Accuracy: 88.43%, Test Loss: 0.3553, Test Accuracy: 86.84%\n",
      "Epoch [25/100], Loss: 0.3256, Accuracy: 88.50%, Test Loss: 0.3471, Test Accuracy: 87.40%\n",
      "Epoch [26/100], Loss: 0.3190, Accuracy: 88.74%, Test Loss: 0.3461, Test Accuracy: 87.40%\n",
      "Epoch [27/100], Loss: 0.3159, Accuracy: 88.87%, Test Loss: 0.3442, Test Accuracy: 87.04%\n",
      "Epoch [28/100], Loss: 0.3124, Accuracy: 88.98%, Test Loss: 0.3443, Test Accuracy: 87.26%\n",
      "Epoch [29/100], Loss: 0.3105, Accuracy: 88.94%, Test Loss: 0.3355, Test Accuracy: 87.61%\n",
      "Epoch [30/100], Loss: 0.3058, Accuracy: 89.14%, Test Loss: 0.3331, Test Accuracy: 87.87%\n",
      "Epoch [31/100], Loss: 0.3053, Accuracy: 89.14%, Test Loss: 0.3293, Test Accuracy: 88.06%\n",
      "Epoch [32/100], Loss: 0.3010, Accuracy: 89.22%, Test Loss: 0.3305, Test Accuracy: 88.01%\n",
      "Epoch [33/100], Loss: 0.2986, Accuracy: 89.43%, Test Loss: 0.3256, Test Accuracy: 88.37%\n",
      "Epoch [34/100], Loss: 0.2939, Accuracy: 89.63%, Test Loss: 0.3250, Test Accuracy: 88.02%\n",
      "Epoch [35/100], Loss: 0.2927, Accuracy: 89.66%, Test Loss: 0.3209, Test Accuracy: 88.28%\n",
      "Epoch [36/100], Loss: 0.2924, Accuracy: 89.59%, Test Loss: 0.3180, Test Accuracy: 88.33%\n",
      "Epoch [37/100], Loss: 0.2869, Accuracy: 89.84%, Test Loss: 0.3161, Test Accuracy: 88.33%\n",
      "Epoch [38/100], Loss: 0.2869, Accuracy: 89.76%, Test Loss: 0.3152, Test Accuracy: 87.98%\n",
      "Epoch [39/100], Loss: 0.2821, Accuracy: 90.06%, Test Loss: 0.3181, Test Accuracy: 88.29%\n",
      "Epoch [40/100], Loss: 0.2814, Accuracy: 89.98%, Test Loss: 0.3152, Test Accuracy: 88.49%\n",
      "Epoch [41/100], Loss: 0.2789, Accuracy: 90.08%, Test Loss: 0.3081, Test Accuracy: 88.48%\n",
      "Epoch [42/100], Loss: 0.2767, Accuracy: 90.16%, Test Loss: 0.3088, Test Accuracy: 88.53%\n",
      "Epoch [43/100], Loss: 0.2742, Accuracy: 90.33%, Test Loss: 0.3062, Test Accuracy: 88.93%\n",
      "Epoch [44/100], Loss: 0.2720, Accuracy: 90.32%, Test Loss: 0.3054, Test Accuracy: 88.93%\n",
      "Epoch [45/100], Loss: 0.2691, Accuracy: 90.49%, Test Loss: 0.3088, Test Accuracy: 88.66%\n",
      "Epoch [46/100], Loss: 0.2684, Accuracy: 90.46%, Test Loss: 0.3010, Test Accuracy: 88.82%\n",
      "Epoch [47/100], Loss: 0.2670, Accuracy: 90.52%, Test Loss: 0.3002, Test Accuracy: 88.86%\n",
      "Epoch [48/100], Loss: 0.2644, Accuracy: 90.56%, Test Loss: 0.3017, Test Accuracy: 89.06%\n",
      "Epoch [49/100], Loss: 0.2629, Accuracy: 90.54%, Test Loss: 0.2979, Test Accuracy: 88.93%\n",
      "Epoch [50/100], Loss: 0.2615, Accuracy: 90.66%, Test Loss: 0.2971, Test Accuracy: 89.26%\n",
      "Epoch [51/100], Loss: 0.2581, Accuracy: 90.87%, Test Loss: 0.2982, Test Accuracy: 89.04%\n",
      "Epoch [52/100], Loss: 0.2563, Accuracy: 90.95%, Test Loss: 0.2932, Test Accuracy: 89.34%\n",
      "Epoch [53/100], Loss: 0.2562, Accuracy: 90.87%, Test Loss: 0.2957, Test Accuracy: 89.03%\n",
      "Epoch [54/100], Loss: 0.2542, Accuracy: 90.99%, Test Loss: 0.2929, Test Accuracy: 89.26%\n",
      "Epoch [55/100], Loss: 0.2529, Accuracy: 91.04%, Test Loss: 0.2903, Test Accuracy: 89.37%\n",
      "Epoch [56/100], Loss: 0.2511, Accuracy: 91.07%, Test Loss: 0.2912, Test Accuracy: 89.40%\n",
      "Epoch [57/100], Loss: 0.2498, Accuracy: 91.10%, Test Loss: 0.2919, Test Accuracy: 89.39%\n",
      "Epoch [58/100], Loss: 0.2480, Accuracy: 91.17%, Test Loss: 0.2905, Test Accuracy: 89.38%\n",
      "Epoch [59/100], Loss: 0.2471, Accuracy: 91.12%, Test Loss: 0.2920, Test Accuracy: 89.29%\n",
      "Epoch [60/100], Loss: 0.2449, Accuracy: 91.26%, Test Loss: 0.2921, Test Accuracy: 89.29%\n",
      "Epoch [61/100], Loss: 0.2452, Accuracy: 91.20%, Test Loss: 0.2856, Test Accuracy: 89.62%\n",
      "Epoch [62/100], Loss: 0.2433, Accuracy: 91.26%, Test Loss: 0.2824, Test Accuracy: 89.65%\n",
      "Epoch [63/100], Loss: 0.2401, Accuracy: 91.46%, Test Loss: 0.2823, Test Accuracy: 89.71%\n",
      "Epoch [64/100], Loss: 0.2386, Accuracy: 91.51%, Test Loss: 0.2811, Test Accuracy: 89.75%\n",
      "Epoch [65/100], Loss: 0.2376, Accuracy: 91.51%, Test Loss: 0.2816, Test Accuracy: 89.84%\n",
      "Epoch [66/100], Loss: 0.2371, Accuracy: 91.52%, Test Loss: 0.2848, Test Accuracy: 89.44%\n",
      "Epoch [67/100], Loss: 0.2336, Accuracy: 91.71%, Test Loss: 0.2788, Test Accuracy: 89.89%\n",
      "Epoch [68/100], Loss: 0.2335, Accuracy: 91.61%, Test Loss: 0.2785, Test Accuracy: 89.97%\n",
      "Epoch [69/100], Loss: 0.2338, Accuracy: 91.60%, Test Loss: 0.2753, Test Accuracy: 90.07%\n",
      "Epoch [70/100], Loss: 0.2300, Accuracy: 91.82%, Test Loss: 0.2771, Test Accuracy: 89.89%\n",
      "Epoch [71/100], Loss: 0.2299, Accuracy: 91.81%, Test Loss: 0.2773, Test Accuracy: 89.78%\n",
      "Epoch [72/100], Loss: 0.2272, Accuracy: 91.94%, Test Loss: 0.2774, Test Accuracy: 89.82%\n",
      "Epoch [73/100], Loss: 0.2279, Accuracy: 91.86%, Test Loss: 0.2766, Test Accuracy: 89.95%\n",
      "Epoch [74/100], Loss: 0.2274, Accuracy: 91.86%, Test Loss: 0.2755, Test Accuracy: 89.89%\n",
      "Epoch [75/100], Loss: 0.2251, Accuracy: 92.00%, Test Loss: 0.2747, Test Accuracy: 89.95%\n",
      "Epoch [76/100], Loss: 0.2238, Accuracy: 92.03%, Test Loss: 0.2771, Test Accuracy: 89.90%\n",
      "Epoch [77/100], Loss: 0.2241, Accuracy: 92.01%, Test Loss: 0.2742, Test Accuracy: 90.23%\n",
      "Epoch [78/100], Loss: 0.2205, Accuracy: 92.09%, Test Loss: 0.2700, Test Accuracy: 90.20%\n",
      "Epoch [79/100], Loss: 0.2198, Accuracy: 92.16%, Test Loss: 0.2763, Test Accuracy: 89.87%\n",
      "Epoch [80/100], Loss: 0.2193, Accuracy: 92.20%, Test Loss: 0.2714, Test Accuracy: 90.02%\n",
      "Epoch [81/100], Loss: 0.2182, Accuracy: 92.30%, Test Loss: 0.2690, Test Accuracy: 90.16%\n",
      "Epoch [82/100], Loss: 0.2159, Accuracy: 92.38%, Test Loss: 0.2674, Test Accuracy: 90.24%\n",
      "Epoch [83/100], Loss: 0.2159, Accuracy: 92.34%, Test Loss: 0.2725, Test Accuracy: 90.26%\n",
      "Epoch [84/100], Loss: 0.2143, Accuracy: 92.39%, Test Loss: 0.2673, Test Accuracy: 90.24%\n",
      "Epoch [85/100], Loss: 0.2135, Accuracy: 92.42%, Test Loss: 0.2711, Test Accuracy: 90.15%\n",
      "Epoch [86/100], Loss: 0.2131, Accuracy: 92.48%, Test Loss: 0.2643, Test Accuracy: 90.38%\n",
      "Epoch [87/100], Loss: 0.2105, Accuracy: 92.48%, Test Loss: 0.2650, Test Accuracy: 90.38%\n",
      "Epoch [88/100], Loss: 0.2111, Accuracy: 92.40%, Test Loss: 0.2685, Test Accuracy: 90.15%\n",
      "Epoch [89/100], Loss: 0.2089, Accuracy: 92.61%, Test Loss: 0.2644, Test Accuracy: 90.49%\n",
      "Epoch [90/100], Loss: 0.2087, Accuracy: 92.61%, Test Loss: 0.2617, Test Accuracy: 90.49%\n",
      "Epoch [91/100], Loss: 0.2071, Accuracy: 92.70%, Test Loss: 0.2619, Test Accuracy: 90.61%\n",
      "Epoch [92/100], Loss: 0.2068, Accuracy: 92.65%, Test Loss: 0.2629, Test Accuracy: 90.45%\n",
      "Epoch [93/100], Loss: 0.2050, Accuracy: 92.71%, Test Loss: 0.2659, Test Accuracy: 90.32%\n",
      "Epoch [94/100], Loss: 0.2049, Accuracy: 92.75%, Test Loss: 0.2662, Test Accuracy: 90.23%\n",
      "Epoch [95/100], Loss: 0.2038, Accuracy: 92.75%, Test Loss: 0.2607, Test Accuracy: 90.59%\n",
      "Epoch [96/100], Loss: 0.2046, Accuracy: 92.71%, Test Loss: 0.2652, Test Accuracy: 90.55%\n",
      "Epoch [97/100], Loss: 0.2022, Accuracy: 92.73%, Test Loss: 0.2660, Test Accuracy: 90.42%\n",
      "Epoch [98/100], Loss: 0.2011, Accuracy: 92.79%, Test Loss: 0.2584, Test Accuracy: 90.75%\n",
      "Epoch [99/100], Loss: 0.1994, Accuracy: 92.98%, Test Loss: 0.2577, Test Accuracy: 90.65%\n",
      "Epoch [100/100], Loss: 0.1970, Accuracy: 93.04%, Test Loss: 0.2573, Test Accuracy: 90.81%\n"
     ]
    }
   ],
   "source": [
    "# train\n",
    "for epoch in range(max_epoch):\n",
    "    model.train()\n",
    "    running_loss = 0.0\n",
    "    running_correct = 0   # to track number of correct predictions\n",
    "    total = 0             # to track total number of samples\n",
    "\n",
    "    for i, (inputs, labels) in enumerate(trainloader, 0):\n",
    "        # Move inputs and labels to the device\n",
    "        inputs, labels = inputs.to(device), labels.to(device)\n",
    "\n",
    "        # Zero the parameter gradients\n",
    "        optimizer.zero_grad()\n",
    "\n",
    "        # Forward pass\n",
    "        outputs = model(inputs)\n",
    "        loss = criterion(outputs, labels)\n",
    "        running_loss += loss.item()\n",
    "\n",
    "        # Determine class predictions and track accuracy\n",
    "        _, predicted = torch.max(outputs.data, 1)\n",
    "        total += labels.size(0)\n",
    "        running_correct += (predicted == labels).sum().item()\n",
    "\n",
    "        # Backward pass and optimization\n",
    "        loss.backward()\n",
    "        optimizer.step()        \n",
    "\n",
    "    epoch_accuracy = 100 * running_correct / total\n",
    "    epoch_loss = running_loss / (i + 1)\n",
    "    \n",
    "    test_loss, test_accuracy = evaluate(model, testloader, criterion)\n",
    "    print(f\"Epoch [{epoch + 1}/{max_epoch}], Loss: {epoch_loss:.4f}, Accuracy: {epoch_accuracy:.2f}%, Test Loss: {test_loss:.4f}, Test Accuracy: {test_accuracy:.2f}%\")\n",
    "    \n",
    "    # save for plot\n",
    "    train_losses.append(epoch_loss)\n",
    "    train_accuracies.append(epoch_accuracy)\n",
    "    test_losses.append(test_loss)\n",
    "    test_accuracies.append(test_accuracy)"
   ]
  },
  {
   "cell_type": "code",
   "execution_count": null,
   "metadata": {
    "id": "QKFbl4unF_6t"
   },
   "outputs": [],
   "source": []
  },
  {
   "cell_type": "code",
   "execution_count": 10,
   "metadata": {
    "id": "AwIj3vrnF_8_"
   },
   "outputs": [
    {
     "data": {
      "text/plain": [
       "<matplotlib.legend.Legend at 0x7f650c059c90>"
      ]
     },
     "execution_count": 10,
     "metadata": {},
     "output_type": "execute_result"
    },
    {
     "data": {
      "image/png": "[encoded data removed]",
      "text/plain": [
       "<Figure size 640x480 with 1 Axes>"
      ]
     },
     "metadata": {},
     "output_type": "display_data"
    }
   ],
   "source": [
    "import matplotlib.pyplot as plt\n",
    "\n",
    "plt.plot(train_losses, label='train_losses')\n",
    "plt.plot(test_losses, label='test_losses')\n",
    "plt.legend()"
   ]
  },
  {
   "cell_type": "code",
   "execution_count": 11,
   "metadata": {
    "id": "eh3iDa8lF__H"
   },
   "outputs": [
    {
     "data": {
      "text/plain": [
       "<matplotlib.legend.Legend at 0x7f65019d1de0>"
      ]
     },
     "execution_count": 11,
     "metadata": {},
     "output_type": "execute_result"
    },
    {
     "data": {
      "image/png": "[encoded data removed]",
      "text/plain": [
       "<Figure size 640x480 with 1 Axes>"
      ]
     },
     "metadata": {},
     "output_type": "display_data"
    }
   ],
   "source": [
    "import matplotlib.pyplot as plt\n",
    "\n",
    "plt.plot(train_accuracies, label='train_accuracy')\n",
    "plt.plot(test_accuracies, label='test_accuracy')\n",
    "plt.legend()"
   ]
  },
  {
   "cell_type": "code",
   "execution_count": null,
   "metadata": {},
   "outputs": [],
   "source": []
  },
  {
   "cell_type": "code",
   "execution_count": 12,
   "metadata": {},
   "outputs": [
    {
     "data": {
      "text/plain": [
       "<matplotlib.legend.Legend at 0x7f64e0aca8f0>"
      ]
     },
     "execution_count": 12,
     "metadata": {},
     "output_type": "execute_result"
    }
   ],
   "source": [
    "import matplotlib.pyplot as plt\n",
    "%matplotlib qt\n",
    "\n",
    "plt.plot(train_losses, label='train_losses')\n",
    "plt.plot(test_losses, label='test_losses')\n",
    "plt.legend()"
   ]
  },
  {
   "cell_type": "code",
   "execution_count": 13,
   "metadata": {},
   "outputs": [
    {
     "data": {
      "text/plain": [
       "<matplotlib.legend.Legend at 0x7f645d14a800>"
      ]
     },
     "execution_count": 13,
     "metadata": {},
     "output_type": "execute_result"
    }
   ],
   "source": [
    "import matplotlib.pyplot as plt\n",
    "%matplotlib qt\n",
    "\n",
    "plt.plot(train_accuracies, label='train_accuracy')\n",
    "plt.plot(test_accuracies, label='test_accuracy')\n",
    "plt.legend()"
   ]
  },
  {
   "cell_type": "code",
   "execution_count": null,
   "metadata": {},
   "outputs": [],
   "source": []
  }
 ],
 "metadata": {
  "accelerator": "GPU",
  "colab": {
   "gpuType": "T4",
   "provenance": []
  },
  "kernelspec": {
   "display_name": "Python 3 (ipykernel)",
   "language": "python",
   "name": "python3"
  },
  "language_info": {
   "codemirror_mode": {
    "name": "ipython",
    "version": 3
   },
   "file_extension": ".py",
   "mimetype": "text/x-python",
   "name": "python",
   "nbconvert_exporter": "python",
   "pygments_lexer": "ipython3",
   "version": "3.9.18"
  }
 },
 "nbformat": 4,
 "nbformat_minor": 4
}
