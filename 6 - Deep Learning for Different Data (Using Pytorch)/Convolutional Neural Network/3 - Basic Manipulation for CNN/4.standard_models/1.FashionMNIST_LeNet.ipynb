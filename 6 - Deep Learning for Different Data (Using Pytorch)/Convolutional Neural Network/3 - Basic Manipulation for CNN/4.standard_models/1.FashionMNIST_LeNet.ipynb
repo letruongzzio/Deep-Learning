{
 "cells": [
  {
   "cell_type": "code",
   "execution_count": 1,
   "metadata": {},
   "outputs": [],
   "source": [
    "import torch\n",
    "import torch.nn as nn\n",
    "import torch.optim as optim\n",
    "import torchvision\n",
    "import torchvision.transforms as transforms\n",
    "import torch.nn.init as init\n",
    "import torch.nn.functional as F\n",
    "\n",
    "# Check if GPU is available\n",
    "device = torch.device(\"cuda:0\" if torch.cuda.is_available() else \"cpu\")"
   ]
  },
  {
   "cell_type": "code",
   "execution_count": null,
   "metadata": {},
   "outputs": [],
   "source": []
  },
  {
   "cell_type": "markdown",
   "metadata": {},
   "source": [
    "#### Data"
   ]
  },
  {
   "cell_type": "code",
   "execution_count": 2,
   "metadata": {},
   "outputs": [],
   "source": [
    "# Load CFashionMNIST dataset\n",
    "transform = transforms.Compose([transforms.ToTensor(), transforms.Normalize((0.5,), (0.5,))])\n",
    "\n",
    "trainset = torchvision.datasets.FashionMNIST(root='data', train=True, download=True, transform=transform)\n",
    "trainloader = torch.utils.data.DataLoader(trainset, batch_size=1024, num_workers=10, shuffle=True, drop_last=True)\n",
    "\n",
    "testset = torchvision.datasets.FashionMNIST(root='data', train=False, download=True, transform=transform)\n",
    "testloader = torch.utils.data.DataLoader(testset, batch_size=1024, num_workers=10, shuffle=False)"
   ]
  },
  {
   "cell_type": "code",
   "execution_count": 3,
   "metadata": {},
   "outputs": [
    {
     "data": {
      "image/png": "[encoded data removed]",
      "text/plain": [
       "<Figure size 640x480 with 1 Axes>"
      ]
     },
     "metadata": {},
     "output_type": "display_data"
    }
   ],
   "source": [
    "import matplotlib.pyplot as plt\n",
    "import numpy as np\n",
    "\n",
    "# Function to display the images\n",
    "def imshow(img):\n",
    "    img = img*0.5 + 0.5\n",
    "    np_img = img.numpy()\n",
    "    plt.imshow(np.transpose(np_img, (1, 2, 0)))\n",
    "    plt.show()\n",
    "\n",
    "for i, (images, labels) in enumerate(trainloader, 0):\n",
    "    # Plot some images\n",
    "    imshow(torchvision.utils.make_grid(images[:8]))  # Display 8 images from the batch\n",
    "    break"
   ]
  },
  {
   "cell_type": "code",
   "execution_count": null,
   "metadata": {},
   "outputs": [],
   "source": []
  },
  {
   "cell_type": "markdown",
   "metadata": {},
   "source": [
    "#### Model"
   ]
  },
  {
   "cell_type": "code",
   "execution_count": 12,
   "metadata": {},
   "outputs": [
    {
     "name": "stdout",
     "output_type": "stream",
     "text": [
      "----------------------------------------------------------------\n",
      "        Layer (type)               Output Shape         Param #\n",
      "================================================================\n",
      "            Conv2d-1            [-1, 6, 28, 28]             156\n",
      "         MaxPool2d-2            [-1, 6, 14, 14]               0\n",
      "            Conv2d-3           [-1, 16, 10, 10]           2,416\n",
      "         MaxPool2d-4             [-1, 16, 5, 5]               0\n",
      "            Linear-5                  [-1, 120]          48,120\n",
      "            Linear-6                   [-1, 84]          10,164\n",
      "            Linear-7                   [-1, 10]             850\n",
      "================================================================\n",
      "Total params: 61,706\n",
      "Trainable params: 61,706\n",
      "Non-trainable params: 0\n",
      "----------------------------------------------------------------\n",
      "Input size (MB): 0.00\n",
      "Forward/backward pass size (MB): 0.06\n",
      "Params size (MB): 0.24\n",
      "Estimated Total Size (MB): 0.30\n",
      "----------------------------------------------------------------\n"
     ]
    }
   ],
   "source": [
    "import torch\n",
    "import torch.nn as nn\n",
    "from torchsummary import summary\n",
    "\n",
    "class LeNet(nn.Module):\n",
    "    def __init__(self):\n",
    "        super(LeNet, self).__init__()\n",
    "        self.conv1 = nn.Conv2d(1, 6, 5, padding=2)\n",
    "        self.pool = nn.MaxPool2d(2, 2)\n",
    "        self.conv2 = nn.Conv2d(6, 16, 5)\n",
    "        self.fc1 = nn.Linear(16*5*5, 120)\n",
    "        self.fc2 = nn.Linear(120, 84)\n",
    "        self.fc3 = nn.Linear(84, 10)\n",
    "\n",
    "    def forward(self, x):\n",
    "        x = self.pool(F.relu(self.conv1(x)))\n",
    "        x = self.pool(F.relu(self.conv2(x)))\n",
    "        x = x.view(-1, 16 * 5 * 5)\n",
    "        x = F.relu(self.fc1(x))\n",
    "        x = F.relu(self.fc2(x))\n",
    "        x = self.fc3(x)\n",
    "        return x\n",
    "\n",
    "model = LeNet()\n",
    "model = model.to(device)\n",
    "\n",
    "# Print model\n",
    "summary(model, (1, 28, 28))"
   ]
  },
  {
   "cell_type": "code",
   "execution_count": null,
   "metadata": {},
   "outputs": [],
   "source": []
  },
  {
   "cell_type": "markdown",
   "metadata": {},
   "source": [
    "#### Loss, Optimizer, and Evaluation Function"
   ]
  },
  {
   "cell_type": "code",
   "execution_count": 13,
   "metadata": {},
   "outputs": [],
   "source": [
    "criterion = nn.CrossEntropyLoss()\n",
    "optimizer = optim.Adam(model.parameters(), lr=1e-4)"
   ]
  },
  {
   "cell_type": "code",
   "execution_count": 14,
   "metadata": {},
   "outputs": [],
   "source": [
    "# Function to compute loss and accuracy for test set\n",
    "def evaluate(model, testloader, criterion):\n",
    "    model.eval()\n",
    "    test_loss = 0.0\n",
    "    running_correct = 0\n",
    "    total = 0\n",
    "    with torch.no_grad():\n",
    "        for images, labels in testloader:\n",
    "            # Move inputs and labels to the device\n",
    "            images, labels = images.to(device), labels.to(device)\n",
    "\n",
    "            outputs = model(images)\n",
    "            loss = criterion(outputs, labels)\n",
    "            test_loss += loss.item()\n",
    "            \n",
    "            _, predicted = torch.max(outputs.data, 1)\n",
    "            total += labels.size(0)\n",
    "            running_correct += (predicted == labels).sum().item()\n",
    "\n",
    "    accuracy = 100 * running_correct / total\n",
    "    test_loss = test_loss / len(testloader)\n",
    "    return test_loss, accuracy"
   ]
  },
  {
   "cell_type": "code",
   "execution_count": null,
   "metadata": {},
   "outputs": [],
   "source": []
  },
  {
   "cell_type": "markdown",
   "metadata": {},
   "source": [
    "#### Train"
   ]
  },
  {
   "cell_type": "code",
   "execution_count": 15,
   "metadata": {},
   "outputs": [],
   "source": [
    "# some parameter\n",
    "train_losses = []\n",
    "train_accuracies = []\n",
    "test_losses = []\n",
    "test_accuracies = []\n",
    "max_epoch = 150"
   ]
  },
  {
   "cell_type": "code",
   "execution_count": 16,
   "metadata": {
    "colab": {
     "base_uri": "https://localhost:8080/"
    },
    "id": "tYwXeSOOF_4Z",
    "outputId": "a4c62a4a-267f-4101-ce96-662cc23cdbe0"
   },
   "outputs": [
    {
     "name": "stdout",
     "output_type": "stream",
     "text": [
      "Epoch [1/150], Loss: 2.2491, Accuracy: 20.72%, Test Loss: 2.1304, Test Accuracy: 33.45%\n",
      "Epoch [2/150], Loss: 1.7864, Accuracy: 47.64%, Test Loss: 1.3844, Test Accuracy: 60.60%\n",
      "Epoch [3/150], Loss: 1.1168, Accuracy: 64.52%, Test Loss: 0.9350, Test Accuracy: 67.70%\n",
      "Epoch [4/150], Loss: 0.8383, Accuracy: 70.26%, Test Loss: 0.7909, Test Accuracy: 70.94%\n",
      "Epoch [5/150], Loss: 0.7403, Accuracy: 72.73%, Test Loss: 0.7287, Test Accuracy: 72.94%\n",
      "Epoch [6/150], Loss: 0.6903, Accuracy: 74.23%, Test Loss: 0.6884, Test Accuracy: 74.60%\n",
      "Epoch [7/150], Loss: 0.6563, Accuracy: 75.36%, Test Loss: 0.6592, Test Accuracy: 75.74%\n",
      "Epoch [8/150], Loss: 0.6303, Accuracy: 76.33%, Test Loss: 0.6388, Test Accuracy: 75.65%\n",
      "Epoch [9/150], Loss: 0.6088, Accuracy: 77.30%, Test Loss: 0.6218, Test Accuracy: 76.63%\n",
      "Epoch [10/150], Loss: 0.5909, Accuracy: 78.05%, Test Loss: 0.6009, Test Accuracy: 77.47%\n",
      "Epoch [11/150], Loss: 0.5746, Accuracy: 78.67%, Test Loss: 0.5906, Test Accuracy: 78.24%\n",
      "Epoch [12/150], Loss: 0.5606, Accuracy: 79.23%, Test Loss: 0.5732, Test Accuracy: 79.03%\n",
      "Epoch [13/150], Loss: 0.5474, Accuracy: 79.81%, Test Loss: 0.5611, Test Accuracy: 79.34%\n",
      "Epoch [14/150], Loss: 0.5370, Accuracy: 80.38%, Test Loss: 0.5533, Test Accuracy: 79.84%\n",
      "Epoch [15/150], Loss: 0.5268, Accuracy: 80.76%, Test Loss: 0.5423, Test Accuracy: 80.25%\n",
      "Epoch [16/150], Loss: 0.5180, Accuracy: 81.18%, Test Loss: 0.5346, Test Accuracy: 80.74%\n",
      "Epoch [17/150], Loss: 0.5085, Accuracy: 81.58%, Test Loss: 0.5257, Test Accuracy: 80.89%\n",
      "Epoch [18/150], Loss: 0.5005, Accuracy: 81.96%, Test Loss: 0.5183, Test Accuracy: 81.43%\n",
      "Epoch [19/150], Loss: 0.4930, Accuracy: 82.29%, Test Loss: 0.5087, Test Accuracy: 81.69%\n",
      "Epoch [20/150], Loss: 0.4862, Accuracy: 82.55%, Test Loss: 0.5079, Test Accuracy: 81.62%\n",
      "Epoch [21/150], Loss: 0.4794, Accuracy: 82.95%, Test Loss: 0.4979, Test Accuracy: 82.25%\n",
      "Epoch [22/150], Loss: 0.4731, Accuracy: 83.18%, Test Loss: 0.4902, Test Accuracy: 82.57%\n",
      "Epoch [23/150], Loss: 0.4661, Accuracy: 83.48%, Test Loss: 0.4878, Test Accuracy: 82.57%\n",
      "Epoch [24/150], Loss: 0.4605, Accuracy: 83.62%, Test Loss: 0.4797, Test Accuracy: 83.08%\n",
      "Epoch [25/150], Loss: 0.4537, Accuracy: 83.96%, Test Loss: 0.4725, Test Accuracy: 83.11%\n",
      "Epoch [26/150], Loss: 0.4495, Accuracy: 84.20%, Test Loss: 0.4678, Test Accuracy: 83.33%\n",
      "Epoch [27/150], Loss: 0.4436, Accuracy: 84.36%, Test Loss: 0.4638, Test Accuracy: 83.60%\n",
      "Epoch [28/150], Loss: 0.4392, Accuracy: 84.56%, Test Loss: 0.4609, Test Accuracy: 83.52%\n",
      "Epoch [29/150], Loss: 0.4337, Accuracy: 84.73%, Test Loss: 0.4549, Test Accuracy: 83.77%\n",
      "Epoch [30/150], Loss: 0.4291, Accuracy: 84.89%, Test Loss: 0.4501, Test Accuracy: 84.09%\n",
      "Epoch [31/150], Loss: 0.4247, Accuracy: 84.97%, Test Loss: 0.4476, Test Accuracy: 84.10%\n",
      "Epoch [32/150], Loss: 0.4210, Accuracy: 85.13%, Test Loss: 0.4442, Test Accuracy: 84.25%\n",
      "Epoch [33/150], Loss: 0.4189, Accuracy: 85.14%, Test Loss: 0.4404, Test Accuracy: 84.33%\n",
      "Epoch [34/150], Loss: 0.4130, Accuracy: 85.43%, Test Loss: 0.4353, Test Accuracy: 84.50%\n",
      "Epoch [35/150], Loss: 0.4096, Accuracy: 85.55%, Test Loss: 0.4340, Test Accuracy: 84.59%\n",
      "Epoch [36/150], Loss: 0.4064, Accuracy: 85.61%, Test Loss: 0.4305, Test Accuracy: 84.57%\n",
      "Epoch [37/150], Loss: 0.4029, Accuracy: 85.72%, Test Loss: 0.4279, Test Accuracy: 84.73%\n",
      "Epoch [38/150], Loss: 0.3997, Accuracy: 85.84%, Test Loss: 0.4241, Test Accuracy: 84.98%\n",
      "Epoch [39/150], Loss: 0.3990, Accuracy: 85.84%, Test Loss: 0.4216, Test Accuracy: 85.05%\n",
      "Epoch [40/150], Loss: 0.3956, Accuracy: 86.04%, Test Loss: 0.4205, Test Accuracy: 84.97%\n",
      "Epoch [41/150], Loss: 0.3918, Accuracy: 86.06%, Test Loss: 0.4228, Test Accuracy: 84.80%\n",
      "Epoch [42/150], Loss: 0.3874, Accuracy: 86.27%, Test Loss: 0.4146, Test Accuracy: 85.24%\n",
      "Epoch [43/150], Loss: 0.3866, Accuracy: 86.27%, Test Loss: 0.4108, Test Accuracy: 85.28%\n",
      "Epoch [44/150], Loss: 0.3836, Accuracy: 86.38%, Test Loss: 0.4107, Test Accuracy: 85.40%\n",
      "Epoch [45/150], Loss: 0.3812, Accuracy: 86.48%, Test Loss: 0.4084, Test Accuracy: 85.50%\n",
      "Epoch [46/150], Loss: 0.3794, Accuracy: 86.54%, Test Loss: 0.4075, Test Accuracy: 85.46%\n",
      "Epoch [47/150], Loss: 0.3771, Accuracy: 86.63%, Test Loss: 0.4033, Test Accuracy: 85.66%\n",
      "Epoch [48/150], Loss: 0.3739, Accuracy: 86.64%, Test Loss: 0.4002, Test Accuracy: 85.84%\n",
      "Epoch [49/150], Loss: 0.3721, Accuracy: 86.76%, Test Loss: 0.4023, Test Accuracy: 85.53%\n",
      "Epoch [50/150], Loss: 0.3699, Accuracy: 86.88%, Test Loss: 0.3975, Test Accuracy: 85.84%\n",
      "Epoch [51/150], Loss: 0.3673, Accuracy: 86.97%, Test Loss: 0.3971, Test Accuracy: 86.05%\n",
      "Epoch [52/150], Loss: 0.3663, Accuracy: 86.95%, Test Loss: 0.3931, Test Accuracy: 86.15%\n",
      "Epoch [53/150], Loss: 0.3628, Accuracy: 87.12%, Test Loss: 0.3921, Test Accuracy: 86.01%\n",
      "Epoch [54/150], Loss: 0.3628, Accuracy: 87.06%, Test Loss: 0.3909, Test Accuracy: 86.24%\n",
      "Epoch [55/150], Loss: 0.3590, Accuracy: 87.18%, Test Loss: 0.3871, Test Accuracy: 86.22%\n",
      "Epoch [56/150], Loss: 0.3578, Accuracy: 87.28%, Test Loss: 0.3877, Test Accuracy: 86.18%\n",
      "Epoch [57/150], Loss: 0.3558, Accuracy: 87.36%, Test Loss: 0.3838, Test Accuracy: 86.39%\n",
      "Epoch [58/150], Loss: 0.3533, Accuracy: 87.43%, Test Loss: 0.3841, Test Accuracy: 86.36%\n",
      "Epoch [59/150], Loss: 0.3527, Accuracy: 87.42%, Test Loss: 0.3833, Test Accuracy: 86.51%\n",
      "Epoch [60/150], Loss: 0.3505, Accuracy: 87.59%, Test Loss: 0.3810, Test Accuracy: 86.49%\n",
      "Epoch [61/150], Loss: 0.3486, Accuracy: 87.51%, Test Loss: 0.3806, Test Accuracy: 86.49%\n",
      "Epoch [62/150], Loss: 0.3476, Accuracy: 87.57%, Test Loss: 0.3767, Test Accuracy: 86.60%\n",
      "Epoch [63/150], Loss: 0.3455, Accuracy: 87.64%, Test Loss: 0.3752, Test Accuracy: 86.87%\n",
      "Epoch [64/150], Loss: 0.3453, Accuracy: 87.69%, Test Loss: 0.3738, Test Accuracy: 86.82%\n",
      "Epoch [65/150], Loss: 0.3442, Accuracy: 87.76%, Test Loss: 0.3720, Test Accuracy: 86.91%\n",
      "Epoch [66/150], Loss: 0.3415, Accuracy: 87.90%, Test Loss: 0.3731, Test Accuracy: 86.77%\n",
      "Epoch [67/150], Loss: 0.3403, Accuracy: 87.89%, Test Loss: 0.3698, Test Accuracy: 86.71%\n",
      "Epoch [68/150], Loss: 0.3379, Accuracy: 87.93%, Test Loss: 0.3705, Test Accuracy: 86.79%\n",
      "Epoch [69/150], Loss: 0.3368, Accuracy: 88.04%, Test Loss: 0.3675, Test Accuracy: 87.05%\n",
      "Epoch [70/150], Loss: 0.3350, Accuracy: 88.13%, Test Loss: 0.3659, Test Accuracy: 87.06%\n",
      "Epoch [71/150], Loss: 0.3334, Accuracy: 88.15%, Test Loss: 0.3657, Test Accuracy: 87.04%\n",
      "Epoch [72/150], Loss: 0.3332, Accuracy: 88.07%, Test Loss: 0.3655, Test Accuracy: 87.17%\n",
      "Epoch [73/150], Loss: 0.3321, Accuracy: 88.20%, Test Loss: 0.3645, Test Accuracy: 87.11%\n",
      "Epoch [74/150], Loss: 0.3313, Accuracy: 88.25%, Test Loss: 0.3641, Test Accuracy: 87.16%\n",
      "Epoch [75/150], Loss: 0.3287, Accuracy: 88.35%, Test Loss: 0.3601, Test Accuracy: 87.26%\n",
      "Epoch [76/150], Loss: 0.3277, Accuracy: 88.38%, Test Loss: 0.3627, Test Accuracy: 87.33%\n",
      "Epoch [77/150], Loss: 0.3261, Accuracy: 88.42%, Test Loss: 0.3608, Test Accuracy: 87.19%\n",
      "Epoch [78/150], Loss: 0.3254, Accuracy: 88.47%, Test Loss: 0.3591, Test Accuracy: 87.51%\n",
      "Epoch [79/150], Loss: 0.3249, Accuracy: 88.45%, Test Loss: 0.3556, Test Accuracy: 87.61%\n",
      "Epoch [80/150], Loss: 0.3233, Accuracy: 88.54%, Test Loss: 0.3603, Test Accuracy: 87.07%\n",
      "Epoch [81/150], Loss: 0.3211, Accuracy: 88.59%, Test Loss: 0.3543, Test Accuracy: 87.56%\n",
      "Epoch [82/150], Loss: 0.3207, Accuracy: 88.65%, Test Loss: 0.3551, Test Accuracy: 87.42%\n",
      "Epoch [83/150], Loss: 0.3181, Accuracy: 88.79%, Test Loss: 0.3553, Test Accuracy: 87.43%\n",
      "Epoch [84/150], Loss: 0.3178, Accuracy: 88.78%, Test Loss: 0.3599, Test Accuracy: 87.27%\n",
      "Epoch [85/150], Loss: 0.3172, Accuracy: 88.75%, Test Loss: 0.3523, Test Accuracy: 87.61%\n",
      "Epoch [86/150], Loss: 0.3157, Accuracy: 88.81%, Test Loss: 0.3507, Test Accuracy: 87.71%\n",
      "Epoch [87/150], Loss: 0.3163, Accuracy: 88.71%, Test Loss: 0.3508, Test Accuracy: 87.75%\n",
      "Epoch [88/150], Loss: 0.3144, Accuracy: 88.91%, Test Loss: 0.3505, Test Accuracy: 87.62%\n",
      "Epoch [89/150], Loss: 0.3128, Accuracy: 88.89%, Test Loss: 0.3484, Test Accuracy: 87.69%\n",
      "Epoch [90/150], Loss: 0.3114, Accuracy: 88.97%, Test Loss: 0.3476, Test Accuracy: 87.80%\n",
      "Epoch [91/150], Loss: 0.3102, Accuracy: 89.01%, Test Loss: 0.3486, Test Accuracy: 87.66%\n",
      "Epoch [92/150], Loss: 0.3114, Accuracy: 88.92%, Test Loss: 0.3460, Test Accuracy: 87.78%\n",
      "Epoch [93/150], Loss: 0.3098, Accuracy: 89.00%, Test Loss: 0.3442, Test Accuracy: 87.99%\n",
      "Epoch [94/150], Loss: 0.3072, Accuracy: 89.15%, Test Loss: 0.3442, Test Accuracy: 87.91%\n",
      "Epoch [95/150], Loss: 0.3065, Accuracy: 89.15%, Test Loss: 0.3434, Test Accuracy: 88.10%\n",
      "Epoch [96/150], Loss: 0.3045, Accuracy: 89.30%, Test Loss: 0.3418, Test Accuracy: 88.01%\n",
      "Epoch [97/150], Loss: 0.3053, Accuracy: 89.21%, Test Loss: 0.3407, Test Accuracy: 88.02%\n",
      "Epoch [98/150], Loss: 0.3040, Accuracy: 89.24%, Test Loss: 0.3402, Test Accuracy: 88.09%\n",
      "Epoch [99/150], Loss: 0.3037, Accuracy: 89.22%, Test Loss: 0.3413, Test Accuracy: 87.91%\n",
      "Epoch [100/150], Loss: 0.3036, Accuracy: 89.25%, Test Loss: 0.3379, Test Accuracy: 88.06%\n",
      "Epoch [101/150], Loss: 0.3004, Accuracy: 89.45%, Test Loss: 0.3390, Test Accuracy: 88.02%\n",
      "Epoch [102/150], Loss: 0.3002, Accuracy: 89.39%, Test Loss: 0.3394, Test Accuracy: 87.91%\n",
      "Epoch [103/150], Loss: 0.3006, Accuracy: 89.35%, Test Loss: 0.3382, Test Accuracy: 88.01%\n",
      "Epoch [104/150], Loss: 0.2984, Accuracy: 89.47%, Test Loss: 0.3392, Test Accuracy: 88.08%\n",
      "Epoch [105/150], Loss: 0.2983, Accuracy: 89.40%, Test Loss: 0.3361, Test Accuracy: 88.08%\n",
      "Epoch [106/150], Loss: 0.2981, Accuracy: 89.42%, Test Loss: 0.3358, Test Accuracy: 88.26%\n",
      "Epoch [107/150], Loss: 0.2952, Accuracy: 89.63%, Test Loss: 0.3337, Test Accuracy: 88.26%\n",
      "Epoch [108/150], Loss: 0.2952, Accuracy: 89.52%, Test Loss: 0.3366, Test Accuracy: 88.36%\n",
      "Epoch [109/150], Loss: 0.2945, Accuracy: 89.59%, Test Loss: 0.3362, Test Accuracy: 88.20%\n",
      "Epoch [110/150], Loss: 0.2943, Accuracy: 89.60%, Test Loss: 0.3333, Test Accuracy: 88.19%\n",
      "Epoch [111/150], Loss: 0.2919, Accuracy: 89.65%, Test Loss: 0.3310, Test Accuracy: 88.40%\n",
      "Epoch [112/150], Loss: 0.2935, Accuracy: 89.52%, Test Loss: 0.3408, Test Accuracy: 87.98%\n",
      "Epoch [113/150], Loss: 0.2938, Accuracy: 89.58%, Test Loss: 0.3330, Test Accuracy: 88.20%\n",
      "Epoch [114/150], Loss: 0.2902, Accuracy: 89.78%, Test Loss: 0.3322, Test Accuracy: 88.30%\n",
      "Epoch [115/150], Loss: 0.2908, Accuracy: 89.66%, Test Loss: 0.3315, Test Accuracy: 88.30%\n",
      "Epoch [116/150], Loss: 0.2891, Accuracy: 89.83%, Test Loss: 0.3327, Test Accuracy: 88.26%\n",
      "Epoch [117/150], Loss: 0.2877, Accuracy: 89.83%, Test Loss: 0.3296, Test Accuracy: 88.42%\n",
      "Epoch [118/150], Loss: 0.2876, Accuracy: 89.82%, Test Loss: 0.3292, Test Accuracy: 88.25%\n",
      "Epoch [119/150], Loss: 0.2877, Accuracy: 89.81%, Test Loss: 0.3280, Test Accuracy: 88.53%\n",
      "Epoch [120/150], Loss: 0.2865, Accuracy: 89.80%, Test Loss: 0.3277, Test Accuracy: 88.50%\n",
      "Epoch [121/150], Loss: 0.2849, Accuracy: 89.82%, Test Loss: 0.3278, Test Accuracy: 88.34%\n",
      "Epoch [122/150], Loss: 0.2850, Accuracy: 89.93%, Test Loss: 0.3266, Test Accuracy: 88.57%\n",
      "Epoch [123/150], Loss: 0.2837, Accuracy: 89.98%, Test Loss: 0.3276, Test Accuracy: 88.47%\n",
      "Epoch [124/150], Loss: 0.2827, Accuracy: 90.02%, Test Loss: 0.3261, Test Accuracy: 88.52%\n",
      "Epoch [125/150], Loss: 0.2821, Accuracy: 90.02%, Test Loss: 0.3267, Test Accuracy: 88.43%\n",
      "Epoch [126/150], Loss: 0.2817, Accuracy: 90.12%, Test Loss: 0.3261, Test Accuracy: 88.42%\n",
      "Epoch [127/150], Loss: 0.2807, Accuracy: 90.10%, Test Loss: 0.3259, Test Accuracy: 88.51%\n",
      "Epoch [128/150], Loss: 0.2806, Accuracy: 90.02%, Test Loss: 0.3261, Test Accuracy: 88.64%\n",
      "Epoch [129/150], Loss: 0.2797, Accuracy: 90.14%, Test Loss: 0.3238, Test Accuracy: 88.62%\n",
      "Epoch [130/150], Loss: 0.2788, Accuracy: 90.08%, Test Loss: 0.3233, Test Accuracy: 88.60%\n",
      "Epoch [131/150], Loss: 0.2781, Accuracy: 90.15%, Test Loss: 0.3222, Test Accuracy: 88.61%\n",
      "Epoch [132/150], Loss: 0.2765, Accuracy: 90.19%, Test Loss: 0.3227, Test Accuracy: 88.65%\n",
      "Epoch [133/150], Loss: 0.2761, Accuracy: 90.21%, Test Loss: 0.3249, Test Accuracy: 88.70%\n",
      "Epoch [134/150], Loss: 0.2766, Accuracy: 90.19%, Test Loss: 0.3209, Test Accuracy: 88.80%\n",
      "Epoch [135/150], Loss: 0.2763, Accuracy: 90.26%, Test Loss: 0.3212, Test Accuracy: 88.76%\n",
      "Epoch [136/150], Loss: 0.2740, Accuracy: 90.26%, Test Loss: 0.3200, Test Accuracy: 88.76%\n",
      "Epoch [137/150], Loss: 0.2755, Accuracy: 90.18%, Test Loss: 0.3192, Test Accuracy: 88.83%\n",
      "Epoch [138/150], Loss: 0.2741, Accuracy: 90.29%, Test Loss: 0.3197, Test Accuracy: 88.62%\n",
      "Epoch [139/150], Loss: 0.2727, Accuracy: 90.32%, Test Loss: 0.3201, Test Accuracy: 88.65%\n",
      "Epoch [140/150], Loss: 0.2723, Accuracy: 90.36%, Test Loss: 0.3181, Test Accuracy: 88.69%\n",
      "Epoch [141/150], Loss: 0.2722, Accuracy: 90.36%, Test Loss: 0.3182, Test Accuracy: 88.78%\n",
      "Epoch [142/150], Loss: 0.2717, Accuracy: 90.36%, Test Loss: 0.3187, Test Accuracy: 88.69%\n",
      "Epoch [143/150], Loss: 0.2711, Accuracy: 90.35%, Test Loss: 0.3173, Test Accuracy: 88.83%\n",
      "Epoch [144/150], Loss: 0.2697, Accuracy: 90.41%, Test Loss: 0.3157, Test Accuracy: 88.88%\n",
      "Epoch [145/150], Loss: 0.2682, Accuracy: 90.48%, Test Loss: 0.3172, Test Accuracy: 88.91%\n",
      "Epoch [146/150], Loss: 0.2678, Accuracy: 90.55%, Test Loss: 0.3161, Test Accuracy: 88.82%\n",
      "Epoch [147/150], Loss: 0.2687, Accuracy: 90.53%, Test Loss: 0.3157, Test Accuracy: 88.70%\n",
      "Epoch [148/150], Loss: 0.2669, Accuracy: 90.54%, Test Loss: 0.3174, Test Accuracy: 88.88%\n",
      "Epoch [149/150], Loss: 0.2679, Accuracy: 90.39%, Test Loss: 0.3177, Test Accuracy: 88.73%\n",
      "Epoch [150/150], Loss: 0.2659, Accuracy: 90.52%, Test Loss: 0.3228, Test Accuracy: 88.47%\n"
     ]
    }
   ],
   "source": [
    "# train\n",
    "for epoch in range(max_epoch):\n",
    "    model.train()\n",
    "    running_loss = 0.0\n",
    "    running_correct = 0   # to track number of correct predictions\n",
    "    total = 0             # to track total number of samples\n",
    "\n",
    "    for i, (inputs, labels) in enumerate(trainloader, 0):\n",
    "        # Move inputs and labels to the device\n",
    "        inputs, labels = inputs.to(device), labels.to(device)\n",
    "\n",
    "        # Zero the parameter gradients\n",
    "        optimizer.zero_grad()\n",
    "\n",
    "        # Forward pass\n",
    "        outputs = model(inputs)\n",
    "        loss = criterion(outputs, labels)\n",
    "        running_loss += loss.item()\n",
    "\n",
    "        # Determine class predictions and track accuracy\n",
    "        _, predicted = torch.max(outputs.data, 1)\n",
    "        total += labels.size(0)\n",
    "        running_correct += (predicted == labels).sum().item()\n",
    "\n",
    "        # Backward pass and optimization\n",
    "        loss.backward()\n",
    "        optimizer.step()        \n",
    "\n",
    "    epoch_accuracy = 100 * running_correct / total\n",
    "    epoch_loss = running_loss / (i + 1)\n",
    "    \n",
    "    test_loss, test_accuracy = evaluate(model, testloader, criterion)\n",
    "    print(f\"Epoch [{epoch + 1}/{max_epoch}], Loss: {epoch_loss:.4f}, Accuracy: {epoch_accuracy:.2f}%, Test Loss: {test_loss:.4f}, Test Accuracy: {test_accuracy:.2f}%\")\n",
    "    \n",
    "    # save for plot\n",
    "    train_losses.append(epoch_loss)\n",
    "    train_accuracies.append(epoch_accuracy)\n",
    "    test_losses.append(test_loss)\n",
    "    test_accuracies.append(test_accuracy)"
   ]
  },
  {
   "cell_type": "code",
   "execution_count": null,
   "metadata": {
    "id": "QKFbl4unF_6t"
   },
   "outputs": [],
   "source": []
  },
  {
   "cell_type": "code",
   "execution_count": 17,
   "metadata": {
    "id": "AwIj3vrnF_8_"
   },
   "outputs": [
    {
     "data": {
      "text/plain": [
       "<matplotlib.legend.Legend at 0x7f2b0ca41930>"
      ]
     },
     "execution_count": 17,
     "metadata": {},
     "output_type": "execute_result"
    },
    {
     "data": {
      "image/png": "[encoded data removed]",
      "text/plain": [
       "<Figure size 640x480 with 1 Axes>"
      ]
     },
     "metadata": {},
     "output_type": "display_data"
    }
   ],
   "source": [
    "import matplotlib.pyplot as plt\n",
    "\n",
    "plt.plot(train_losses, label='train_losses')\n",
    "plt.plot(test_losses, label='test_losses')\n",
    "plt.legend()"
   ]
  },
  {
   "cell_type": "code",
   "execution_count": 18,
   "metadata": {
    "id": "eh3iDa8lF__H"
   },
   "outputs": [
    {
     "data": {
      "text/plain": [
       "<matplotlib.legend.Legend at 0x7f2b0e6fe7a0>"
      ]
     },
     "execution_count": 18,
     "metadata": {},
     "output_type": "execute_result"
    },
    {
     "data": {
      "image/png": "[encoded data removed]",
      "text/plain": [
       "<Figure size 640x480 with 1 Axes>"
      ]
     },
     "metadata": {},
     "output_type": "display_data"
    }
   ],
   "source": [
    "import matplotlib.pyplot as plt\n",
    "\n",
    "plt.plot(train_accuracies, label='train_accuracy')\n",
    "plt.plot(test_accuracies, label='test_accuracy')\n",
    "plt.legend()"
   ]
  },
  {
   "cell_type": "code",
   "execution_count": null,
   "metadata": {},
   "outputs": [],
   "source": []
  },
  {
   "cell_type": "code",
   "execution_count": 19,
   "metadata": {},
   "outputs": [
    {
     "data": {
      "text/plain": [
       "<matplotlib.legend.Legend at 0x7f2af6946e30>"
      ]
     },
     "execution_count": 19,
     "metadata": {},
     "output_type": "execute_result"
    }
   ],
   "source": [
    "import matplotlib.pyplot as plt\n",
    "%matplotlib qt\n",
    "\n",
    "plt.plot(train_losses, label='train_losses')\n",
    "plt.plot(test_losses, label='test_losses')\n",
    "plt.legend()"
   ]
  },
  {
   "cell_type": "code",
   "execution_count": 20,
   "metadata": {},
   "outputs": [
    {
     "data": {
      "text/plain": [
       "<matplotlib.legend.Legend at 0x7f2af6a02980>"
      ]
     },
     "execution_count": 20,
     "metadata": {},
     "output_type": "execute_result"
    }
   ],
   "source": [
    "import matplotlib.pyplot as plt\n",
    "%matplotlib qt\n",
    "\n",
    "plt.plot(train_accuracies, label='train_accuracy')\n",
    "plt.plot(test_accuracies, label='test_accuracy')\n",
    "plt.legend()"
   ]
  },
  {
   "cell_type": "code",
   "execution_count": null,
   "metadata": {},
   "outputs": [],
   "source": []
  }
 ],
 "metadata": {
  "accelerator": "GPU",
  "colab": {
   "gpuType": "T4",
   "provenance": []
  },
  "kernelspec": {
   "display_name": "Python 3 (ipykernel)",
   "language": "python",
   "name": "python3"
  },
  "language_info": {
   "codemirror_mode": {
    "name": "ipython",
    "version": 3
   },
   "file_extension": ".py",
   "mimetype": "text/x-python",
   "name": "python",
   "nbconvert_exporter": "python",
   "pygments_lexer": "ipython3",
   "version": "3.9.18"
  }
 },
 "nbformat": 4,
 "nbformat_minor": 4
}
