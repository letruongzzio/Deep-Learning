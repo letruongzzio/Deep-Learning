{
 "cells": [
  {
   "cell_type": "code",
   "execution_count": 1,
   "metadata": {},
   "outputs": [],
   "source": [
    "import torch\n",
    "import torch.nn as nn\n",
    "import torch.optim as optim\n",
    "import torchvision\n",
    "import torchvision.transforms as transforms\n",
    "import torch.nn.init as init\n",
    "\n",
    "# Check if GPU is available\n",
    "device = torch.device(\"cuda:0\" if torch.cuda.is_available() else \"cpu\")"
   ]
  },
  {
   "cell_type": "code",
   "execution_count": null,
   "metadata": {},
   "outputs": [],
   "source": []
  },
  {
   "cell_type": "markdown",
   "metadata": {},
   "source": [
    "#### Data"
   ]
  },
  {
   "cell_type": "code",
   "execution_count": 2,
   "metadata": {},
   "outputs": [],
   "source": [
    "# Load CFashionMNIST dataset\n",
    "transform = transforms.Compose([transforms.ToTensor(), transforms.Normalize((0.5,), (0.5,))])\n",
    "\n",
    "trainset = torchvision.datasets.FashionMNIST(root='data', train=True, download=True, transform=transform)\n",
    "trainloader = torch.utils.data.DataLoader(trainset, batch_size=1024, num_workers=10, shuffle=True, drop_last=True)\n",
    "\n",
    "testset = torchvision.datasets.FashionMNIST(root='data', train=False, download=True, transform=transform)\n",
    "testloader = torch.utils.data.DataLoader(testset, batch_size=1024, num_workers=10, shuffle=False)"
   ]
  },
  {
   "cell_type": "code",
   "execution_count": 3,
   "metadata": {},
   "outputs": [
    {
     "data": {
      "image/png": "[encoded data removed]",
      "text/plain": [
       "<Figure size 640x480 with 1 Axes>"
      ]
     },
     "metadata": {},
     "output_type": "display_data"
    }
   ],
   "source": [
    "import matplotlib.pyplot as plt\n",
    "import numpy as np\n",
    "\n",
    "# Function to display the images\n",
    "def imshow(img):\n",
    "    img = img*0.5 + 0.5\n",
    "    np_img = img.numpy()\n",
    "    plt.imshow(np.transpose(np_img, (1, 2, 0)))\n",
    "    plt.show()\n",
    "\n",
    "for i, (images, labels) in enumerate(trainloader, 0):\n",
    "    # Plot some images\n",
    "    imshow(torchvision.utils.make_grid(images[:8]))  # Display 8 images from the batch\n",
    "    break"
   ]
  },
  {
   "cell_type": "code",
   "execution_count": null,
   "metadata": {},
   "outputs": [],
   "source": []
  },
  {
   "cell_type": "markdown",
   "metadata": {},
   "source": [
    "#### Model"
   ]
  },
  {
   "cell_type": "code",
   "execution_count": 4,
   "metadata": {},
   "outputs": [
    {
     "name": "stdout",
     "output_type": "stream",
     "text": [
      "----------------------------------------------------------------\n",
      "        Layer (type)               Output Shape         Param #\n",
      "================================================================\n",
      "            Conv2d-1           [-1, 32, 24, 24]             832\n",
      "              ReLU-2           [-1, 32, 24, 24]               0\n",
      "         AvgPool2d-3           [-1, 32, 12, 12]               0\n",
      "           Flatten-4                 [-1, 4608]               0\n",
      "            Linear-5                  [-1, 128]         589,952\n",
      "              ReLU-6                  [-1, 128]               0\n",
      "            Linear-7                   [-1, 10]           1,290\n",
      "================================================================\n",
      "Total params: 592,074\n",
      "Trainable params: 592,074\n",
      "Non-trainable params: 0\n",
      "----------------------------------------------------------------\n",
      "Input size (MB): 0.00\n",
      "Forward/backward pass size (MB): 0.35\n",
      "Params size (MB): 2.26\n",
      "Estimated Total Size (MB): 2.62\n",
      "----------------------------------------------------------------\n"
     ]
    }
   ],
   "source": [
    "import torch\n",
    "import torch.nn as nn\n",
    "from torchsummary import summary\n",
    "\n",
    "class CustomModel(nn.Module):\n",
    "    def __init__(self):\n",
    "        super(CustomModel, self).__init__()\n",
    "        self.conv = nn.Conv2d(1, 32, kernel_size=5)\n",
    "        self.pool = nn.AvgPool2d(2, 2) \n",
    "        self.flatten = nn.Flatten()\n",
    "        self.dense1 = nn.Linear(12*12*32, 128)\n",
    "        self.dense2 = nn.Linear(128, 10)\n",
    "        self.relu = nn.ReLU()\n",
    "        \n",
    "    def forward(self, x):\n",
    "        x = self.conv(x)\n",
    "        x = self.relu(x)\n",
    "        x = self.pool(x)\n",
    "        x = self.flatten(x)\n",
    "        x = self.relu(self.dense1(x))\n",
    "        x = self.dense2(x)\n",
    "        return x\n",
    "\n",
    "model = CustomModel()\n",
    "model = model.to(device)\n",
    "\n",
    "# Print model\n",
    "summary(model, (1, 28, 28))"
   ]
  },
  {
   "cell_type": "code",
   "execution_count": null,
   "metadata": {},
   "outputs": [],
   "source": []
  },
  {
   "cell_type": "markdown",
   "metadata": {},
   "source": [
    "#### Loss, Optimizer, and Evaluation Function"
   ]
  },
  {
   "cell_type": "code",
   "execution_count": 5,
   "metadata": {},
   "outputs": [],
   "source": [
    "criterion = nn.CrossEntropyLoss()\n",
    "optimizer = optim.Adam(model.parameters(), lr=1e-4)"
   ]
  },
  {
   "cell_type": "code",
   "execution_count": 6,
   "metadata": {},
   "outputs": [],
   "source": [
    "# Function to compute loss and accuracy for test set\n",
    "def evaluate(model, testloader, criterion):\n",
    "    model.eval()\n",
    "    test_loss = 0.0\n",
    "    running_correct = 0\n",
    "    total = 0\n",
    "    with torch.no_grad():\n",
    "        for images, labels in testloader:\n",
    "            # Move inputs and labels to the device\n",
    "            images, labels = images.to(device), labels.to(device)\n",
    "\n",
    "            outputs = model(images)\n",
    "            loss = criterion(outputs, labels)\n",
    "            test_loss += loss.item()\n",
    "            \n",
    "            _, predicted = torch.max(outputs.data, 1)\n",
    "            total += labels.size(0)\n",
    "            running_correct += (predicted == labels).sum().item()\n",
    "\n",
    "    accuracy = 100 * running_correct / total\n",
    "    test_loss = test_loss / len(testloader)\n",
    "    return test_loss, accuracy"
   ]
  },
  {
   "cell_type": "code",
   "execution_count": null,
   "metadata": {},
   "outputs": [],
   "source": []
  },
  {
   "cell_type": "markdown",
   "metadata": {},
   "source": [
    "#### Train"
   ]
  },
  {
   "cell_type": "code",
   "execution_count": 7,
   "metadata": {},
   "outputs": [],
   "source": [
    "# some parameter\n",
    "train_losses = []\n",
    "train_accuracies = []\n",
    "test_losses = []\n",
    "test_accuracies = []\n",
    "max_epoch = 150"
   ]
  },
  {
   "cell_type": "code",
   "execution_count": 8,
   "metadata": {
    "colab": {
     "base_uri": "https://localhost:8080/"
    },
    "id": "tYwXeSOOF_4Z",
    "outputId": "a4c62a4a-267f-4101-ce96-662cc23cdbe0"
   },
   "outputs": [
    {
     "name": "stdout",
     "output_type": "stream",
     "text": [
      "Epoch [1/150], Loss: 1.4442, Accuracy: 61.88%, Test Loss: 0.9142, Test Accuracy: 70.93%\n",
      "Epoch [2/150], Loss: 0.7605, Accuracy: 74.57%, Test Loss: 0.6812, Test Accuracy: 75.83%\n",
      "Epoch [3/150], Loss: 0.6175, Accuracy: 78.48%, Test Loss: 0.5976, Test Accuracy: 78.50%\n",
      "Epoch [4/150], Loss: 0.5522, Accuracy: 80.54%, Test Loss: 0.5507, Test Accuracy: 80.52%\n",
      "Epoch [5/150], Loss: 0.5110, Accuracy: 82.10%, Test Loss: 0.5188, Test Accuracy: 81.68%\n",
      "Epoch [6/150], Loss: 0.4804, Accuracy: 83.10%, Test Loss: 0.4933, Test Accuracy: 82.61%\n",
      "Epoch [7/150], Loss: 0.4573, Accuracy: 84.07%, Test Loss: 0.4759, Test Accuracy: 82.98%\n",
      "Epoch [8/150], Loss: 0.4389, Accuracy: 84.72%, Test Loss: 0.4573, Test Accuracy: 83.89%\n",
      "Epoch [9/150], Loss: 0.4234, Accuracy: 85.29%, Test Loss: 0.4453, Test Accuracy: 84.14%\n",
      "Epoch [10/150], Loss: 0.4107, Accuracy: 85.65%, Test Loss: 0.4399, Test Accuracy: 84.49%\n",
      "Epoch [11/150], Loss: 0.3993, Accuracy: 86.16%, Test Loss: 0.4249, Test Accuracy: 85.05%\n",
      "Epoch [12/150], Loss: 0.3878, Accuracy: 86.50%, Test Loss: 0.4154, Test Accuracy: 85.31%\n",
      "Epoch [13/150], Loss: 0.3792, Accuracy: 86.78%, Test Loss: 0.4072, Test Accuracy: 85.65%\n",
      "Epoch [14/150], Loss: 0.3722, Accuracy: 87.03%, Test Loss: 0.3992, Test Accuracy: 85.88%\n",
      "Epoch [15/150], Loss: 0.3644, Accuracy: 87.23%, Test Loss: 0.3916, Test Accuracy: 86.24%\n",
      "Epoch [16/150], Loss: 0.3566, Accuracy: 87.54%, Test Loss: 0.3863, Test Accuracy: 86.43%\n",
      "Epoch [17/150], Loss: 0.3522, Accuracy: 87.68%, Test Loss: 0.3808, Test Accuracy: 86.60%\n",
      "Epoch [18/150], Loss: 0.3456, Accuracy: 87.93%, Test Loss: 0.3777, Test Accuracy: 86.55%\n",
      "Epoch [19/150], Loss: 0.3396, Accuracy: 88.17%, Test Loss: 0.3721, Test Accuracy: 86.88%\n",
      "Epoch [20/150], Loss: 0.3358, Accuracy: 88.22%, Test Loss: 0.3687, Test Accuracy: 86.89%\n",
      "Epoch [21/150], Loss: 0.3312, Accuracy: 88.35%, Test Loss: 0.3618, Test Accuracy: 87.23%\n",
      "Epoch [22/150], Loss: 0.3265, Accuracy: 88.61%, Test Loss: 0.3612, Test Accuracy: 87.22%\n",
      "Epoch [23/150], Loss: 0.3219, Accuracy: 88.70%, Test Loss: 0.3572, Test Accuracy: 87.26%\n",
      "Epoch [24/150], Loss: 0.3185, Accuracy: 88.77%, Test Loss: 0.3530, Test Accuracy: 87.50%\n",
      "Epoch [25/150], Loss: 0.3147, Accuracy: 88.94%, Test Loss: 0.3516, Test Accuracy: 87.70%\n",
      "Epoch [26/150], Loss: 0.3106, Accuracy: 89.07%, Test Loss: 0.3473, Test Accuracy: 87.60%\n",
      "Epoch [27/150], Loss: 0.3082, Accuracy: 89.19%, Test Loss: 0.3432, Test Accuracy: 87.95%\n",
      "Epoch [28/150], Loss: 0.3060, Accuracy: 89.25%, Test Loss: 0.3412, Test Accuracy: 87.76%\n",
      "Epoch [29/150], Loss: 0.3015, Accuracy: 89.43%, Test Loss: 0.3393, Test Accuracy: 87.95%\n",
      "Epoch [30/150], Loss: 0.2992, Accuracy: 89.49%, Test Loss: 0.3390, Test Accuracy: 87.92%\n",
      "Epoch [31/150], Loss: 0.2963, Accuracy: 89.59%, Test Loss: 0.3334, Test Accuracy: 88.09%\n",
      "Epoch [32/150], Loss: 0.2931, Accuracy: 89.73%, Test Loss: 0.3334, Test Accuracy: 87.95%\n",
      "Epoch [33/150], Loss: 0.2901, Accuracy: 89.71%, Test Loss: 0.3289, Test Accuracy: 88.24%\n",
      "Epoch [34/150], Loss: 0.2868, Accuracy: 89.92%, Test Loss: 0.3298, Test Accuracy: 87.87%\n",
      "Epoch [35/150], Loss: 0.2845, Accuracy: 90.01%, Test Loss: 0.3263, Test Accuracy: 88.52%\n",
      "Epoch [36/150], Loss: 0.2830, Accuracy: 90.00%, Test Loss: 0.3235, Test Accuracy: 88.48%\n",
      "Epoch [37/150], Loss: 0.2799, Accuracy: 90.15%, Test Loss: 0.3213, Test Accuracy: 88.57%\n",
      "Epoch [38/150], Loss: 0.2784, Accuracy: 90.11%, Test Loss: 0.3195, Test Accuracy: 88.44%\n",
      "Epoch [39/150], Loss: 0.2760, Accuracy: 90.24%, Test Loss: 0.3234, Test Accuracy: 88.45%\n",
      "Epoch [40/150], Loss: 0.2736, Accuracy: 90.37%, Test Loss: 0.3167, Test Accuracy: 88.61%\n",
      "Epoch [41/150], Loss: 0.2705, Accuracy: 90.40%, Test Loss: 0.3161, Test Accuracy: 88.51%\n",
      "Epoch [42/150], Loss: 0.2694, Accuracy: 90.40%, Test Loss: 0.3143, Test Accuracy: 88.72%\n",
      "Epoch [43/150], Loss: 0.2673, Accuracy: 90.49%, Test Loss: 0.3115, Test Accuracy: 88.65%\n",
      "Epoch [44/150], Loss: 0.2649, Accuracy: 90.51%, Test Loss: 0.3101, Test Accuracy: 88.83%\n",
      "Epoch [45/150], Loss: 0.2633, Accuracy: 90.65%, Test Loss: 0.3086, Test Accuracy: 88.83%\n",
      "Epoch [46/150], Loss: 0.2611, Accuracy: 90.72%, Test Loss: 0.3089, Test Accuracy: 88.86%\n",
      "Epoch [47/150], Loss: 0.2588, Accuracy: 90.77%, Test Loss: 0.3064, Test Accuracy: 88.95%\n",
      "Epoch [48/150], Loss: 0.2568, Accuracy: 90.89%, Test Loss: 0.3049, Test Accuracy: 89.01%\n",
      "Epoch [49/150], Loss: 0.2544, Accuracy: 90.92%, Test Loss: 0.3036, Test Accuracy: 89.01%\n",
      "Epoch [50/150], Loss: 0.2535, Accuracy: 90.95%, Test Loss: 0.3033, Test Accuracy: 89.11%\n",
      "Epoch [51/150], Loss: 0.2518, Accuracy: 91.00%, Test Loss: 0.3010, Test Accuracy: 89.23%\n",
      "Epoch [52/150], Loss: 0.2515, Accuracy: 91.00%, Test Loss: 0.3029, Test Accuracy: 89.05%\n",
      "Epoch [53/150], Loss: 0.2490, Accuracy: 91.13%, Test Loss: 0.3000, Test Accuracy: 89.16%\n",
      "Epoch [54/150], Loss: 0.2475, Accuracy: 91.19%, Test Loss: 0.2979, Test Accuracy: 89.16%\n",
      "Epoch [55/150], Loss: 0.2451, Accuracy: 91.23%, Test Loss: 0.2968, Test Accuracy: 89.22%\n",
      "Epoch [56/150], Loss: 0.2430, Accuracy: 91.32%, Test Loss: 0.2966, Test Accuracy: 89.29%\n",
      "Epoch [57/150], Loss: 0.2428, Accuracy: 91.39%, Test Loss: 0.2972, Test Accuracy: 89.12%\n",
      "Epoch [58/150], Loss: 0.2415, Accuracy: 91.38%, Test Loss: 0.2944, Test Accuracy: 89.41%\n",
      "Epoch [59/150], Loss: 0.2392, Accuracy: 91.39%, Test Loss: 0.2955, Test Accuracy: 89.23%\n",
      "Epoch [60/150], Loss: 0.2380, Accuracy: 91.43%, Test Loss: 0.2966, Test Accuracy: 89.23%\n",
      "Epoch [61/150], Loss: 0.2371, Accuracy: 91.55%, Test Loss: 0.2926, Test Accuracy: 89.46%\n",
      "Epoch [62/150], Loss: 0.2347, Accuracy: 91.58%, Test Loss: 0.2918, Test Accuracy: 89.46%\n",
      "Epoch [63/150], Loss: 0.2341, Accuracy: 91.70%, Test Loss: 0.2916, Test Accuracy: 89.56%\n",
      "Epoch [64/150], Loss: 0.2316, Accuracy: 91.80%, Test Loss: 0.2926, Test Accuracy: 89.35%\n",
      "Epoch [65/150], Loss: 0.2317, Accuracy: 91.69%, Test Loss: 0.2889, Test Accuracy: 89.84%\n",
      "Epoch [66/150], Loss: 0.2292, Accuracy: 91.86%, Test Loss: 0.2924, Test Accuracy: 89.29%\n",
      "Epoch [67/150], Loss: 0.2281, Accuracy: 91.84%, Test Loss: 0.2899, Test Accuracy: 89.52%\n",
      "Epoch [68/150], Loss: 0.2269, Accuracy: 91.94%, Test Loss: 0.2871, Test Accuracy: 89.53%\n",
      "Epoch [69/150], Loss: 0.2260, Accuracy: 91.96%, Test Loss: 0.2868, Test Accuracy: 89.77%\n",
      "Epoch [70/150], Loss: 0.2248, Accuracy: 92.04%, Test Loss: 0.2858, Test Accuracy: 89.70%\n",
      "Epoch [71/150], Loss: 0.2233, Accuracy: 92.08%, Test Loss: 0.2863, Test Accuracy: 89.69%\n",
      "Epoch [72/150], Loss: 0.2223, Accuracy: 92.09%, Test Loss: 0.2846, Test Accuracy: 89.88%\n",
      "Epoch [73/150], Loss: 0.2206, Accuracy: 92.12%, Test Loss: 0.2832, Test Accuracy: 89.92%\n",
      "Epoch [74/150], Loss: 0.2203, Accuracy: 92.11%, Test Loss: 0.2833, Test Accuracy: 89.93%\n",
      "Epoch [75/150], Loss: 0.2179, Accuracy: 92.27%, Test Loss: 0.2842, Test Accuracy: 89.74%\n",
      "Epoch [76/150], Loss: 0.2162, Accuracy: 92.34%, Test Loss: 0.2828, Test Accuracy: 89.97%\n",
      "Epoch [77/150], Loss: 0.2160, Accuracy: 92.30%, Test Loss: 0.2871, Test Accuracy: 89.75%\n",
      "Epoch [78/150], Loss: 0.2144, Accuracy: 92.36%, Test Loss: 0.2804, Test Accuracy: 89.94%\n",
      "Epoch [79/150], Loss: 0.2137, Accuracy: 92.46%, Test Loss: 0.2822, Test Accuracy: 89.86%\n",
      "Epoch [80/150], Loss: 0.2141, Accuracy: 92.41%, Test Loss: 0.2819, Test Accuracy: 90.00%\n",
      "Epoch [81/150], Loss: 0.2115, Accuracy: 92.48%, Test Loss: 0.2820, Test Accuracy: 89.92%\n",
      "Epoch [82/150], Loss: 0.2099, Accuracy: 92.59%, Test Loss: 0.2805, Test Accuracy: 89.93%\n",
      "Epoch [83/150], Loss: 0.2100, Accuracy: 92.52%, Test Loss: 0.2800, Test Accuracy: 90.03%\n",
      "Epoch [84/150], Loss: 0.2088, Accuracy: 92.56%, Test Loss: 0.2787, Test Accuracy: 90.06%\n",
      "Epoch [85/150], Loss: 0.2069, Accuracy: 92.72%, Test Loss: 0.2774, Test Accuracy: 90.14%\n",
      "Epoch [86/150], Loss: 0.2058, Accuracy: 92.68%, Test Loss: 0.2772, Test Accuracy: 90.09%\n",
      "Epoch [87/150], Loss: 0.2042, Accuracy: 92.74%, Test Loss: 0.2749, Test Accuracy: 90.28%\n",
      "Epoch [88/150], Loss: 0.2035, Accuracy: 92.83%, Test Loss: 0.2780, Test Accuracy: 90.17%\n",
      "Epoch [89/150], Loss: 0.2022, Accuracy: 92.85%, Test Loss: 0.2768, Test Accuracy: 90.16%\n",
      "Epoch [90/150], Loss: 0.2026, Accuracy: 92.93%, Test Loss: 0.2766, Test Accuracy: 90.38%\n",
      "Epoch [91/150], Loss: 0.2010, Accuracy: 92.89%, Test Loss: 0.2811, Test Accuracy: 90.10%\n",
      "Epoch [92/150], Loss: 0.2004, Accuracy: 92.88%, Test Loss: 0.2781, Test Accuracy: 90.22%\n",
      "Epoch [93/150], Loss: 0.1992, Accuracy: 92.94%, Test Loss: 0.2770, Test Accuracy: 90.28%\n",
      "Epoch [94/150], Loss: 0.1988, Accuracy: 92.97%, Test Loss: 0.2778, Test Accuracy: 89.98%\n",
      "Epoch [95/150], Loss: 0.1971, Accuracy: 93.13%, Test Loss: 0.2741, Test Accuracy: 90.40%\n",
      "Epoch [96/150], Loss: 0.1967, Accuracy: 93.13%, Test Loss: 0.2735, Test Accuracy: 90.32%\n",
      "Epoch [97/150], Loss: 0.1952, Accuracy: 93.12%, Test Loss: 0.2760, Test Accuracy: 90.12%\n",
      "Epoch [98/150], Loss: 0.1950, Accuracy: 93.08%, Test Loss: 0.2736, Test Accuracy: 90.38%\n",
      "Epoch [99/150], Loss: 0.1936, Accuracy: 93.21%, Test Loss: 0.2724, Test Accuracy: 90.37%\n",
      "Epoch [100/150], Loss: 0.1922, Accuracy: 93.18%, Test Loss: 0.2723, Test Accuracy: 90.46%\n",
      "Epoch [101/150], Loss: 0.1923, Accuracy: 93.16%, Test Loss: 0.2726, Test Accuracy: 90.42%\n",
      "Epoch [102/150], Loss: 0.1910, Accuracy: 93.30%, Test Loss: 0.2734, Test Accuracy: 90.50%\n",
      "Epoch [103/150], Loss: 0.1906, Accuracy: 93.29%, Test Loss: 0.2748, Test Accuracy: 90.43%\n",
      "Epoch [104/150], Loss: 0.1893, Accuracy: 93.35%, Test Loss: 0.2716, Test Accuracy: 90.58%\n",
      "Epoch [105/150], Loss: 0.1888, Accuracy: 93.36%, Test Loss: 0.2777, Test Accuracy: 90.11%\n",
      "Epoch [106/150], Loss: 0.1880, Accuracy: 93.39%, Test Loss: 0.2712, Test Accuracy: 90.48%\n",
      "Epoch [107/150], Loss: 0.1868, Accuracy: 93.40%, Test Loss: 0.2752, Test Accuracy: 90.42%\n",
      "Epoch [108/150], Loss: 0.1854, Accuracy: 93.44%, Test Loss: 0.2696, Test Accuracy: 90.71%\n",
      "Epoch [109/150], Loss: 0.1847, Accuracy: 93.54%, Test Loss: 0.2706, Test Accuracy: 90.63%\n",
      "Epoch [110/150], Loss: 0.1837, Accuracy: 93.55%, Test Loss: 0.2705, Test Accuracy: 90.49%\n",
      "Epoch [111/150], Loss: 0.1830, Accuracy: 93.59%, Test Loss: 0.2698, Test Accuracy: 90.54%\n",
      "Epoch [112/150], Loss: 0.1826, Accuracy: 93.55%, Test Loss: 0.2698, Test Accuracy: 90.49%\n",
      "Epoch [113/150], Loss: 0.1824, Accuracy: 93.63%, Test Loss: 0.2695, Test Accuracy: 90.62%\n",
      "Epoch [114/150], Loss: 0.1811, Accuracy: 93.62%, Test Loss: 0.2697, Test Accuracy: 90.57%\n",
      "Epoch [115/150], Loss: 0.1806, Accuracy: 93.63%, Test Loss: 0.2684, Test Accuracy: 90.67%\n",
      "Epoch [116/150], Loss: 0.1787, Accuracy: 93.80%, Test Loss: 0.2685, Test Accuracy: 90.69%\n",
      "Epoch [117/150], Loss: 0.1793, Accuracy: 93.74%, Test Loss: 0.2680, Test Accuracy: 90.59%\n",
      "Epoch [118/150], Loss: 0.1772, Accuracy: 93.82%, Test Loss: 0.2676, Test Accuracy: 90.61%\n",
      "Epoch [119/150], Loss: 0.1763, Accuracy: 93.86%, Test Loss: 0.2727, Test Accuracy: 90.58%\n",
      "Epoch [120/150], Loss: 0.1752, Accuracy: 93.88%, Test Loss: 0.2696, Test Accuracy: 90.61%\n",
      "Epoch [121/150], Loss: 0.1749, Accuracy: 93.96%, Test Loss: 0.2666, Test Accuracy: 90.76%\n",
      "Epoch [122/150], Loss: 0.1747, Accuracy: 93.91%, Test Loss: 0.2682, Test Accuracy: 90.74%\n",
      "Epoch [123/150], Loss: 0.1744, Accuracy: 93.88%, Test Loss: 0.2675, Test Accuracy: 90.72%\n",
      "Epoch [124/150], Loss: 0.1726, Accuracy: 93.98%, Test Loss: 0.2693, Test Accuracy: 90.42%\n",
      "Epoch [125/150], Loss: 0.1715, Accuracy: 94.10%, Test Loss: 0.2695, Test Accuracy: 90.70%\n",
      "Epoch [126/150], Loss: 0.1714, Accuracy: 94.06%, Test Loss: 0.2680, Test Accuracy: 90.78%\n",
      "Epoch [127/150], Loss: 0.1714, Accuracy: 94.03%, Test Loss: 0.2658, Test Accuracy: 90.79%\n",
      "Epoch [128/150], Loss: 0.1704, Accuracy: 94.05%, Test Loss: 0.2676, Test Accuracy: 90.66%\n",
      "Epoch [129/150], Loss: 0.1693, Accuracy: 94.11%, Test Loss: 0.2667, Test Accuracy: 90.67%\n",
      "Epoch [130/150], Loss: 0.1691, Accuracy: 94.09%, Test Loss: 0.2675, Test Accuracy: 90.68%\n",
      "Epoch [131/150], Loss: 0.1674, Accuracy: 94.18%, Test Loss: 0.2664, Test Accuracy: 90.87%\n",
      "Epoch [132/150], Loss: 0.1672, Accuracy: 94.19%, Test Loss: 0.2661, Test Accuracy: 90.79%\n",
      "Epoch [133/150], Loss: 0.1664, Accuracy: 94.21%, Test Loss: 0.2681, Test Accuracy: 90.62%\n",
      "Epoch [134/150], Loss: 0.1654, Accuracy: 94.31%, Test Loss: 0.2656, Test Accuracy: 90.85%\n",
      "Epoch [135/150], Loss: 0.1647, Accuracy: 94.32%, Test Loss: 0.2680, Test Accuracy: 90.65%\n",
      "Epoch [136/150], Loss: 0.1639, Accuracy: 94.38%, Test Loss: 0.2671, Test Accuracy: 90.76%\n",
      "Epoch [137/150], Loss: 0.1640, Accuracy: 94.34%, Test Loss: 0.2696, Test Accuracy: 90.57%\n",
      "Epoch [138/150], Loss: 0.1633, Accuracy: 94.34%, Test Loss: 0.2652, Test Accuracy: 90.79%\n",
      "Epoch [139/150], Loss: 0.1623, Accuracy: 94.39%, Test Loss: 0.2652, Test Accuracy: 90.86%\n",
      "Epoch [140/150], Loss: 0.1617, Accuracy: 94.43%, Test Loss: 0.2640, Test Accuracy: 90.90%\n",
      "Epoch [141/150], Loss: 0.1597, Accuracy: 94.53%, Test Loss: 0.2654, Test Accuracy: 90.90%\n",
      "Epoch [142/150], Loss: 0.1600, Accuracy: 94.50%, Test Loss: 0.2667, Test Accuracy: 90.72%\n",
      "Epoch [143/150], Loss: 0.1585, Accuracy: 94.62%, Test Loss: 0.2656, Test Accuracy: 90.90%\n",
      "Epoch [144/150], Loss: 0.1597, Accuracy: 94.52%, Test Loss: 0.2668, Test Accuracy: 90.73%\n",
      "Epoch [145/150], Loss: 0.1584, Accuracy: 94.54%, Test Loss: 0.2647, Test Accuracy: 90.78%\n",
      "Epoch [146/150], Loss: 0.1575, Accuracy: 94.55%, Test Loss: 0.2649, Test Accuracy: 90.97%\n",
      "Epoch [147/150], Loss: 0.1569, Accuracy: 94.63%, Test Loss: 0.2635, Test Accuracy: 90.89%\n",
      "Epoch [148/150], Loss: 0.1557, Accuracy: 94.63%, Test Loss: 0.2645, Test Accuracy: 90.88%\n",
      "Epoch [149/150], Loss: 0.1547, Accuracy: 94.68%, Test Loss: 0.2663, Test Accuracy: 90.82%\n",
      "Epoch [150/150], Loss: 0.1554, Accuracy: 94.65%, Test Loss: 0.2660, Test Accuracy: 90.81%\n"
     ]
    }
   ],
   "source": [
    "# train\n",
    "for epoch in range(max_epoch):\n",
    "    model.train()\n",
    "    running_loss = 0.0\n",
    "    running_correct = 0   # to track number of correct predictions\n",
    "    total = 0             # to track total number of samples\n",
    "\n",
    "    for i, (inputs, labels) in enumerate(trainloader, 0):\n",
    "        # Move inputs and labels to the device\n",
    "        inputs, labels = inputs.to(device), labels.to(device)\n",
    "\n",
    "        # Zero the parameter gradients\n",
    "        optimizer.zero_grad()\n",
    "\n",
    "        # Forward pass\n",
    "        outputs = model(inputs)\n",
    "        loss = criterion(outputs, labels)\n",
    "        running_loss += loss.item()\n",
    "\n",
    "        # Determine class predictions and track accuracy\n",
    "        _, predicted = torch.max(outputs.data, 1)\n",
    "        total += labels.size(0)\n",
    "        running_correct += (predicted == labels).sum().item()\n",
    "\n",
    "        # Backward pass and optimization\n",
    "        loss.backward()\n",
    "        optimizer.step()        \n",
    "\n",
    "    epoch_accuracy = 100 * running_correct / total\n",
    "    epoch_loss = running_loss / (i + 1)\n",
    "    \n",
    "    test_loss, test_accuracy = evaluate(model, testloader, criterion)\n",
    "    print(f\"Epoch [{epoch + 1}/{max_epoch}], Loss: {epoch_loss:.4f}, Accuracy: {epoch_accuracy:.2f}%, Test Loss: {test_loss:.4f}, Test Accuracy: {test_accuracy:.2f}%\")\n",
    "    \n",
    "    # save for plot\n",
    "    train_losses.append(epoch_loss)\n",
    "    train_accuracies.append(epoch_accuracy)\n",
    "    test_losses.append(test_loss)\n",
    "    test_accuracies.append(test_accuracy)"
   ]
  },
  {
   "cell_type": "code",
   "execution_count": null,
   "metadata": {
    "id": "QKFbl4unF_6t"
   },
   "outputs": [],
   "source": []
  },
  {
   "cell_type": "code",
   "execution_count": 9,
   "metadata": {
    "id": "AwIj3vrnF_8_"
   },
   "outputs": [
    {
     "data": {
      "text/plain": [
       "<matplotlib.legend.Legend at 0x7f0843e97040>"
      ]
     },
     "execution_count": 9,
     "metadata": {},
     "output_type": "execute_result"
    },
    {
     "data": {
      "image/png": "[encoded data removed]",
      "text/plain": [
       "<Figure size 640x480 with 1 Axes>"
      ]
     },
     "metadata": {},
     "output_type": "display_data"
    }
   ],
   "source": [
    "import matplotlib.pyplot as plt\n",
    "\n",
    "plt.plot(train_losses, label='train_losses')\n",
    "plt.plot(test_losses, label='test_losses')\n",
    "plt.legend()"
   ]
  },
  {
   "cell_type": "code",
   "execution_count": 10,
   "metadata": {
    "id": "eh3iDa8lF__H"
   },
   "outputs": [
    {
     "data": {
      "text/plain": [
       "<matplotlib.legend.Legend at 0x7f0843943460>"
      ]
     },
     "execution_count": 10,
     "metadata": {},
     "output_type": "execute_result"
    },
    {
     "data": {
      "image/png": "[encoded data removed]",
      "text/plain": [
       "<Figure size 640x480 with 1 Axes>"
      ]
     },
     "metadata": {},
     "output_type": "display_data"
    }
   ],
   "source": [
    "import matplotlib.pyplot as plt\n",
    "\n",
    "plt.plot(train_accuracies, label='train_accuracy')\n",
    "plt.plot(test_accuracies, label='test_accuracy')\n",
    "plt.legend()"
   ]
  },
  {
   "cell_type": "code",
   "execution_count": null,
   "metadata": {},
   "outputs": [],
   "source": []
  },
  {
   "cell_type": "code",
   "execution_count": 11,
   "metadata": {},
   "outputs": [
    {
     "data": {
      "text/plain": [
       "<matplotlib.legend.Legend at 0x7f08289da890>"
      ]
     },
     "execution_count": 11,
     "metadata": {},
     "output_type": "execute_result"
    }
   ],
   "source": [
    "import matplotlib.pyplot as plt\n",
    "%matplotlib qt\n",
    "\n",
    "plt.plot(train_losses, label='train_losses')\n",
    "plt.plot(test_losses, label='test_losses')\n",
    "plt.legend()"
   ]
  },
  {
   "cell_type": "code",
   "execution_count": 12,
   "metadata": {},
   "outputs": [
    {
     "data": {
      "text/plain": [
       "<matplotlib.legend.Legend at 0x7f07a8076e30>"
      ]
     },
     "execution_count": 12,
     "metadata": {},
     "output_type": "execute_result"
    }
   ],
   "source": [
    "import matplotlib.pyplot as plt\n",
    "%matplotlib qt\n",
    "\n",
    "plt.plot(train_accuracies, label='train_accuracy')\n",
    "plt.plot(test_accuracies, label='test_accuracy')\n",
    "plt.legend()"
   ]
  },
  {
   "cell_type": "code",
   "execution_count": null,
   "metadata": {},
   "outputs": [],
   "source": []
  }
 ],
 "metadata": {
  "accelerator": "GPU",
  "colab": {
   "gpuType": "T4",
   "provenance": []
  },
  "kernelspec": {
   "display_name": "Python 3 (ipykernel)",
   "language": "python",
   "name": "python3"
  },
  "language_info": {
   "codemirror_mode": {
    "name": "ipython",
    "version": 3
   },
   "file_extension": ".py",
   "mimetype": "text/x-python",
   "name": "python",
   "nbconvert_exporter": "python",
   "pygments_lexer": "ipython3",
   "version": "3.9.18"
  }
 },
 "nbformat": 4,
 "nbformat_minor": 4
}
