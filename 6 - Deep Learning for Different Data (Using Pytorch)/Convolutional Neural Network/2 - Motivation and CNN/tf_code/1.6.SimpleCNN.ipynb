{
 "cells": [
  {
   "cell_type": "code",
   "execution_count": 25,
   "metadata": {
    "colab": {
     "base_uri": "https://localhost:8080/"
    },
    "id": "f-kSmrpJJoXa",
    "outputId": "ccdaa2c0-117f-4e36-e957-099b7fd09aa3"
   },
   "outputs": [
    {
     "name": "stdout",
     "output_type": "stream",
     "text": [
      "Model: \"sequential_2\"\n",
      "_________________________________________________________________\n",
      "Layer (type)                 Output Shape              Param #   \n",
      "=================================================================\n",
      "conv2d_3 (Conv2D)            (None, 26, 26, 4)         40        \n",
      "_________________________________________________________________\n",
      "max_pooling2d_6 (MaxPooling2 (None, 13, 13, 4)         0         \n",
      "_________________________________________________________________\n",
      "flatten_5 (Flatten)          (None, 676)               0         \n",
      "_________________________________________________________________\n",
      "dense_10 (Dense)             (None, 128)               86656     \n",
      "_________________________________________________________________\n",
      "dense_11 (Dense)             (None, 10)                1290      \n",
      "=================================================================\n",
      "Total params: 87,986\n",
      "Trainable params: 87,986\n",
      "Non-trainable params: 0\n",
      "_________________________________________________________________\n",
      "Epoch 1/50\n",
      "59/59 [==============================] - 1s 12ms/step - loss: 1.3771 - accuracy: 0.5954 - val_loss: 0.5584 - val_accuracy: 0.8064\n",
      "Epoch 2/50\n",
      "59/59 [==============================] - 0s 7ms/step - loss: 0.5058 - accuracy: 0.8248 - val_loss: 0.4637 - val_accuracy: 0.8372\n",
      "Epoch 3/50\n",
      "59/59 [==============================] - 0s 7ms/step - loss: 0.4351 - accuracy: 0.8509 - val_loss: 0.4320 - val_accuracy: 0.8519\n",
      "Epoch 4/50\n",
      "59/59 [==============================] - 0s 7ms/step - loss: 0.4004 - accuracy: 0.8601 - val_loss: 0.4130 - val_accuracy: 0.8582\n",
      "Epoch 5/50\n",
      "59/59 [==============================] - 0s 7ms/step - loss: 0.3800 - accuracy: 0.8675 - val_loss: 0.3956 - val_accuracy: 0.8616\n",
      "Epoch 6/50\n",
      "59/59 [==============================] - 0s 7ms/step - loss: 0.3648 - accuracy: 0.8713 - val_loss: 0.3835 - val_accuracy: 0.8665\n",
      "Epoch 7/50\n",
      "59/59 [==============================] - 0s 7ms/step - loss: 0.3456 - accuracy: 0.8804 - val_loss: 0.3764 - val_accuracy: 0.8662\n",
      "Epoch 8/50\n",
      "59/59 [==============================] - 0s 7ms/step - loss: 0.3433 - accuracy: 0.8784 - val_loss: 0.3652 - val_accuracy: 0.8710\n",
      "Epoch 9/50\n",
      "59/59 [==============================] - 0s 7ms/step - loss: 0.3255 - accuracy: 0.8855 - val_loss: 0.3547 - val_accuracy: 0.8753\n",
      "Epoch 10/50\n",
      "59/59 [==============================] - 0s 7ms/step - loss: 0.3177 - accuracy: 0.8855 - val_loss: 0.3503 - val_accuracy: 0.8762\n",
      "Epoch 11/50\n",
      "59/59 [==============================] - 0s 7ms/step - loss: 0.3109 - accuracy: 0.8900 - val_loss: 0.3464 - val_accuracy: 0.8769\n",
      "Epoch 12/50\n",
      "59/59 [==============================] - 0s 7ms/step - loss: 0.2977 - accuracy: 0.8951 - val_loss: 0.3431 - val_accuracy: 0.8792\n",
      "Epoch 13/50\n",
      "59/59 [==============================] - 0s 7ms/step - loss: 0.2975 - accuracy: 0.8941 - val_loss: 0.3338 - val_accuracy: 0.8818\n",
      "Epoch 14/50\n",
      "59/59 [==============================] - 0s 7ms/step - loss: 0.2926 - accuracy: 0.8952 - val_loss: 0.3307 - val_accuracy: 0.8829\n",
      "Epoch 15/50\n",
      "59/59 [==============================] - 0s 7ms/step - loss: 0.2840 - accuracy: 0.8977 - val_loss: 0.3233 - val_accuracy: 0.8826\n",
      "Epoch 16/50\n",
      "59/59 [==============================] - 0s 7ms/step - loss: 0.2808 - accuracy: 0.8997 - val_loss: 0.3260 - val_accuracy: 0.8837\n",
      "Epoch 17/50\n",
      "59/59 [==============================] - 0s 7ms/step - loss: 0.2727 - accuracy: 0.9020 - val_loss: 0.3173 - val_accuracy: 0.8861\n",
      "Epoch 18/50\n",
      "59/59 [==============================] - 0s 7ms/step - loss: 0.2724 - accuracy: 0.9021 - val_loss: 0.3196 - val_accuracy: 0.8868\n",
      "Epoch 19/50\n",
      "59/59 [==============================] - 0s 7ms/step - loss: 0.2660 - accuracy: 0.9048 - val_loss: 0.3205 - val_accuracy: 0.8822\n",
      "Epoch 20/50\n",
      "59/59 [==============================] - 0s 7ms/step - loss: 0.2672 - accuracy: 0.9045 - val_loss: 0.3146 - val_accuracy: 0.8847\n",
      "Epoch 21/50\n",
      "59/59 [==============================] - 0s 7ms/step - loss: 0.2601 - accuracy: 0.9068 - val_loss: 0.3156 - val_accuracy: 0.8863\n",
      "Epoch 22/50\n",
      "59/59 [==============================] - 0s 7ms/step - loss: 0.2577 - accuracy: 0.9088 - val_loss: 0.3065 - val_accuracy: 0.8893\n",
      "Epoch 23/50\n",
      "59/59 [==============================] - 0s 7ms/step - loss: 0.2451 - accuracy: 0.9122 - val_loss: 0.3031 - val_accuracy: 0.8918\n",
      "Epoch 24/50\n",
      "59/59 [==============================] - 0s 7ms/step - loss: 0.2485 - accuracy: 0.9106 - val_loss: 0.3007 - val_accuracy: 0.8906\n",
      "Epoch 25/50\n",
      "59/59 [==============================] - 0s 7ms/step - loss: 0.2428 - accuracy: 0.9132 - val_loss: 0.3130 - val_accuracy: 0.8905\n",
      "Epoch 26/50\n",
      "59/59 [==============================] - 0s 7ms/step - loss: 0.2393 - accuracy: 0.9141 - val_loss: 0.3068 - val_accuracy: 0.8881\n",
      "Epoch 27/50\n",
      "59/59 [==============================] - 0s 7ms/step - loss: 0.2365 - accuracy: 0.9159 - val_loss: 0.2970 - val_accuracy: 0.8923\n",
      "Epoch 28/50\n",
      "59/59 [==============================] - 0s 7ms/step - loss: 0.2311 - accuracy: 0.9167 - val_loss: 0.2932 - val_accuracy: 0.8955\n",
      "Epoch 29/50\n",
      "59/59 [==============================] - 0s 7ms/step - loss: 0.2258 - accuracy: 0.9195 - val_loss: 0.2965 - val_accuracy: 0.8961\n",
      "Epoch 30/50\n",
      "59/59 [==============================] - 0s 7ms/step - loss: 0.2279 - accuracy: 0.9169 - val_loss: 0.3095 - val_accuracy: 0.8871\n",
      "Epoch 31/50\n",
      "59/59 [==============================] - 0s 7ms/step - loss: 0.2323 - accuracy: 0.9158 - val_loss: 0.2906 - val_accuracy: 0.8960\n",
      "Epoch 32/50\n",
      "59/59 [==============================] - 0s 7ms/step - loss: 0.2156 - accuracy: 0.9229 - val_loss: 0.2881 - val_accuracy: 0.8953\n",
      "Epoch 33/50\n",
      "59/59 [==============================] - 0s 7ms/step - loss: 0.2177 - accuracy: 0.9208 - val_loss: 0.2876 - val_accuracy: 0.8982\n",
      "Epoch 34/50\n",
      "59/59 [==============================] - 0s 7ms/step - loss: 0.2124 - accuracy: 0.9254 - val_loss: 0.2865 - val_accuracy: 0.8990\n",
      "Epoch 35/50\n",
      "59/59 [==============================] - 0s 7ms/step - loss: 0.2129 - accuracy: 0.9228 - val_loss: 0.2911 - val_accuracy: 0.8950\n",
      "Epoch 36/50\n",
      "59/59 [==============================] - 0s 7ms/step - loss: 0.2107 - accuracy: 0.9240 - val_loss: 0.2875 - val_accuracy: 0.8971\n",
      "Epoch 37/50\n",
      "59/59 [==============================] - 0s 7ms/step - loss: 0.2052 - accuracy: 0.9260 - val_loss: 0.2824 - val_accuracy: 0.8982\n",
      "Epoch 38/50\n",
      "59/59 [==============================] - 0s 7ms/step - loss: 0.2107 - accuracy: 0.9240 - val_loss: 0.2837 - val_accuracy: 0.8997\n",
      "Epoch 39/50\n",
      "59/59 [==============================] - 0s 7ms/step - loss: 0.2001 - accuracy: 0.9288 - val_loss: 0.2861 - val_accuracy: 0.8968\n",
      "Epoch 40/50\n",
      "59/59 [==============================] - 0s 7ms/step - loss: 0.1991 - accuracy: 0.9279 - val_loss: 0.2911 - val_accuracy: 0.8964\n",
      "Epoch 41/50\n",
      "59/59 [==============================] - 0s 7ms/step - loss: 0.1999 - accuracy: 0.9289 - val_loss: 0.2837 - val_accuracy: 0.9006\n",
      "Epoch 42/50\n",
      "59/59 [==============================] - 0s 7ms/step - loss: 0.1920 - accuracy: 0.9315 - val_loss: 0.2878 - val_accuracy: 0.8977\n",
      "Epoch 43/50\n",
      "59/59 [==============================] - 0s 7ms/step - loss: 0.1880 - accuracy: 0.9314 - val_loss: 0.2814 - val_accuracy: 0.8998\n",
      "Epoch 44/50\n",
      "59/59 [==============================] - 0s 7ms/step - loss: 0.1872 - accuracy: 0.9331 - val_loss: 0.2797 - val_accuracy: 0.9001\n",
      "Epoch 45/50\n",
      "59/59 [==============================] - 0s 7ms/step - loss: 0.1850 - accuracy: 0.9336 - val_loss: 0.2872 - val_accuracy: 0.8981\n",
      "Epoch 46/50\n",
      "59/59 [==============================] - 0s 7ms/step - loss: 0.1828 - accuracy: 0.9345 - val_loss: 0.2786 - val_accuracy: 0.9028\n",
      "Epoch 47/50\n",
      "59/59 [==============================] - 0s 7ms/step - loss: 0.1836 - accuracy: 0.9338 - val_loss: 0.2798 - val_accuracy: 0.9012\n",
      "Epoch 48/50\n",
      "59/59 [==============================] - 0s 7ms/step - loss: 0.1801 - accuracy: 0.9361 - val_loss: 0.2831 - val_accuracy: 0.9012\n",
      "Epoch 49/50\n",
      "59/59 [==============================] - 0s 7ms/step - loss: 0.1783 - accuracy: 0.9355 - val_loss: 0.2859 - val_accuracy: 0.8999\n",
      "Epoch 50/50\n",
      "59/59 [==============================] - 0s 7ms/step - loss: 0.1776 - accuracy: 0.9352 - val_loss: 0.2781 - val_accuracy: 0.9038\n"
     ]
    }
   ],
   "source": [
    "import tensorflow as tf\n",
    "from tensorflow import keras\n",
    "\n",
    "fashion_mnist = keras.datasets.fashion_mnist\n",
    "(train_images, train_labels), (test_images, test_labels) = fashion_mnist.load_data()\n",
    "\n",
    "train_images = train_images / 255.0\n",
    "test_images  = test_images / 255.0\n",
    "\n",
    "train_images = tf.reshape(train_images, (60000, 28, 28, 1))\n",
    "test_images  = tf.reshape(test_images, (10000, 28, 28, 1))\n",
    "\n",
    "\n",
    "\n",
    "\n",
    "\n",
    "\n",
    "\n",
    "# model\n",
    "model = keras.models.Sequential()\n",
    "model.add(tf.keras.Input(shape=(28, 28, 1)))\n",
    "model.add(keras.layers.Conv2D(4, (3, 3), activation='relu'))\n",
    "model.add(keras.layers.MaxPooling2D(2))\n",
    "\n",
    "# flatten\n",
    "model.add(keras.layers.Flatten())\n",
    "model.add(keras.layers.Dense(128, activation='relu'))\n",
    "model.add(keras.layers.Dense(10, activation='softmax'))\n",
    "\n",
    "\n",
    "\n",
    "model.summary()\n",
    "\n",
    "model.compile(optimizer='adam',\n",
    "              loss=tf.keras.losses.SparseCategoricalCrossentropy(),\n",
    "              metrics=['accuracy'])\n",
    "history_data = model.fit(train_images, train_labels, batch_size=1024,\n",
    "                         validation_data=(test_images, test_labels), epochs=50)"
   ]
  },
  {
   "cell_type": "code",
   "execution_count": null,
   "metadata": {
    "id": "2AejUydgPZlo"
   },
   "outputs": [],
   "source": []
  },
  {
   "cell_type": "code",
   "execution_count": null,
   "metadata": {},
   "outputs": [],
   "source": []
  },
  {
   "cell_type": "code",
   "execution_count": 12,
   "metadata": {},
   "outputs": [],
   "source": [
    "layer = keras.layers.Conv2D(4, (3, 3), activation='relu')"
   ]
  },
  {
   "cell_type": "code",
   "execution_count": 13,
   "metadata": {},
   "outputs": [
    {
     "name": "stdout",
     "output_type": "stream",
     "text": [
      "[]\n"
     ]
    }
   ],
   "source": [
    "print(layer.get_weights())"
   ]
  },
  {
   "cell_type": "code",
   "execution_count": null,
   "metadata": {},
   "outputs": [],
   "source": []
  },
  {
   "cell_type": "code",
   "execution_count": null,
   "metadata": {},
   "outputs": [],
   "source": []
  },
  {
   "cell_type": "code",
   "execution_count": null,
   "metadata": {},
   "outputs": [],
   "source": []
  },
  {
   "cell_type": "code",
   "execution_count": null,
   "metadata": {},
   "outputs": [],
   "source": []
  },
  {
   "cell_type": "code",
   "execution_count": 5,
   "metadata": {
    "id": "QPiIYdZ9LwEB"
   },
   "outputs": [],
   "source": []
  },
  {
   "cell_type": "code",
   "execution_count": 3,
   "metadata": {
    "colab": {
     "base_uri": "https://localhost:8080/",
     "height": 297
    },
    "id": "aciYHlO6LgwA",
    "outputId": "607b4037-7399-4235-de6b-2de745a3231f"
   },
   "outputs": [
    {
     "data": {
      "text/plain": [
       "<matplotlib.legend.Legend at 0x7fb3604ddc50>"
      ]
     },
     "execution_count": 3,
     "metadata": {
      "tags": []
     },
     "output_type": "execute_result"
    },
    {
     "data": {
      "image/png": "[encoded data removed]",
      "text/plain": [
       "<Figure size 432x288 with 1 Axes>"
      ]
     },
     "metadata": {
      "needs_background": "light",
      "tags": []
     },
     "output_type": "display_data"
    }
   ],
   "source": [
    "import matplotlib.pyplot as plt\n",
    "\n",
    "plt.plot(history_data.history['loss'], label = \"train_loss\")\n",
    "plt.plot(history_data.history['val_loss'], label = \"val_loss\")\n",
    "plt.xlabel('iteration')\n",
    "plt.ylabel('Loss')\n",
    "plt.legend()"
   ]
  },
  {
   "cell_type": "code",
   "execution_count": null,
   "metadata": {
    "id": "DvvMjpolLvDT"
   },
   "outputs": [],
   "source": []
  },
  {
   "cell_type": "code",
   "execution_count": 4,
   "metadata": {
    "colab": {
     "base_uri": "https://localhost:8080/",
     "height": 297
    },
    "id": "Zw70OknwLvF1",
    "outputId": "139aa624-7bee-444b-ef06-62bb0f30f96c"
   },
   "outputs": [
    {
     "data": {
      "text/plain": [
       "<matplotlib.legend.Legend at 0x7fb368035390>"
      ]
     },
     "execution_count": 4,
     "metadata": {
      "tags": []
     },
     "output_type": "execute_result"
    },
    {
     "data": {
      "image/png": "[encoded data removed]",
      "text/plain": [
       "<Figure size 432x288 with 1 Axes>"
      ]
     },
     "metadata": {
      "needs_background": "light",
      "tags": []
     },
     "output_type": "display_data"
    }
   ],
   "source": [
    "import matplotlib.pyplot as plt\n",
    "\n",
    "plt.plot(history_data.history['accuracy'], label = \"train_accuracy\")\n",
    "plt.plot(history_data.history['val_accuracy'], label = \"val_accuracy\")\n",
    "plt.xlabel('iteration')\n",
    "plt.ylabel('Accuracy')\n",
    "plt.legend()"
   ]
  },
  {
   "cell_type": "code",
   "execution_count": null,
   "metadata": {
    "id": "2W682CejLvO-"
   },
   "outputs": [],
   "source": []
  },
  {
   "cell_type": "code",
   "execution_count": null,
   "metadata": {},
   "outputs": [],
   "source": []
  },
  {
   "cell_type": "code",
   "execution_count": 8,
   "metadata": {},
   "outputs": [
    {
     "name": "stdout",
     "output_type": "stream",
     "text": [
      "Model: \"sequential_1\"\n",
      "_________________________________________________________________\n",
      " Layer (type)                Output Shape              Param #   \n",
      "=================================================================\n",
      " conv2d_1 (Conv2D)           (None, None, None, 4)     40        \n",
      "                                                                 \n",
      " max_pooling2d_1 (MaxPooling  (None, None, None, 4)    0         \n",
      " 2D)                                                             \n",
      "                                                                 \n",
      "=================================================================\n",
      "Total params: 40\n",
      "Trainable params: 40\n",
      "Non-trainable params: 0\n",
      "_________________________________________________________________\n"
     ]
    }
   ],
   "source": [
    "import tensorflow as tf\n",
    "from tensorflow import keras\n",
    "\n",
    "# model\n",
    "model = keras.models.Sequential()\n",
    "model.add(tf.keras.Input(shape=(None, None, 1)))\n",
    "model.add(keras.layers.Conv2D(4, (3, 3), activation='relu'))\n",
    "model.add(keras.layers.MaxPooling2D(2))\n",
    "\n",
    "model.summary()"
   ]
  },
  {
   "cell_type": "code",
   "execution_count": 11,
   "metadata": {},
   "outputs": [
    {
     "name": "stdout",
     "output_type": "stream",
     "text": [
      "(1, 40, 40, 1)\n",
      "(1, 19, 19, 4)\n"
     ]
    }
   ],
   "source": [
    "data = tf.random.normal((1, 40, 40, 1))\n",
    "print(data.shape)\n",
    "\n",
    "output = model(data)\n",
    "print(output.shape)"
   ]
  },
  {
   "cell_type": "code",
   "execution_count": 5,
   "metadata": {},
   "outputs": [
    {
     "name": "stdout",
     "output_type": "stream",
     "text": [
      "(1, 13, 13, 4)\n"
     ]
    }
   ],
   "source": []
  },
  {
   "cell_type": "code",
   "execution_count": null,
   "metadata": {},
   "outputs": [],
   "source": []
  },
  {
   "cell_type": "code",
   "execution_count": null,
   "metadata": {
    "id": "huGpdHfGMMUK"
   },
   "outputs": [],
   "source": []
  },
  {
   "cell_type": "code",
   "execution_count": null,
   "metadata": {
    "id": "kGgxQMc0MMWu"
   },
   "outputs": [],
   "source": []
  },
  {
   "cell_type": "code",
   "execution_count": 6,
   "metadata": {
    "colab": {
     "base_uri": "https://localhost:8080/"
    },
    "id": "yCu5xDoLMMZX",
    "outputId": "a6fce589-cbba-4d31-c6f9-87ae6058e153"
   },
   "outputs": [
    {
     "name": "stdout",
     "output_type": "stream",
     "text": [
      "Model: \"model\"\n",
      "_________________________________________________________________\n",
      "Layer (type)                 Output Shape              Param #   \n",
      "=================================================================\n",
      "input_3 (InputLayer)         [(None, 28, 28, 1)]       0         \n",
      "_________________________________________________________________\n",
      "conv2d_2 (Conv2D)            (None, 26, 26, 3)         30        \n",
      "_________________________________________________________________\n",
      "max_pooling2d_2 (MaxPooling2 (None, 13, 13, 3)         0         \n",
      "_________________________________________________________________\n",
      "flatten_2 (Flatten)          (None, 507)               0         \n",
      "_________________________________________________________________\n",
      "dense_4 (Dense)              (None, 128)               65024     \n",
      "_________________________________________________________________\n",
      "dense_5 (Dense)              (None, 10)                1290      \n",
      "=================================================================\n",
      "Total params: 66,344\n",
      "Trainable params: 66,344\n",
      "Non-trainable params: 0\n",
      "_________________________________________________________________\n",
      "Epoch 1/30\n",
      "59/59 [==============================] - 1s 10ms/step - loss: 1.4724 - accuracy: 0.5461 - val_loss: 0.5897 - val_accuracy: 0.7895\n",
      "Epoch 2/30\n",
      "59/59 [==============================] - 0s 7ms/step - loss: 0.5426 - accuracy: 0.8076 - val_loss: 0.4742 - val_accuracy: 0.8297\n",
      "Epoch 3/30\n",
      "59/59 [==============================] - 0s 7ms/step - loss: 0.4388 - accuracy: 0.8450 - val_loss: 0.4311 - val_accuracy: 0.8457\n",
      "Epoch 4/30\n",
      "59/59 [==============================] - 0s 7ms/step - loss: 0.4061 - accuracy: 0.8582 - val_loss: 0.4070 - val_accuracy: 0.8574\n",
      "Epoch 5/30\n",
      "59/59 [==============================] - 0s 6ms/step - loss: 0.3786 - accuracy: 0.8687 - val_loss: 0.3919 - val_accuracy: 0.8628\n",
      "Epoch 6/30\n",
      "59/59 [==============================] - 0s 7ms/step - loss: 0.3677 - accuracy: 0.8716 - val_loss: 0.3846 - val_accuracy: 0.8633\n",
      "Epoch 7/30\n",
      "59/59 [==============================] - 0s 6ms/step - loss: 0.3537 - accuracy: 0.8771 - val_loss: 0.3731 - val_accuracy: 0.8681\n",
      "Epoch 8/30\n",
      "59/59 [==============================] - 0s 6ms/step - loss: 0.3459 - accuracy: 0.8789 - val_loss: 0.3708 - val_accuracy: 0.8667\n",
      "Epoch 9/30\n",
      "59/59 [==============================] - 0s 6ms/step - loss: 0.3320 - accuracy: 0.8835 - val_loss: 0.3626 - val_accuracy: 0.8707\n",
      "Epoch 10/30\n",
      "59/59 [==============================] - 0s 6ms/step - loss: 0.3340 - accuracy: 0.8838 - val_loss: 0.3590 - val_accuracy: 0.8732\n",
      "Epoch 11/30\n",
      "59/59 [==============================] - 0s 7ms/step - loss: 0.3203 - accuracy: 0.8869 - val_loss: 0.3481 - val_accuracy: 0.8787\n",
      "Epoch 12/30\n",
      "59/59 [==============================] - 0s 6ms/step - loss: 0.3139 - accuracy: 0.8896 - val_loss: 0.3447 - val_accuracy: 0.8787\n",
      "Epoch 13/30\n",
      "59/59 [==============================] - 0s 6ms/step - loss: 0.3076 - accuracy: 0.8905 - val_loss: 0.3406 - val_accuracy: 0.8793\n",
      "Epoch 14/30\n",
      "59/59 [==============================] - 0s 6ms/step - loss: 0.3001 - accuracy: 0.8952 - val_loss: 0.3393 - val_accuracy: 0.8807\n",
      "Epoch 15/30\n",
      "59/59 [==============================] - 0s 6ms/step - loss: 0.2997 - accuracy: 0.8934 - val_loss: 0.3432 - val_accuracy: 0.8774\n",
      "Epoch 16/30\n",
      "59/59 [==============================] - 0s 6ms/step - loss: 0.2902 - accuracy: 0.8986 - val_loss: 0.3282 - val_accuracy: 0.8828\n",
      "Epoch 17/30\n",
      "59/59 [==============================] - 0s 6ms/step - loss: 0.2900 - accuracy: 0.8963 - val_loss: 0.3259 - val_accuracy: 0.8844\n",
      "Epoch 18/30\n",
      "59/59 [==============================] - 0s 6ms/step - loss: 0.2806 - accuracy: 0.9000 - val_loss: 0.3292 - val_accuracy: 0.8833\n",
      "Epoch 19/30\n",
      "59/59 [==============================] - 0s 8ms/step - loss: 0.2774 - accuracy: 0.9013 - val_loss: 0.3175 - val_accuracy: 0.8870\n",
      "Epoch 20/30\n",
      "59/59 [==============================] - 0s 6ms/step - loss: 0.2693 - accuracy: 0.9054 - val_loss: 0.3194 - val_accuracy: 0.8852\n",
      "Epoch 21/30\n",
      "59/59 [==============================] - 0s 6ms/step - loss: 0.2638 - accuracy: 0.9066 - val_loss: 0.3184 - val_accuracy: 0.8869\n",
      "Epoch 22/30\n",
      "59/59 [==============================] - 0s 6ms/step - loss: 0.2574 - accuracy: 0.9080 - val_loss: 0.3180 - val_accuracy: 0.8862\n",
      "Epoch 23/30\n",
      "59/59 [==============================] - 0s 6ms/step - loss: 0.2612 - accuracy: 0.9063 - val_loss: 0.3097 - val_accuracy: 0.8912\n",
      "Epoch 24/30\n",
      "59/59 [==============================] - 0s 6ms/step - loss: 0.2600 - accuracy: 0.9060 - val_loss: 0.3099 - val_accuracy: 0.8902\n",
      "Epoch 25/30\n",
      "59/59 [==============================] - 0s 6ms/step - loss: 0.2512 - accuracy: 0.9111 - val_loss: 0.3122 - val_accuracy: 0.8887\n",
      "Epoch 26/30\n",
      "59/59 [==============================] - 0s 6ms/step - loss: 0.2487 - accuracy: 0.9103 - val_loss: 0.3078 - val_accuracy: 0.8894\n",
      "Epoch 27/30\n",
      "59/59 [==============================] - 0s 6ms/step - loss: 0.2445 - accuracy: 0.9120 - val_loss: 0.3032 - val_accuracy: 0.8914\n",
      "Epoch 28/30\n",
      "59/59 [==============================] - 0s 6ms/step - loss: 0.2436 - accuracy: 0.9122 - val_loss: 0.3025 - val_accuracy: 0.8922\n",
      "Epoch 29/30\n",
      "59/59 [==============================] - 0s 6ms/step - loss: 0.2414 - accuracy: 0.9134 - val_loss: 0.3066 - val_accuracy: 0.8905\n",
      "Epoch 30/30\n",
      "59/59 [==============================] - 0s 6ms/step - loss: 0.2371 - accuracy: 0.9149 - val_loss: 0.3100 - val_accuracy: 0.8882\n"
     ]
    }
   ],
   "source": [
    "import tensorflow as tf\n",
    "from tensorflow import keras\n",
    "\n",
    "\n",
    "def construct_model():\n",
    "    inp = keras.layers.Input(shape=[28, 28, 1])\n",
    "    x = keras.layers.Conv2D(3, (3, 3), activation='relu')(inp)\n",
    "    x = keras.layers.MaxPooling2D(2)(x)\n",
    "\n",
    "    x = keras.layers.Flatten()(x)\n",
    "    x = keras.layers.Dense(128, activation='relu')(x)\n",
    "    x = keras.layers.Dense(10, activation='softmax')(x)\n",
    "\n",
    "    return tf.keras.Model(inputs=[inp], outputs=x)\n",
    "\n",
    "\n",
    "\n",
    "\n",
    "fashion_mnist = keras.datasets.fashion_mnist\n",
    "(train_images, train_labels), (test_images, test_labels) = fashion_mnist.load_data()\n",
    "\n",
    "train_images = train_images / 255.0\n",
    "test_images  = test_images / 255.0\n",
    "\n",
    "train_images = tf.reshape(train_images, (60000, 28, 28, 1))\n",
    "test_images  = tf.reshape(test_images, (10000, 28, 28, 1))\n",
    "\n",
    "# model\n",
    "model = construct_model()\n",
    "model.summary()\n",
    "\n",
    "model.compile(optimizer='adam',\n",
    "              loss=tf.keras.losses.SparseCategoricalCrossentropy(),\n",
    "              metrics=['accuracy'])\n",
    "history_data = model.fit(train_images, train_labels, batch_size=1024,\n",
    "                         validation_data=(test_images, test_labels), epochs=30)"
   ]
  },
  {
   "cell_type": "code",
   "execution_count": null,
   "metadata": {
    "id": "DfGqsWeTMMbf"
   },
   "outputs": [],
   "source": []
  },
  {
   "cell_type": "code",
   "execution_count": 7,
   "metadata": {
    "colab": {
     "base_uri": "https://localhost:8080/",
     "height": 297
    },
    "id": "gEbnxJEzMMf2",
    "outputId": "da1bab49-d54e-47dc-f55c-bab51c738c85"
   },
   "outputs": [
    {
     "data": {
      "text/plain": [
       "<matplotlib.legend.Legend at 0x7fb3b00e4cc0>"
      ]
     },
     "execution_count": 7,
     "metadata": {
      "tags": []
     },
     "output_type": "execute_result"
    },
    {
     "data": {
      "image/png": "[encoded data removed]",
      "text/plain": [
       "<Figure size 432x288 with 1 Axes>"
      ]
     },
     "metadata": {
      "needs_background": "light",
      "tags": []
     },
     "output_type": "display_data"
    }
   ],
   "source": [
    "import matplotlib.pyplot as plt\n",
    "\n",
    "plt.plot(history_data.history['loss'], label = \"train_loss\")\n",
    "plt.plot(history_data.history['val_loss'], label = \"val_loss\")\n",
    "plt.xlabel('iteration')\n",
    "plt.ylabel('Loss')\n",
    "plt.legend()"
   ]
  },
  {
   "cell_type": "code",
   "execution_count": 7,
   "metadata": {
    "id": "QM4oVn6FMPaD"
   },
   "outputs": [],
   "source": []
  },
  {
   "cell_type": "code",
   "execution_count": 8,
   "metadata": {
    "colab": {
     "base_uri": "https://localhost:8080/",
     "height": 297
    },
    "id": "M2RsN0WyMMif",
    "outputId": "ac5b6aab-d039-413e-ff3d-a47ef2675ba0"
   },
   "outputs": [
    {
     "data": {
      "text/plain": [
       "<matplotlib.legend.Legend at 0x7fb36160e668>"
      ]
     },
     "execution_count": 8,
     "metadata": {
      "tags": []
     },
     "output_type": "execute_result"
    },
    {
     "data": {
      "image/png": "[encoded data removed]",
      "text/plain": [
       "<Figure size 432x288 with 1 Axes>"
      ]
     },
     "metadata": {
      "needs_background": "light",
      "tags": []
     },
     "output_type": "display_data"
    }
   ],
   "source": [
    "import matplotlib.pyplot as plt\n",
    "\n",
    "plt.plot(history_data.history['accuracy'], label = \"train_accuracy\")\n",
    "plt.plot(history_data.history['val_accuracy'], label = \"val_accuracy\")\n",
    "plt.xlabel('iteration')\n",
    "plt.ylabel('Accuracy')\n",
    "plt.legend()"
   ]
  },
  {
   "cell_type": "code",
   "execution_count": 8,
   "metadata": {
    "id": "gTVeN9XVPHfy"
   },
   "outputs": [],
   "source": []
  }
 ],
 "metadata": {
  "accelerator": "GPU",
  "colab": {
   "collapsed_sections": [],
   "name": "8.5.SimpleCNN.ipynb",
   "provenance": []
  },
  "kernelspec": {
   "display_name": "Python 3 (ipykernel)",
   "language": "python",
   "name": "python3"
  },
  "language_info": {
   "codemirror_mode": {
    "name": "ipython",
    "version": 3
   },
   "file_extension": ".py",
   "mimetype": "text/x-python",
   "name": "python",
   "nbconvert_exporter": "python",
   "pygments_lexer": "ipython3",
   "version": "3.9.13"
  }
 },
 "nbformat": 4,
 "nbformat_minor": 1
}
