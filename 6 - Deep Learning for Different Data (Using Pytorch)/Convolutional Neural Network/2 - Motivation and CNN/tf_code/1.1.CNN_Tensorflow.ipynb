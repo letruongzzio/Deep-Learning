{
 "cells": [
  {
   "cell_type": "code",
   "execution_count": null,
   "id": "8779a307",
   "metadata": {},
   "outputs": [],
   "source": [
    "import numpy as np\n",
    "import tensorflow as tf\n",
    "import tensorflow.keras as keras\n",
    "\n",
    "data = np.random.randint(0, 255, (28, 28, 1))\n",
    "print(data.shape)\n",
    "print(type(data))"
   ]
  },
  {
   "cell_type": "code",
   "execution_count": null,
   "id": "ce40924d",
   "metadata": {},
   "outputs": [],
   "source": []
  },
  {
   "cell_type": "code",
   "execution_count": null,
   "id": "f485d213",
   "metadata": {},
   "outputs": [],
   "source": [
    "data_tf = tf.convert_to_tensor(data, dtype=tf.float32)\n",
    "print(data_tf.shape)\n",
    "print(type(data_tf))"
   ]
  },
  {
   "cell_type": "code",
   "execution_count": null,
   "id": "28a1f027",
   "metadata": {},
   "outputs": [],
   "source": []
  },
  {
   "cell_type": "code",
   "execution_count": null,
   "id": "48520343",
   "metadata": {},
   "outputs": [],
   "source": [
    "conv_layer = keras.layers.Conv2D(filters=1, \n",
    "                                 kernel_size=(3, 3))\n",
    "\n",
    "output = conv_layer(data_tf)\n",
    "print(output.shape)"
   ]
  },
  {
   "cell_type": "code",
   "execution_count": null,
   "id": "8e540632",
   "metadata": {},
   "outputs": [],
   "source": []
  },
  {
   "cell_type": "code",
   "execution_count": null,
   "id": "16bfb5e7",
   "metadata": {},
   "outputs": [],
   "source": []
  },
  {
   "cell_type": "code",
   "execution_count": null,
   "id": "4507c17e",
   "metadata": {},
   "outputs": [],
   "source": [
    "print(conv_layer.get_weights())"
   ]
  },
  {
   "cell_type": "code",
   "execution_count": null,
   "id": "4ce5f16e",
   "metadata": {},
   "outputs": [],
   "source": [
    "data_tf = tf.reshape(data_tf, (1, 28, 28, 1))\n",
    "print(data_tf.shape)"
   ]
  },
  {
   "cell_type": "code",
   "execution_count": null,
   "id": "67821bcd",
   "metadata": {},
   "outputs": [],
   "source": []
  },
  {
   "cell_type": "code",
   "execution_count": null,
   "id": "19e10ea5",
   "metadata": {},
   "outputs": [],
   "source": [
    "conv_layer = keras.layers.Conv2D(filters=1, \n",
    "                                 kernel_size=(3, 3),\n",
    "                                 activation='relu')\n",
    "output = conv_layer(data_tf)\n",
    "print(output.shape)"
   ]
  },
  {
   "cell_type": "code",
   "execution_count": null,
   "id": "9034784e",
   "metadata": {},
   "outputs": [],
   "source": [
    "print(conv_layer.get_weights()[0].shape)\n",
    "print(conv_layer.get_weights()[1])"
   ]
  },
  {
   "cell_type": "code",
   "execution_count": null,
   "id": "87a81b81",
   "metadata": {},
   "outputs": [],
   "source": []
  },
  {
   "cell_type": "code",
   "execution_count": null,
   "id": "ee0e475a",
   "metadata": {},
   "outputs": [],
   "source": [
    "weights = conv_layer.get_weights()\n",
    "print(type(weights))\n",
    "print(len(weights))"
   ]
  },
  {
   "cell_type": "code",
   "execution_count": null,
   "id": "f264bd56",
   "metadata": {},
   "outputs": [],
   "source": [
    "print(weights[0].shape)"
   ]
  },
  {
   "cell_type": "code",
   "execution_count": null,
   "id": "9aeee373",
   "metadata": {},
   "outputs": [],
   "source": [
    "print(weights[0].shape)\n",
    "print(weights[1].shape)"
   ]
  },
  {
   "cell_type": "code",
   "execution_count": null,
   "id": "035319a4",
   "metadata": {},
   "outputs": [],
   "source": [
    "print(weights[0][:,:,0,0])\n",
    "print(weights[1])"
   ]
  },
  {
   "cell_type": "code",
   "execution_count": null,
   "id": "6406ebf0",
   "metadata": {},
   "outputs": [],
   "source": []
  },
  {
   "cell_type": "markdown",
   "id": "e6f6b4cc",
   "metadata": {},
   "source": [
    "## stride"
   ]
  },
  {
   "cell_type": "code",
   "execution_count": null,
   "id": "7f165a58",
   "metadata": {},
   "outputs": [],
   "source": [
    "data_tf = tf.reshape(data_tf, (1, 28, 28, 1))\n",
    "print(data_tf.shape)"
   ]
  },
  {
   "cell_type": "code",
   "execution_count": null,
   "id": "79af46c5",
   "metadata": {},
   "outputs": [],
   "source": []
  },
  {
   "cell_type": "code",
   "execution_count": null,
   "id": "39a554e2",
   "metadata": {},
   "outputs": [],
   "source": [
    "conv_layer = keras.layers.Conv2D(filters=5, \n",
    "                                 kernel_size=(3, 3), \n",
    "                                 strides=2)\n",
    "output = conv_layer(data_tf)\n",
    "print(output.shape)"
   ]
  },
  {
   "cell_type": "code",
   "execution_count": null,
   "id": "499a0e26",
   "metadata": {},
   "outputs": [],
   "source": []
  },
  {
   "cell_type": "code",
   "execution_count": null,
   "id": "5cf674ba",
   "metadata": {},
   "outputs": [],
   "source": [
    "conv_layer = keras.layers.Conv2D(filters=1, \n",
    "                                 kernel_size=(4, 4), \n",
    "                                 strides=2)\n",
    "output = conv_layer(data_tf)\n",
    "print(output.shape)"
   ]
  },
  {
   "cell_type": "code",
   "execution_count": null,
   "id": "0d87dcbc",
   "metadata": {},
   "outputs": [],
   "source": []
  },
  {
   "cell_type": "code",
   "execution_count": null,
   "id": "c1bbf521",
   "metadata": {},
   "outputs": [],
   "source": [
    "conv_layer = keras.layers.Conv2D(filters=1, kernel_size=(5, 5), strides=2)\n",
    "output = conv_layer(data_tf)\n",
    "print(output.shape)"
   ]
  },
  {
   "cell_type": "code",
   "execution_count": null,
   "id": "29735464",
   "metadata": {},
   "outputs": [],
   "source": []
  },
  {
   "cell_type": "code",
   "execution_count": null,
   "id": "f70e3f99",
   "metadata": {},
   "outputs": [],
   "source": []
  }
 ],
 "metadata": {
  "kernelspec": {
   "display_name": "Python 3 (ipykernel)",
   "language": "python",
   "name": "python3"
  },
  "language_info": {
   "codemirror_mode": {
    "name": "ipython",
    "version": 3
   },
   "file_extension": ".py",
   "mimetype": "text/x-python",
   "name": "python",
   "nbconvert_exporter": "python",
   "pygments_lexer": "ipython3",
   "version": "3.9.13"
  }
 },
 "nbformat": 4,
 "nbformat_minor": 5
}
