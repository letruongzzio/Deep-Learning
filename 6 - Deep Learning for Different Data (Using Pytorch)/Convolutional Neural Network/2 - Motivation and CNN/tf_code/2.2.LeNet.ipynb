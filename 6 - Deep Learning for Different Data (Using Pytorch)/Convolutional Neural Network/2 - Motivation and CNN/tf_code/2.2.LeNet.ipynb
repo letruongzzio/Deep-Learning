{
 "cells": [
  {
   "cell_type": "code",
   "execution_count": null,
   "metadata": {
    "id": "2x3002l1cxuK",
    "outputId": "29358132-0781-4f7b-d65a-38e17e5329b5"
   },
   "outputs": [
    {
     "name": "stdout",
     "output_type": "stream",
     "text": [
      "Model: \"sequential\"\n",
      "_________________________________________________________________\n",
      "Layer (type)                 Output Shape              Param #   \n",
      "=================================================================\n",
      "conv2d (Conv2D)              (None, 28, 28, 6)         60        \n",
      "_________________________________________________________________\n",
      "max_pooling2d (MaxPooling2D) (None, 14, 14, 6)         0         \n",
      "_________________________________________________________________\n",
      "conv2d_1 (Conv2D)            (None, 10, 10, 16)        2416      \n",
      "_________________________________________________________________\n",
      "max_pooling2d_1 (MaxPooling2 (None, 5, 5, 16)          0         \n",
      "_________________________________________________________________\n",
      "flatten (Flatten)            (None, 400)               0         \n",
      "_________________________________________________________________\n",
      "dense (Dense)                (None, 120)               48120     \n",
      "_________________________________________________________________\n",
      "dense_1 (Dense)              (None, 84)                10164     \n",
      "_________________________________________________________________\n",
      "dense_2 (Dense)              (None, 10)                850       \n",
      "=================================================================\n",
      "Total params: 61,610\n",
      "Trainable params: 61,610\n",
      "Non-trainable params: 0\n",
      "_________________________________________________________________\n"
     ]
    }
   ],
   "source": [
    "# LeNet-like - MNIST\n",
    "import tensorflow as tf\n",
    "\n",
    "# model architecture\n",
    "model = tf.keras.Sequential()\n",
    "# input shape (28,28,1)\n",
    "model.add(tf.keras.Input(shape=(28, 28, 1)))\n",
    "\n",
    "# convolution 1\n",
    "model.add(tf.keras.layers.Conv2D(6, (3,3), padding='same', activation='relu')) \n",
    "# max pooling 1\n",
    "model.add(tf.keras.layers.MaxPooling2D(pool_size=2))\n",
    "\n",
    "# convolution 2\n",
    "model.add(tf.keras.layers.Conv2D(filters=16, kernel_size=5, activation='relu'))\n",
    "# max pooling 2\n",
    "model.add(tf.keras.layers.MaxPooling2D(pool_size=2))\n",
    "\n",
    "# Flatten\n",
    "model.add(tf.keras.layers.Flatten())\n",
    "\n",
    "# fully connected\n",
    "model.add(tf.keras.layers.Dense(120, activation='relu'))\n",
    "model.add(tf.keras.layers.Dense(84, activation='relu'))\n",
    "model.add(tf.keras.layers.Dense(10, activation='softmax'))\n",
    "\n",
    "# Take a look at the model summary\n",
    "model.summary()"
   ]
  },
  {
   "cell_type": "code",
   "execution_count": null,
   "metadata": {
    "id": "quK9NAQLcxuU",
    "outputId": "b1f227eb-dc23-428d-ad3e-dee8b405fde4"
   },
   "outputs": [
    {
     "name": "stdout",
     "output_type": "stream",
     "text": [
      "Model: \"sequential_1\"\n",
      "_________________________________________________________________\n",
      "Layer (type)                 Output Shape              Param #   \n",
      "=================================================================\n",
      "conv2d_2 (Conv2D)            (None, 28, 28, 6)         156       \n",
      "_________________________________________________________________\n",
      "max_pooling2d_2 (MaxPooling2 (None, 14, 14, 6)         0         \n",
      "_________________________________________________________________\n",
      "conv2d_3 (Conv2D)            (None, 10, 10, 16)        2416      \n",
      "_________________________________________________________________\n",
      "max_pooling2d_3 (MaxPooling2 (None, 5, 5, 16)          0         \n",
      "_________________________________________________________________\n",
      "flatten_1 (Flatten)          (None, 400)               0         \n",
      "_________________________________________________________________\n",
      "dense_3 (Dense)              (None, 120)               48120     \n",
      "_________________________________________________________________\n",
      "dense_4 (Dense)              (None, 84)                10164     \n",
      "_________________________________________________________________\n",
      "dense_5 (Dense)              (None, 10)                850       \n",
      "=================================================================\n",
      "Total params: 61,706\n",
      "Trainable params: 61,706\n",
      "Non-trainable params: 0\n",
      "_________________________________________________________________\n"
     ]
    }
   ],
   "source": [
    "# LeNet-like - MNIST\n",
    "import tensorflow as tf\n",
    "\n",
    "# model architecture\n",
    "model = tf.keras.Sequential()\n",
    "# input shape (28,28,1)\n",
    "model.add(tf.keras.Input(shape=(28, 28, 1)))\n",
    "\n",
    "# convolution 1 and max pooling 1\n",
    "model.add(tf.keras.layers.Conv2D(6, (5,5), padding='same', activation='relu'))\n",
    "model.add(tf.keras.layers.MaxPooling2D(pool_size=2))\n",
    "\n",
    "# convolution 2 and max pooling 2\n",
    "model.add(tf.keras.layers.Conv2D(filters=16, kernel_size=5, activation='relu'))\n",
    "model.add(tf.keras.layers.MaxPooling2D(pool_size=2))\n",
    "\n",
    "# Flatten\n",
    "model.add(tf.keras.layers.Flatten())\n",
    "\n",
    "# fully connected\n",
    "model.add(tf.keras.layers.Dense(120, activation='relu'))\n",
    "model.add(tf.keras.layers.Dense(84, activation='relu'))\n",
    "model.add(tf.keras.layers.Dense(10, activation='softmax'))\n",
    "\n",
    "# Take a look at the model summary\n",
    "model.summary()"
   ]
  },
  {
   "cell_type": "code",
   "execution_count": null,
   "metadata": {
    "id": "bDEfIavycxuW"
   },
   "outputs": [],
   "source": []
  },
  {
   "cell_type": "code",
   "execution_count": null,
   "metadata": {
    "id": "Re0dSd59dJez"
   },
   "outputs": [],
   "source": []
  },
  {
   "cell_type": "code",
   "execution_count": 1,
   "metadata": {
    "colab": {
     "base_uri": "https://localhost:8080/"
    },
    "executionInfo": {
     "elapsed": 6349,
     "status": "ok",
     "timestamp": 1642144970309,
     "user": {
      "displayName": "Quang Vinh",
      "photoUrl": "https://lh3.googleusercontent.com/a-/AOh14Gg23Oc7pbRRf6Q532NAbKAQmIr2CDd6GAm-B4v9-Q=s64",
      "userId": "10640784768073460440"
     },
     "user_tz": -420
    },
    "id": "jJwn_H_gdJhJ",
    "outputId": "19de0675-7d69-4142-c440-b1de2af9e8ae"
   },
   "outputs": [
    {
     "name": "stdout",
     "output_type": "stream",
     "text": [
      "Model: \"sequential\"\n",
      "_________________________________________________________________\n",
      " Layer (type)                Output Shape              Param #   \n",
      "=================================================================\n",
      " conv2d (Conv2D)             (None, 32, 32, 6)         456       \n",
      "                                                                 \n",
      " max_pooling2d (MaxPooling2D  (None, 16, 16, 6)        0         \n",
      " )                                                               \n",
      "                                                                 \n",
      " conv2d_1 (Conv2D)           (None, 12, 12, 16)        2416      \n",
      "                                                                 \n",
      " max_pooling2d_1 (MaxPooling  (None, 6, 6, 16)         0         \n",
      " 2D)                                                             \n",
      "                                                                 \n",
      " flatten (Flatten)           (None, 576)               0         \n",
      "                                                                 \n",
      " dense (Dense)               (None, 120)               69240     \n",
      "                                                                 \n",
      " dense_1 (Dense)             (None, 84)                10164     \n",
      "                                                                 \n",
      " dense_2 (Dense)             (None, 10)                850       \n",
      "                                                                 \n",
      "=================================================================\n",
      "Total params: 83,126\n",
      "Trainable params: 83,126\n",
      "Non-trainable params: 0\n",
      "_________________________________________________________________\n"
     ]
    }
   ],
   "source": [
    "# LeNet-like - Cifar10\n",
    "import tensorflow as tf\n",
    "\n",
    "# model architecture\n",
    "model = tf.keras.Sequential()\n",
    "# input shape (28,28,1)\n",
    "model.add(tf.keras.Input(shape=(32, 32, 3)))\n",
    "\n",
    "# convolution 1 and max pooling 1\n",
    "model.add(tf.keras.layers.Conv2D(6, (5,5), padding='same', activation='relu'))\n",
    "model.add(tf.keras.layers.MaxPooling2D(pool_size=2))\n",
    "\n",
    "# convolution 2 and max pooling 2\n",
    "model.add(tf.keras.layers.Conv2D(filters=16, kernel_size=5, activation='relu'))\n",
    "model.add(tf.keras.layers.MaxPooling2D(pool_size=2))\n",
    "\n",
    "# Flatten\n",
    "model.add(tf.keras.layers.Flatten())\n",
    "\n",
    "# fully connected\n",
    "model.add(tf.keras.layers.Dense(120, activation='relu'))\n",
    "model.add(tf.keras.layers.Dense(84, activation='relu'))\n",
    "model.add(tf.keras.layers.Dense(10, activation='softmax'))\n",
    "\n",
    "# Take a look at the model summary\n",
    "model.summary()"
   ]
  },
  {
   "cell_type": "code",
   "execution_count": 2,
   "metadata": {
    "colab": {
     "base_uri": "https://localhost:8080/"
    },
    "executionInfo": {
     "elapsed": 7780,
     "status": "ok",
     "timestamp": 1642144982791,
     "user": {
      "displayName": "Quang Vinh",
      "photoUrl": "https://lh3.googleusercontent.com/a-/AOh14Gg23Oc7pbRRf6Q532NAbKAQmIr2CDd6GAm-B4v9-Q=s64",
      "userId": "10640784768073460440"
     },
     "user_tz": -420
    },
    "id": "YK-K69drdJjZ",
    "outputId": "ca411212-e575-4cfa-bd12-56424c7f5250"
   },
   "outputs": [
    {
     "name": "stdout",
     "output_type": "stream",
     "text": [
      "Downloading data from https://www.cs.toronto.edu/~kriz/cifar-10-python.tar.gz\n",
      "170500096/170498071 [==============================] - 3s 0us/step\n",
      "170508288/170498071 [==============================] - 3s 0us/step\n"
     ]
    }
   ],
   "source": [
    "import tensorflow as tf\n",
    "from tensorflow import keras\n",
    "\n",
    "cifar10 = keras.datasets.cifar10\n",
    "(train_images, train_labels), (test_images, test_labels) = cifar10.load_data()\n",
    "\n",
    "train_images = train_images / 255.0\n",
    "test_images  = test_images / 255.0\n",
    "\n",
    "train_images = tf.reshape(train_images, (50000, 32, 32, 3))\n",
    "test_images  = tf.reshape(test_images, (10000, 32, 32, 3))"
   ]
  },
  {
   "cell_type": "code",
   "execution_count": 3,
   "metadata": {
    "colab": {
     "base_uri": "https://localhost:8080/"
    },
    "executionInfo": {
     "elapsed": 263130,
     "status": "ok",
     "timestamp": 1642145254323,
     "user": {
      "displayName": "Quang Vinh",
      "photoUrl": "https://lh3.googleusercontent.com/a-/AOh14Gg23Oc7pbRRf6Q532NAbKAQmIr2CDd6GAm-B4v9-Q=s64",
      "userId": "10640784768073460440"
     },
     "user_tz": -420
    },
    "id": "PpC37cyadJlp",
    "outputId": "12a8deaa-a78b-48ff-9b07-80d356755767"
   },
   "outputs": [
    {
     "name": "stdout",
     "output_type": "stream",
     "text": [
      "Epoch 1/100\n",
      "98/98 [==============================] - 11s 26ms/step - loss: 2.0491 - accuracy: 0.2597 - val_loss: 1.8314 - val_accuracy: 0.3487\n",
      "Epoch 2/100\n",
      "98/98 [==============================] - 2s 22ms/step - loss: 1.7084 - accuracy: 0.3918 - val_loss: 1.6103 - val_accuracy: 0.4255\n",
      "Epoch 3/100\n",
      "98/98 [==============================] - 2s 22ms/step - loss: 1.5586 - accuracy: 0.4416 - val_loss: 1.4961 - val_accuracy: 0.4606\n",
      "Epoch 4/100\n",
      "98/98 [==============================] - 2s 22ms/step - loss: 1.4607 - accuracy: 0.4752 - val_loss: 1.4568 - val_accuracy: 0.4797\n",
      "Epoch 5/100\n",
      "98/98 [==============================] - 2s 23ms/step - loss: 1.4078 - accuracy: 0.4981 - val_loss: 1.3941 - val_accuracy: 0.5024\n",
      "Epoch 6/100\n",
      "98/98 [==============================] - 2s 22ms/step - loss: 1.3555 - accuracy: 0.5189 - val_loss: 1.3435 - val_accuracy: 0.5227\n",
      "Epoch 7/100\n",
      "98/98 [==============================] - 2s 21ms/step - loss: 1.3268 - accuracy: 0.5283 - val_loss: 1.3544 - val_accuracy: 0.5173\n",
      "Epoch 8/100\n",
      "98/98 [==============================] - 2s 22ms/step - loss: 1.2959 - accuracy: 0.5400 - val_loss: 1.3234 - val_accuracy: 0.5316\n",
      "Epoch 9/100\n",
      "98/98 [==============================] - 2s 21ms/step - loss: 1.2667 - accuracy: 0.5524 - val_loss: 1.3008 - val_accuracy: 0.5372\n",
      "Epoch 10/100\n",
      "98/98 [==============================] - 2s 21ms/step - loss: 1.2497 - accuracy: 0.5590 - val_loss: 1.2602 - val_accuracy: 0.5528\n",
      "Epoch 11/100\n",
      "98/98 [==============================] - 2s 21ms/step - loss: 1.2228 - accuracy: 0.5688 - val_loss: 1.2469 - val_accuracy: 0.5609\n",
      "Epoch 12/100\n",
      "98/98 [==============================] - 2s 22ms/step - loss: 1.2098 - accuracy: 0.5726 - val_loss: 1.2596 - val_accuracy: 0.5545\n",
      "Epoch 13/100\n",
      "98/98 [==============================] - 2s 22ms/step - loss: 1.1916 - accuracy: 0.5818 - val_loss: 1.2302 - val_accuracy: 0.5687\n",
      "Epoch 14/100\n",
      "98/98 [==============================] - 2s 22ms/step - loss: 1.1697 - accuracy: 0.5886 - val_loss: 1.2321 - val_accuracy: 0.5622\n",
      "Epoch 15/100\n",
      "98/98 [==============================] - 2s 22ms/step - loss: 1.1590 - accuracy: 0.5936 - val_loss: 1.1992 - val_accuracy: 0.5764\n",
      "Epoch 16/100\n",
      "98/98 [==============================] - 2s 22ms/step - loss: 1.1458 - accuracy: 0.5975 - val_loss: 1.1905 - val_accuracy: 0.5803\n",
      "Epoch 17/100\n",
      "98/98 [==============================] - 2s 22ms/step - loss: 1.1315 - accuracy: 0.6042 - val_loss: 1.1827 - val_accuracy: 0.5849\n",
      "Epoch 18/100\n",
      "98/98 [==============================] - 2s 22ms/step - loss: 1.1217 - accuracy: 0.6046 - val_loss: 1.1732 - val_accuracy: 0.5838\n",
      "Epoch 19/100\n",
      "98/98 [==============================] - 2s 21ms/step - loss: 1.1142 - accuracy: 0.6098 - val_loss: 1.1582 - val_accuracy: 0.5931\n",
      "Epoch 20/100\n",
      "98/98 [==============================] - 2s 21ms/step - loss: 1.0953 - accuracy: 0.6160 - val_loss: 1.1709 - val_accuracy: 0.5877\n",
      "Epoch 21/100\n",
      "98/98 [==============================] - 2s 21ms/step - loss: 1.0883 - accuracy: 0.6183 - val_loss: 1.1691 - val_accuracy: 0.5852\n",
      "Epoch 22/100\n",
      "98/98 [==============================] - 2s 21ms/step - loss: 1.0752 - accuracy: 0.6229 - val_loss: 1.1380 - val_accuracy: 0.5965\n",
      "Epoch 23/100\n",
      "98/98 [==============================] - 2s 22ms/step - loss: 1.0620 - accuracy: 0.6283 - val_loss: 1.1832 - val_accuracy: 0.5822\n",
      "Epoch 24/100\n",
      "98/98 [==============================] - 2s 21ms/step - loss: 1.0619 - accuracy: 0.6281 - val_loss: 1.1418 - val_accuracy: 0.5926\n",
      "Epoch 25/100\n",
      "98/98 [==============================] - 2s 22ms/step - loss: 1.0477 - accuracy: 0.6331 - val_loss: 1.1930 - val_accuracy: 0.5787\n",
      "Epoch 26/100\n",
      "98/98 [==============================] - 2s 21ms/step - loss: 1.0401 - accuracy: 0.6338 - val_loss: 1.1207 - val_accuracy: 0.6036\n",
      "Epoch 27/100\n",
      "98/98 [==============================] - 2s 22ms/step - loss: 1.0217 - accuracy: 0.6428 - val_loss: 1.1236 - val_accuracy: 0.6029\n",
      "Epoch 28/100\n",
      "98/98 [==============================] - 2s 22ms/step - loss: 1.0162 - accuracy: 0.6455 - val_loss: 1.1056 - val_accuracy: 0.6067\n",
      "Epoch 29/100\n",
      "98/98 [==============================] - 2s 21ms/step - loss: 1.0047 - accuracy: 0.6491 - val_loss: 1.1222 - val_accuracy: 0.6025\n",
      "Epoch 30/100\n",
      "98/98 [==============================] - 2s 22ms/step - loss: 1.0076 - accuracy: 0.6473 - val_loss: 1.1197 - val_accuracy: 0.6071\n",
      "Epoch 31/100\n",
      "98/98 [==============================] - 2s 22ms/step - loss: 0.9909 - accuracy: 0.6541 - val_loss: 1.0973 - val_accuracy: 0.6106\n",
      "Epoch 32/100\n",
      "98/98 [==============================] - 2s 22ms/step - loss: 0.9874 - accuracy: 0.6551 - val_loss: 1.1020 - val_accuracy: 0.6179\n",
      "Epoch 33/100\n",
      "98/98 [==============================] - 2s 21ms/step - loss: 0.9722 - accuracy: 0.6608 - val_loss: 1.1035 - val_accuracy: 0.6083\n",
      "Epoch 34/100\n",
      "98/98 [==============================] - 2s 21ms/step - loss: 0.9641 - accuracy: 0.6626 - val_loss: 1.1017 - val_accuracy: 0.6126\n",
      "Epoch 35/100\n",
      "98/98 [==============================] - 2s 22ms/step - loss: 0.9588 - accuracy: 0.6655 - val_loss: 1.0876 - val_accuracy: 0.6200\n",
      "Epoch 36/100\n",
      "98/98 [==============================] - 2s 22ms/step - loss: 0.9518 - accuracy: 0.6690 - val_loss: 1.1112 - val_accuracy: 0.6070\n",
      "Epoch 37/100\n",
      "98/98 [==============================] - 2s 21ms/step - loss: 0.9404 - accuracy: 0.6724 - val_loss: 1.0750 - val_accuracy: 0.6201\n",
      "Epoch 38/100\n",
      "98/98 [==============================] - 2s 21ms/step - loss: 0.9320 - accuracy: 0.6747 - val_loss: 1.0826 - val_accuracy: 0.6194\n",
      "Epoch 39/100\n",
      "98/98 [==============================] - 2s 22ms/step - loss: 0.9255 - accuracy: 0.6782 - val_loss: 1.0835 - val_accuracy: 0.6176\n",
      "Epoch 40/100\n",
      "98/98 [==============================] - 2s 21ms/step - loss: 0.9239 - accuracy: 0.6794 - val_loss: 1.0928 - val_accuracy: 0.6151\n",
      "Epoch 41/100\n",
      "98/98 [==============================] - 2s 22ms/step - loss: 0.9161 - accuracy: 0.6808 - val_loss: 1.0787 - val_accuracy: 0.6183\n",
      "Epoch 42/100\n",
      "98/98 [==============================] - 2s 22ms/step - loss: 0.9037 - accuracy: 0.6848 - val_loss: 1.0747 - val_accuracy: 0.6198\n",
      "Epoch 43/100\n",
      "98/98 [==============================] - 2s 21ms/step - loss: 0.8982 - accuracy: 0.6892 - val_loss: 1.0648 - val_accuracy: 0.6324\n",
      "Epoch 44/100\n",
      "98/98 [==============================] - 2s 22ms/step - loss: 0.8918 - accuracy: 0.6891 - val_loss: 1.0758 - val_accuracy: 0.6280\n",
      "Epoch 45/100\n",
      "98/98 [==============================] - 2s 22ms/step - loss: 0.8874 - accuracy: 0.6927 - val_loss: 1.0708 - val_accuracy: 0.6267\n",
      "Epoch 46/100\n",
      "98/98 [==============================] - 2s 22ms/step - loss: 0.8796 - accuracy: 0.6933 - val_loss: 1.0623 - val_accuracy: 0.6321\n",
      "Epoch 47/100\n",
      "98/98 [==============================] - 2s 22ms/step - loss: 0.8683 - accuracy: 0.6969 - val_loss: 1.0672 - val_accuracy: 0.6309\n",
      "Epoch 48/100\n",
      "98/98 [==============================] - 2s 22ms/step - loss: 0.8626 - accuracy: 0.7005 - val_loss: 1.0618 - val_accuracy: 0.6324\n",
      "Epoch 49/100\n",
      "98/98 [==============================] - 2s 21ms/step - loss: 0.8562 - accuracy: 0.7016 - val_loss: 1.0983 - val_accuracy: 0.6271\n",
      "Epoch 50/100\n",
      "98/98 [==============================] - 2s 22ms/step - loss: 0.8494 - accuracy: 0.7045 - val_loss: 1.0605 - val_accuracy: 0.6292\n",
      "Epoch 51/100\n",
      "98/98 [==============================] - 2s 21ms/step - loss: 0.8461 - accuracy: 0.7052 - val_loss: 1.0671 - val_accuracy: 0.6283\n",
      "Epoch 52/100\n",
      "98/98 [==============================] - 2s 22ms/step - loss: 0.8436 - accuracy: 0.7062 - val_loss: 1.0593 - val_accuracy: 0.6305\n",
      "Epoch 53/100\n",
      "98/98 [==============================] - 2s 22ms/step - loss: 0.8289 - accuracy: 0.7131 - val_loss: 1.0578 - val_accuracy: 0.6305\n",
      "Epoch 54/100\n",
      "98/98 [==============================] - 2s 21ms/step - loss: 0.8276 - accuracy: 0.7126 - val_loss: 1.0709 - val_accuracy: 0.6289\n",
      "Epoch 55/100\n",
      "98/98 [==============================] - 2s 23ms/step - loss: 0.8211 - accuracy: 0.7124 - val_loss: 1.0692 - val_accuracy: 0.6300\n",
      "Epoch 56/100\n",
      "98/98 [==============================] - 2s 21ms/step - loss: 0.8117 - accuracy: 0.7183 - val_loss: 1.0575 - val_accuracy: 0.6334\n",
      "Epoch 57/100\n",
      "98/98 [==============================] - 2s 22ms/step - loss: 0.8042 - accuracy: 0.7199 - val_loss: 1.0678 - val_accuracy: 0.6333\n",
      "Epoch 58/100\n",
      "98/98 [==============================] - 2s 22ms/step - loss: 0.8054 - accuracy: 0.7198 - val_loss: 1.0687 - val_accuracy: 0.6321\n",
      "Epoch 59/100\n",
      "98/98 [==============================] - 2s 22ms/step - loss: 0.7934 - accuracy: 0.7247 - val_loss: 1.1009 - val_accuracy: 0.6243\n",
      "Epoch 60/100\n",
      "98/98 [==============================] - 2s 22ms/step - loss: 0.7956 - accuracy: 0.7221 - val_loss: 1.0841 - val_accuracy: 0.6278\n",
      "Epoch 61/100\n",
      "98/98 [==============================] - 2s 22ms/step - loss: 0.7809 - accuracy: 0.7301 - val_loss: 1.0595 - val_accuracy: 0.6361\n",
      "Epoch 62/100\n",
      "98/98 [==============================] - 2s 22ms/step - loss: 0.7772 - accuracy: 0.7281 - val_loss: 1.0623 - val_accuracy: 0.6293\n",
      "Epoch 63/100\n",
      "98/98 [==============================] - 2s 21ms/step - loss: 0.7694 - accuracy: 0.7316 - val_loss: 1.0796 - val_accuracy: 0.6340\n",
      "Epoch 64/100\n",
      "98/98 [==============================] - 2s 21ms/step - loss: 0.7659 - accuracy: 0.7350 - val_loss: 1.0764 - val_accuracy: 0.6312\n",
      "Epoch 65/100\n",
      "98/98 [==============================] - 2s 23ms/step - loss: 0.7611 - accuracy: 0.7350 - val_loss: 1.0697 - val_accuracy: 0.6340\n",
      "Epoch 66/100\n",
      "98/98 [==============================] - 2s 21ms/step - loss: 0.7500 - accuracy: 0.7393 - val_loss: 1.0805 - val_accuracy: 0.6330\n",
      "Epoch 67/100\n",
      "98/98 [==============================] - 2s 22ms/step - loss: 0.7469 - accuracy: 0.7397 - val_loss: 1.0827 - val_accuracy: 0.6349\n",
      "Epoch 68/100\n",
      "98/98 [==============================] - 2s 21ms/step - loss: 0.7413 - accuracy: 0.7439 - val_loss: 1.0879 - val_accuracy: 0.6288\n",
      "Epoch 69/100\n",
      "98/98 [==============================] - 2s 21ms/step - loss: 0.7361 - accuracy: 0.7448 - val_loss: 1.0984 - val_accuracy: 0.6219\n",
      "Epoch 70/100\n",
      "98/98 [==============================] - 2s 22ms/step - loss: 0.7317 - accuracy: 0.7466 - val_loss: 1.0973 - val_accuracy: 0.6271\n",
      "Epoch 71/100\n",
      "98/98 [==============================] - 2s 22ms/step - loss: 0.7325 - accuracy: 0.7448 - val_loss: 1.0908 - val_accuracy: 0.6315\n",
      "Epoch 72/100\n",
      "98/98 [==============================] - 2s 22ms/step - loss: 0.7252 - accuracy: 0.7494 - val_loss: 1.0867 - val_accuracy: 0.6349\n",
      "Epoch 73/100\n",
      "98/98 [==============================] - 2s 21ms/step - loss: 0.7159 - accuracy: 0.7507 - val_loss: 1.0800 - val_accuracy: 0.6372\n",
      "Epoch 74/100\n",
      "98/98 [==============================] - 2s 22ms/step - loss: 0.7115 - accuracy: 0.7532 - val_loss: 1.0934 - val_accuracy: 0.6336\n",
      "Epoch 75/100\n",
      "98/98 [==============================] - 2s 22ms/step - loss: 0.7027 - accuracy: 0.7547 - val_loss: 1.0933 - val_accuracy: 0.6348\n",
      "Epoch 76/100\n",
      "98/98 [==============================] - 2s 21ms/step - loss: 0.7028 - accuracy: 0.7567 - val_loss: 1.0937 - val_accuracy: 0.6328\n",
      "Epoch 77/100\n",
      "98/98 [==============================] - 2s 22ms/step - loss: 0.6965 - accuracy: 0.7585 - val_loss: 1.1108 - val_accuracy: 0.6333\n",
      "Epoch 78/100\n",
      "98/98 [==============================] - 2s 22ms/step - loss: 0.6910 - accuracy: 0.7601 - val_loss: 1.1066 - val_accuracy: 0.6295\n",
      "Epoch 79/100\n",
      "98/98 [==============================] - 2s 21ms/step - loss: 0.6875 - accuracy: 0.7626 - val_loss: 1.1038 - val_accuracy: 0.6331\n",
      "Epoch 80/100\n",
      "98/98 [==============================] - 2s 23ms/step - loss: 0.6741 - accuracy: 0.7670 - val_loss: 1.0992 - val_accuracy: 0.6357\n",
      "Epoch 81/100\n",
      "98/98 [==============================] - 2s 22ms/step - loss: 0.6703 - accuracy: 0.7675 - val_loss: 1.1095 - val_accuracy: 0.6311\n",
      "Epoch 82/100\n",
      "98/98 [==============================] - 2s 22ms/step - loss: 0.6711 - accuracy: 0.7678 - val_loss: 1.1179 - val_accuracy: 0.6317\n",
      "Epoch 83/100\n",
      "98/98 [==============================] - 2s 21ms/step - loss: 0.6653 - accuracy: 0.7688 - val_loss: 1.1111 - val_accuracy: 0.6340\n",
      "Epoch 84/100\n",
      "98/98 [==============================] - 2s 21ms/step - loss: 0.6569 - accuracy: 0.7730 - val_loss: 1.1031 - val_accuracy: 0.6359\n",
      "Epoch 85/100\n",
      "98/98 [==============================] - 2s 22ms/step - loss: 0.6520 - accuracy: 0.7737 - val_loss: 1.1088 - val_accuracy: 0.6393\n",
      "Epoch 86/100\n",
      "98/98 [==============================] - 2s 21ms/step - loss: 0.6555 - accuracy: 0.7715 - val_loss: 1.1168 - val_accuracy: 0.6380\n",
      "Epoch 87/100\n",
      "98/98 [==============================] - 2s 22ms/step - loss: 0.6417 - accuracy: 0.7786 - val_loss: 1.1253 - val_accuracy: 0.6325\n",
      "Epoch 88/100\n",
      "98/98 [==============================] - 2s 22ms/step - loss: 0.6435 - accuracy: 0.7771 - val_loss: 1.1250 - val_accuracy: 0.6331\n",
      "Epoch 89/100\n",
      "98/98 [==============================] - 2s 22ms/step - loss: 0.6400 - accuracy: 0.7784 - val_loss: 1.1299 - val_accuracy: 0.6330\n",
      "Epoch 90/100\n",
      "98/98 [==============================] - 2s 22ms/step - loss: 0.6304 - accuracy: 0.7827 - val_loss: 1.1558 - val_accuracy: 0.6273\n",
      "Epoch 91/100\n",
      "98/98 [==============================] - 2s 22ms/step - loss: 0.6272 - accuracy: 0.7843 - val_loss: 1.1277 - val_accuracy: 0.6379\n",
      "Epoch 92/100\n",
      "98/98 [==============================] - 2s 22ms/step - loss: 0.6180 - accuracy: 0.7859 - val_loss: 1.1401 - val_accuracy: 0.6347\n",
      "Epoch 93/100\n",
      "98/98 [==============================] - 2s 22ms/step - loss: 0.6155 - accuracy: 0.7883 - val_loss: 1.1498 - val_accuracy: 0.6344\n",
      "Epoch 94/100\n",
      "98/98 [==============================] - 2s 22ms/step - loss: 0.6123 - accuracy: 0.7878 - val_loss: 1.1468 - val_accuracy: 0.6352\n",
      "Epoch 95/100\n",
      "98/98 [==============================] - 2s 22ms/step - loss: 0.6134 - accuracy: 0.7875 - val_loss: 1.1623 - val_accuracy: 0.6295\n",
      "Epoch 96/100\n",
      "98/98 [==============================] - 2s 22ms/step - loss: 0.6067 - accuracy: 0.7890 - val_loss: 1.1562 - val_accuracy: 0.6329\n",
      "Epoch 97/100\n",
      "98/98 [==============================] - 2s 22ms/step - loss: 0.6021 - accuracy: 0.7921 - val_loss: 1.1587 - val_accuracy: 0.6335\n",
      "Epoch 98/100\n",
      "98/98 [==============================] - 2s 22ms/step - loss: 0.5925 - accuracy: 0.7943 - val_loss: 1.1604 - val_accuracy: 0.6380\n",
      "Epoch 99/100\n",
      "98/98 [==============================] - 2s 22ms/step - loss: 0.5961 - accuracy: 0.7920 - val_loss: 1.1596 - val_accuracy: 0.6354\n",
      "Epoch 100/100\n",
      "98/98 [==============================] - 2s 21ms/step - loss: 0.5904 - accuracy: 0.7964 - val_loss: 1.1778 - val_accuracy: 0.6306\n"
     ]
    }
   ],
   "source": [
    "optimizer = tf.keras.optimizers.Adam(learning_rate=0.0005)\n",
    "model.compile(optimizer=optimizer,\n",
    "              loss=tf.keras.losses.SparseCategoricalCrossentropy(),\n",
    "              metrics=['accuracy'])\n",
    "history_data = model.fit(train_images, train_labels, batch_size=512,\n",
    "                         validation_data=(test_images, test_labels), epochs=100)"
   ]
  },
  {
   "cell_type": "code",
   "execution_count": null,
   "metadata": {
    "id": "H850B4k5dJog"
   },
   "outputs": [],
   "source": []
  },
  {
   "cell_type": "code",
   "execution_count": 4,
   "metadata": {
    "colab": {
     "base_uri": "https://localhost:8080/",
     "height": 297
    },
    "executionInfo": {
     "elapsed": 800,
     "status": "ok",
     "timestamp": 1642145256139,
     "user": {
      "displayName": "Quang Vinh",
      "photoUrl": "https://lh3.googleusercontent.com/a-/AOh14Gg23Oc7pbRRf6Q532NAbKAQmIr2CDd6GAm-B4v9-Q=s64",
      "userId": "10640784768073460440"
     },
     "user_tz": -420
    },
    "id": "-3PW0go1daF0",
    "outputId": "4c4ad55c-e4da-4c5d-e8a0-81592db8e237"
   },
   "outputs": [
    {
     "data": {
      "text/plain": [
       "<matplotlib.legend.Legend at 0x7fb79dd9a110>"
      ]
     },
     "execution_count": 4,
     "metadata": {},
     "output_type": "execute_result"
    },
    {
     "data": {
      "image/png": "[encoded data removed]",
      "text/plain": [
       "<Figure size 432x288 with 1 Axes>"
      ]
     },
     "metadata": {
      "needs_background": "light"
     },
     "output_type": "display_data"
    }
   ],
   "source": [
    "import matplotlib.pyplot as plt\n",
    "\n",
    "plt.plot(history_data.history['loss'], label = \"train_loss\")\n",
    "plt.plot(history_data.history['val_loss'], label = \"val_loss\")\n",
    "plt.xlabel('iteration')\n",
    "plt.ylabel('Loss')\n",
    "plt.legend()"
   ]
  },
  {
   "cell_type": "code",
   "execution_count": null,
   "metadata": {
    "id": "uPeBAksKdaII"
   },
   "outputs": [],
   "source": []
  },
  {
   "cell_type": "code",
   "execution_count": 5,
   "metadata": {
    "colab": {
     "base_uri": "https://localhost:8080/",
     "height": 297
    },
    "executionInfo": {
     "elapsed": 23,
     "status": "ok",
     "timestamp": 1642145256139,
     "user": {
      "displayName": "Quang Vinh",
      "photoUrl": "https://lh3.googleusercontent.com/a-/AOh14Gg23Oc7pbRRf6Q532NAbKAQmIr2CDd6GAm-B4v9-Q=s64",
      "userId": "10640784768073460440"
     },
     "user_tz": -420
    },
    "id": "FSGa8rlddaRx",
    "outputId": "4ee49c6b-e668-4f8a-e4d1-15d4ff2fd632"
   },
   "outputs": [
    {
     "data": {
      "text/plain": [
       "<matplotlib.legend.Legend at 0x7fb79dd59b10>"
      ]
     },
     "execution_count": 5,
     "metadata": {},
     "output_type": "execute_result"
    },
    {
     "data": {
      "image/png": "[encoded data removed]",
      "text/plain": [
       "<Figure size 432x288 with 1 Axes>"
      ]
     },
     "metadata": {
      "needs_background": "light"
     },
     "output_type": "display_data"
    }
   ],
   "source": [
    "import matplotlib.pyplot as plt\n",
    "\n",
    "plt.plot(history_data.history['accuracy'], label = \"train_accuracy\")\n",
    "plt.plot(history_data.history['val_accuracy'], label = \"val_accuracy\")\n",
    "plt.xlabel('iteration')\n",
    "plt.ylabel('Accuracy')\n",
    "plt.legend()"
   ]
  },
  {
   "cell_type": "code",
   "execution_count": null,
   "metadata": {
    "id": "IHUwFl0je4WR"
   },
   "outputs": [],
   "source": []
  }
 ],
 "metadata": {
  "accelerator": "GPU",
  "colab": {
   "name": "8.4.LeNet.ipynb",
   "provenance": []
  },
  "kernelspec": {
   "display_name": "Python 3 (ipykernel)",
   "language": "python",
   "name": "python3"
  },
  "language_info": {
   "codemirror_mode": {
    "name": "ipython",
    "version": 3
   },
   "file_extension": ".py",
   "mimetype": "text/x-python",
   "name": "python",
   "nbconvert_exporter": "python",
   "pygments_lexer": "ipython3",
   "version": "3.9.13"
  }
 },
 "nbformat": 4,
 "nbformat_minor": 1
}
