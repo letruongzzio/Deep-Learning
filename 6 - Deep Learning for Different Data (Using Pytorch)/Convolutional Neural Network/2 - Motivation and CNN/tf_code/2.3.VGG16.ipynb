{
 "cells": [
  {
   "cell_type": "code",
   "execution_count": null,
   "metadata": {
    "id": "JowOOQ0bfMDx"
   },
   "outputs": [],
   "source": []
  },
  {
   "cell_type": "code",
   "execution_count": null,
   "metadata": {},
   "outputs": [],
   "source": [
    "model = Sequential()\n",
    "model.add(Convolution2D(64, 3, padding='same', activation='relu', \n",
    "                                               input_shape=(224,224,1)))\n",
    "model.add(Convolution2D(64, 3, padding='same', activation='relu'))\n",
    "model.add(MaxPooling2D((2,2), strides=(2,2)))\n",
    "\n",
    "model.add(Convolution2D(128, 3, padding='same', activation='relu'))\n",
    "model.add(Convolution2D(128, 3, padding='same', activation='relu'))\n",
    "model.add(MaxPooling2D((2,2), strides=(2,2)))\n",
    "\n",
    "\n",
    "model.add(Convolution2D(256, 3, padding='same', activation='relu'))\n",
    "model.add(Convolution2D(256, 3, padding='same', activation='relu'))\n",
    "model.add(Convolution2D(256, 3, padding='same', activation='relu'))\n",
    "model.add(MaxPooling2D((2,2), strides=(2,2)))\n",
    "\n",
    "model.add(Convolution2D(512, 3, padding='same', activation='relu'))\n",
    "model.add(Convolution2D(512, 3, padding='same', activation='relu'))\n",
    "model.add(Convolution2D(512, 3, padding='same', activation='relu'))\n",
    "model.add(MaxPooling2D((2,2), strides=(2,2)))\n",
    "\n",
    "model.add(Convolution2D(512, 3, padding='same', activation='relu'))\n",
    "model.add(Convolution2D(512, 3, padding='same', activation='relu'))\n",
    "model.add(Convolution2D(512, 3, padding='same', activation='relu'))\n",
    "model.add(MaxPooling2D((2,2), strides=(2,2)))\n",
    "\n",
    "model.add(Flatten())\n",
    "model.add(Dense(4096, activation='relu'))\n",
    "model.add(Dense(4096, activation='relu'))\n",
    "model.add(Dense(1000, activation='softmax'))"
   ]
  },
  {
   "cell_type": "code",
   "execution_count": null,
   "metadata": {},
   "outputs": [],
   "source": []
  },
  {
   "cell_type": "code",
   "execution_count": null,
   "metadata": {
    "id": "h28SFZsrfMDy",
    "outputId": "24a788f6-0a34-4b86-9b3a-e78c6c34fa10"
   },
   "outputs": [
    {
     "name": "stdout",
     "output_type": "stream",
     "text": [
      "Model: \"sequential_12\"\n",
      "_________________________________________________________________\n",
      "Layer (type)                 Output Shape              Param #   \n",
      "=================================================================\n",
      "conv2d_73 (Conv2D)           (None, 224, 224, 64)      640       \n",
      "_________________________________________________________________\n",
      "conv2d_74 (Conv2D)           (None, 224, 224, 64)      36928     \n",
      "_________________________________________________________________\n",
      "max_pooling2d_30 (MaxPooling (None, 112, 112, 64)      0         \n",
      "_________________________________________________________________\n",
      "conv2d_75 (Conv2D)           (None, 112, 112, 128)     73856     \n",
      "_________________________________________________________________\n",
      "conv2d_76 (Conv2D)           (None, 112, 112, 128)     147584    \n",
      "_________________________________________________________________\n",
      "max_pooling2d_31 (MaxPooling (None, 56, 56, 128)       0         \n",
      "_________________________________________________________________\n",
      "conv2d_77 (Conv2D)           (None, 56, 56, 256)       295168    \n",
      "_________________________________________________________________\n",
      "conv2d_78 (Conv2D)           (None, 56, 56, 256)       590080    \n",
      "_________________________________________________________________\n",
      "conv2d_79 (Conv2D)           (None, 56, 56, 256)       590080    \n",
      "_________________________________________________________________\n",
      "max_pooling2d_32 (MaxPooling (None, 28, 28, 256)       0         \n",
      "_________________________________________________________________\n",
      "conv2d_80 (Conv2D)           (None, 28, 28, 512)       1180160   \n",
      "_________________________________________________________________\n",
      "conv2d_81 (Conv2D)           (None, 28, 28, 512)       2359808   \n",
      "_________________________________________________________________\n",
      "conv2d_82 (Conv2D)           (None, 28, 28, 512)       2359808   \n",
      "_________________________________________________________________\n",
      "max_pooling2d_33 (MaxPooling (None, 14, 14, 512)       0         \n",
      "_________________________________________________________________\n",
      "conv2d_83 (Conv2D)           (None, 14, 14, 512)       2359808   \n",
      "_________________________________________________________________\n",
      "conv2d_84 (Conv2D)           (None, 14, 14, 512)       2359808   \n",
      "_________________________________________________________________\n",
      "conv2d_85 (Conv2D)           (None, 14, 14, 512)       2359808   \n",
      "_________________________________________________________________\n",
      "max_pooling2d_34 (MaxPooling (None, 7, 7, 512)         0         \n",
      "_________________________________________________________________\n",
      "flatten_1 (Flatten)          (None, 25088)             0         \n",
      "_________________________________________________________________\n",
      "dense_3 (Dense)              (None, 4096)              102764544 \n",
      "_________________________________________________________________\n",
      "dense_4 (Dense)              (None, 4096)              16781312  \n",
      "_________________________________________________________________\n",
      "dense_5 (Dense)              (None, 1000)              4097000   \n",
      "=================================================================\n",
      "Total params: 138,356,392\n",
      "Trainable params: 138,356,392\n",
      "Non-trainable params: 0\n",
      "_________________________________________________________________\n"
     ]
    }
   ],
   "source": [
    "from tensorflow.keras.models import Sequential\n",
    "from tensorflow.keras.layers import Flatten, Dense\n",
    "from tensorflow.keras.layers import Convolution2D, MaxPooling2D\n",
    "\n",
    "def VGG_16():\n",
    "    model = Sequential()\n",
    "    model.add(Convolution2D(64, 3, padding='same', activation='relu', \n",
    "                                                   input_shape=(224,224,1)))\n",
    "    model.add(Convolution2D(64, 3, padding='same', activation='relu'))\n",
    "    model.add(MaxPooling2D((2,2), strides=(2,2)))\n",
    "\n",
    "    model.add(Convolution2D(128, 3, padding='same', activation='relu'))\n",
    "    model.add(Convolution2D(128, 3, padding='same', activation='relu'))\n",
    "    model.add(MaxPooling2D((2,2), strides=(2,2)))\n",
    "\n",
    "    \n",
    "    model.add(Convolution2D(256, 3, padding='same', activation='relu'))\n",
    "    model.add(Convolution2D(256, 3, padding='same', activation='relu'))\n",
    "    model.add(Convolution2D(256, 3, padding='same', activation='relu'))\n",
    "    model.add(MaxPooling2D((2,2), strides=(2,2)))\n",
    "\n",
    "    model.add(Convolution2D(512, 3, padding='same', activation='relu'))\n",
    "    model.add(Convolution2D(512, 3, padding='same', activation='relu'))\n",
    "    model.add(Convolution2D(512, 3, padding='same', activation='relu'))\n",
    "    model.add(MaxPooling2D((2,2), strides=(2,2)))\n",
    "\n",
    "    model.add(Convolution2D(512, 3, padding='same', activation='relu'))\n",
    "    model.add(Convolution2D(512, 3, padding='same', activation='relu'))\n",
    "    model.add(Convolution2D(512, 3, padding='same', activation='relu'))\n",
    "    model.add(MaxPooling2D((2,2), strides=(2,2)))\n",
    "\n",
    "    model.add(Flatten())\n",
    "    model.add(Dense(4096, activation='relu'))\n",
    "    model.add(Dense(4096, activation='relu'))\n",
    "    model.add(Dense(1000, activation='softmax'))\n",
    "\n",
    "    return model\n",
    "\n",
    "vgg16 = VGG_16()\n",
    "vgg16.summary()"
   ]
  },
  {
   "cell_type": "code",
   "execution_count": null,
   "metadata": {
    "id": "m3xkoTyOfMD0"
   },
   "outputs": [],
   "source": []
  },
  {
   "cell_type": "code",
   "execution_count": 4,
   "metadata": {
    "colab": {
     "base_uri": "https://localhost:8080/"
    },
    "executionInfo": {
     "elapsed": 5076,
     "status": "ok",
     "timestamp": 1642146021849,
     "user": {
      "displayName": "Quang Vinh",
      "photoUrl": "https://lh3.googleusercontent.com/a-/AOh14Gg23Oc7pbRRf6Q532NAbKAQmIr2CDd6GAm-B4v9-Q=s64",
      "userId": "10640784768073460440"
     },
     "user_tz": -420
    },
    "id": "Qt9VmU51fMD1",
    "outputId": "444fa9fe-f1d2-40e8-ba78-d7c06c3e4195"
   },
   "outputs": [
    {
     "name": "stdout",
     "output_type": "stream",
     "text": [
      "Model: \"sequential_1\"\n",
      "_________________________________________________________________\n",
      " Layer (type)                Output Shape              Param #   \n",
      "=================================================================\n",
      " conv2d_13 (Conv2D)          (None, 32, 32, 64)        1792      \n",
      "                                                                 \n",
      " conv2d_14 (Conv2D)          (None, 32, 32, 64)        36928     \n",
      "                                                                 \n",
      " max_pooling2d_5 (MaxPooling  (None, 16, 16, 64)       0         \n",
      " 2D)                                                             \n",
      "                                                                 \n",
      " conv2d_15 (Conv2D)          (None, 16, 16, 128)       73856     \n",
      "                                                                 \n",
      " conv2d_16 (Conv2D)          (None, 16, 16, 128)       147584    \n",
      "                                                                 \n",
      " max_pooling2d_6 (MaxPooling  (None, 8, 8, 128)        0         \n",
      " 2D)                                                             \n",
      "                                                                 \n",
      " conv2d_17 (Conv2D)          (None, 8, 8, 256)         295168    \n",
      "                                                                 \n",
      " conv2d_18 (Conv2D)          (None, 8, 8, 256)         590080    \n",
      "                                                                 \n",
      " conv2d_19 (Conv2D)          (None, 8, 8, 256)         590080    \n",
      "                                                                 \n",
      " max_pooling2d_7 (MaxPooling  (None, 4, 4, 256)        0         \n",
      " 2D)                                                             \n",
      "                                                                 \n",
      " conv2d_20 (Conv2D)          (None, 4, 4, 512)         1180160   \n",
      "                                                                 \n",
      " conv2d_21 (Conv2D)          (None, 4, 4, 512)         2359808   \n",
      "                                                                 \n",
      " conv2d_22 (Conv2D)          (None, 4, 4, 512)         2359808   \n",
      "                                                                 \n",
      " max_pooling2d_8 (MaxPooling  (None, 2, 2, 512)        0         \n",
      " 2D)                                                             \n",
      "                                                                 \n",
      " conv2d_23 (Conv2D)          (None, 2, 2, 512)         2359808   \n",
      "                                                                 \n",
      " conv2d_24 (Conv2D)          (None, 2, 2, 512)         2359808   \n",
      "                                                                 \n",
      " conv2d_25 (Conv2D)          (None, 2, 2, 512)         2359808   \n",
      "                                                                 \n",
      " max_pooling2d_9 (MaxPooling  (None, 1, 1, 512)        0         \n",
      " 2D)                                                             \n",
      "                                                                 \n",
      " flatten_1 (Flatten)         (None, 512)               0         \n",
      "                                                                 \n",
      " dense_3 (Dense)             (None, 128)               65664     \n",
      "                                                                 \n",
      " dense_4 (Dense)             (None, 128)               16512     \n",
      "                                                                 \n",
      " dense_5 (Dense)             (None, 10)                1290      \n",
      "                                                                 \n",
      "=================================================================\n",
      "Total params: 14,798,154\n",
      "Trainable params: 14,798,154\n",
      "Non-trainable params: 0\n",
      "_________________________________________________________________\n"
     ]
    }
   ],
   "source": [
    "from tensorflow.keras.models import Sequential\n",
    "from tensorflow.keras.layers import Flatten, Dense\n",
    "from tensorflow.keras.layers import Convolution2D, MaxPooling2D\n",
    "\n",
    "def VGG_16():\n",
    "    model = Sequential()\n",
    "    model.add(Convolution2D(64, 3, padding='same', activation='relu', \n",
    "                            input_shape=(32, 32, 3)))\n",
    "    model.add(Convolution2D(64, 3, padding='same', activation='relu'))\n",
    "    model.add(MaxPooling2D((2,2), strides=(2,2)))\n",
    "\n",
    "    model.add(Convolution2D(128, 3, padding='same', activation='relu'))\n",
    "    model.add(Convolution2D(128, 3, padding='same', activation='relu'))\n",
    "    model.add(MaxPooling2D((2,2), strides=(2,2)))\n",
    "\n",
    "    \n",
    "    model.add(Convolution2D(256, 3, padding='same', activation='relu'))\n",
    "    model.add(Convolution2D(256, 3, padding='same', activation='relu'))\n",
    "    model.add(Convolution2D(256, 3, padding='same', activation='relu'))\n",
    "    model.add(MaxPooling2D((2,2), strides=(2,2)))\n",
    "\n",
    "    model.add(Convolution2D(512, 3, padding='same', activation='relu'))\n",
    "    model.add(Convolution2D(512, 3, padding='same', activation='relu'))\n",
    "    model.add(Convolution2D(512, 3, padding='same', activation='relu'))\n",
    "    model.add(MaxPooling2D((2,2), strides=(2,2)))\n",
    "\n",
    "    model.add(Convolution2D(512, 3, padding='same', activation='relu'))\n",
    "    model.add(Convolution2D(512, 3, padding='same', activation='relu'))\n",
    "    model.add(Convolution2D(512, 3, padding='same', activation='relu'))\n",
    "    model.add(MaxPooling2D((2,2), strides=(2,2)))\n",
    "\n",
    "    model.add(Flatten())\n",
    "    model.add(Dense(128, activation='relu'))\n",
    "    model.add(Dense(128, activation='relu'))\n",
    "    model.add(Dense(10, activation='softmax'))\n",
    "\n",
    "    return model\n",
    "\n",
    "model = VGG_16()\n",
    "model.summary()"
   ]
  },
  {
   "cell_type": "code",
   "execution_count": null,
   "metadata": {
    "id": "FImy4LNmhlPb"
   },
   "outputs": [],
   "source": []
  },
  {
   "cell_type": "code",
   "execution_count": 2,
   "metadata": {
    "colab": {
     "base_uri": "https://localhost:8080/",
     "height": 497
    },
    "executionInfo": {
     "elapsed": 379,
     "status": "error",
     "timestamp": 1642146330180,
     "user": {
      "displayName": "Quang Vinh",
      "photoUrl": "https://lh3.googleusercontent.com/a-/AOh14Gg23Oc7pbRRf6Q532NAbKAQmIr2CDd6GAm-B4v9-Q=s64",
      "userId": "10640784768073460440"
     },
     "user_tz": -420
    },
    "id": "5gI5TXeThlR7",
    "outputId": "bb32fad7-09e2-41ff-dacb-a797cc963723"
   },
   "outputs": [],
   "source": [
    "import tensorflow as tf\n",
    "from tensorflow import keras\n",
    "\n",
    "cifar10 = keras.datasets.cifar10\n",
    "(train_images, train_labels), (test_images, test_labels) = cifar10.load_data()\n",
    "\n",
    "train_images = train_images / 255.0\n",
    "test_images  = test_images / 255.0\n",
    "\n",
    "train_images = tf.reshape(train_images, (50000, 32, 32, 3))\n",
    "test_images  = tf.reshape(test_images, (10000, 32, 32, 3))"
   ]
  },
  {
   "cell_type": "code",
   "execution_count": null,
   "metadata": {
    "id": "8yW45mO6hlUE"
   },
   "outputs": [],
   "source": []
  },
  {
   "cell_type": "code",
   "execution_count": 5,
   "metadata": {
    "id": "mgZ7Vq_lhlWZ"
   },
   "outputs": [
    {
     "name": "stdout",
     "output_type": "stream",
     "text": [
      "Epoch 1/100\n"
     ]
    },
    {
     "name": "stderr",
     "output_type": "stream",
     "text": [
      "2022-01-14 14:50:31.819163: I tensorflow/stream_executor/cuda/cuda_dnn.cc:366] Loaded cuDNN version 8201\n"
     ]
    },
    {
     "name": "stdout",
     "output_type": "stream",
     "text": [
      "98/98 [==============================] - 14s 110ms/step - loss: 2.3025 - accuracy: 0.1000 - val_loss: 2.3026 - val_accuracy: 0.1000\n",
      "Epoch 2/100\n",
      "98/98 [==============================] - 9s 89ms/step - loss: 2.3043 - accuracy: 0.0994 - val_loss: 2.3026 - val_accuracy: 0.1000\n",
      "Epoch 3/100\n",
      "98/98 [==============================] - 9s 89ms/step - loss: 2.3027 - accuracy: 0.1010 - val_loss: 2.3026 - val_accuracy: 0.1000\n",
      "Epoch 4/100\n",
      "98/98 [==============================] - 9s 89ms/step - loss: 2.3589 - accuracy: 0.1039 - val_loss: 2.3025 - val_accuracy: 0.1000\n",
      "Epoch 5/100\n",
      "98/98 [==============================] - 9s 89ms/step - loss: 2.3039 - accuracy: 0.1006 - val_loss: 2.3026 - val_accuracy: 0.1000\n",
      "Epoch 6/100\n",
      "98/98 [==============================] - 9s 90ms/step - loss: 2.3434 - accuracy: 0.1015 - val_loss: 2.3026 - val_accuracy: 0.1000\n",
      "Epoch 7/100\n",
      "98/98 [==============================] - 9s 90ms/step - loss: 2.2995 - accuracy: 0.1066 - val_loss: 2.3027 - val_accuracy: 0.1000\n",
      "Epoch 8/100\n",
      "98/98 [==============================] - 9s 90ms/step - loss: 2.3026 - accuracy: 0.0986 - val_loss: 2.3026 - val_accuracy: 0.1000\n",
      "Epoch 9/100\n",
      "98/98 [==============================] - 9s 91ms/step - loss: 2.1984 - accuracy: 0.1432 - val_loss: 2.0392 - val_accuracy: 0.1738\n",
      "Epoch 10/100\n",
      "98/98 [==============================] - 9s 93ms/step - loss: 1.8921 - accuracy: 0.2234 - val_loss: 1.8637 - val_accuracy: 0.2488\n",
      "Epoch 11/100\n",
      "98/98 [==============================] - 9s 91ms/step - loss: 1.7035 - accuracy: 0.3171 - val_loss: 1.6161 - val_accuracy: 0.3514\n",
      "Epoch 12/100\n",
      "98/98 [==============================] - 9s 91ms/step - loss: 1.5618 - accuracy: 0.3662 - val_loss: 1.4935 - val_accuracy: 0.3898\n",
      "Epoch 13/100\n",
      "98/98 [==============================] - 10s 98ms/step - loss: 1.4495 - accuracy: 0.4166 - val_loss: 1.4002 - val_accuracy: 0.4552\n",
      "Epoch 14/100\n",
      "98/98 [==============================] - 9s 92ms/step - loss: 1.3170 - accuracy: 0.4975 - val_loss: 1.3764 - val_accuracy: 0.4832\n",
      "Epoch 15/100\n",
      "98/98 [==============================] - 9s 96ms/step - loss: 1.1784 - accuracy: 0.5612 - val_loss: 1.1559 - val_accuracy: 0.5715\n",
      "Epoch 16/100\n",
      "98/98 [==============================] - 9s 91ms/step - loss: 1.0235 - accuracy: 0.6269 - val_loss: 1.0056 - val_accuracy: 0.6387\n",
      "Epoch 17/100\n",
      "98/98 [==============================] - 9s 91ms/step - loss: 0.9067 - accuracy: 0.6720 - val_loss: 0.9447 - val_accuracy: 0.6637\n",
      "Epoch 18/100\n",
      "98/98 [==============================] - 9s 91ms/step - loss: 0.7978 - accuracy: 0.7133 - val_loss: 0.9144 - val_accuracy: 0.6780\n",
      "Epoch 19/100\n",
      "98/98 [==============================] - 9s 91ms/step - loss: 0.7255 - accuracy: 0.7422 - val_loss: 0.8528 - val_accuracy: 0.7029\n",
      "Epoch 20/100\n",
      "98/98 [==============================] - 10s 99ms/step - loss: 0.6501 - accuracy: 0.7696 - val_loss: 0.8864 - val_accuracy: 0.7013\n",
      "Epoch 21/100\n",
      "98/98 [==============================] - 9s 92ms/step - loss: 0.5832 - accuracy: 0.7966 - val_loss: 0.7795 - val_accuracy: 0.7410\n",
      "Epoch 22/100\n",
      "98/98 [==============================] - 9s 94ms/step - loss: 0.5170 - accuracy: 0.8197 - val_loss: 0.7700 - val_accuracy: 0.7504\n",
      "Epoch 23/100\n",
      "98/98 [==============================] - 9s 91ms/step - loss: 0.4403 - accuracy: 0.8480 - val_loss: 0.8495 - val_accuracy: 0.7350\n",
      "Epoch 24/100\n",
      "98/98 [==============================] - 9s 91ms/step - loss: 0.3831 - accuracy: 0.8673 - val_loss: 0.8545 - val_accuracy: 0.7541\n",
      "Epoch 25/100\n",
      "98/98 [==============================] - 9s 96ms/step - loss: 0.3296 - accuracy: 0.8852 - val_loss: 0.8444 - val_accuracy: 0.7530\n",
      "Epoch 26/100\n",
      "98/98 [==============================] - 9s 92ms/step - loss: 0.2860 - accuracy: 0.9015 - val_loss: 0.8855 - val_accuracy: 0.7600\n",
      "Epoch 27/100\n",
      "98/98 [==============================] - 9s 93ms/step - loss: 0.2435 - accuracy: 0.9164 - val_loss: 0.9176 - val_accuracy: 0.7580\n",
      "Epoch 28/100\n",
      "98/98 [==============================] - 9s 93ms/step - loss: 0.2133 - accuracy: 0.9280 - val_loss: 1.0128 - val_accuracy: 0.7611\n",
      "Epoch 29/100\n",
      "98/98 [==============================] - 9s 91ms/step - loss: 0.1778 - accuracy: 0.9396 - val_loss: 0.9539 - val_accuracy: 0.7563\n",
      "Epoch 30/100\n",
      "98/98 [==============================] - 9s 95ms/step - loss: 0.1613 - accuracy: 0.9453 - val_loss: 1.0256 - val_accuracy: 0.7616\n",
      "Epoch 31/100\n",
      "98/98 [==============================] - 9s 91ms/step - loss: 0.1307 - accuracy: 0.9567 - val_loss: 1.0316 - val_accuracy: 0.7614\n",
      "Epoch 32/100\n",
      "98/98 [==============================] - 9s 92ms/step - loss: 0.1145 - accuracy: 0.9619 - val_loss: 1.1198 - val_accuracy: 0.7573\n",
      "Epoch 33/100\n",
      "98/98 [==============================] - 9s 92ms/step - loss: 0.1033 - accuracy: 0.9654 - val_loss: 1.2026 - val_accuracy: 0.7596\n",
      "Epoch 34/100\n",
      "98/98 [==============================] - 9s 93ms/step - loss: 0.0978 - accuracy: 0.9672 - val_loss: 1.1835 - val_accuracy: 0.7559\n",
      "Epoch 35/100\n",
      "98/98 [==============================] - 9s 92ms/step - loss: 0.0850 - accuracy: 0.9712 - val_loss: 1.1835 - val_accuracy: 0.7621\n",
      "Epoch 36/100\n",
      "98/98 [==============================] - 9s 91ms/step - loss: 0.0834 - accuracy: 0.9726 - val_loss: 1.2616 - val_accuracy: 0.7560\n",
      "Epoch 37/100\n",
      "98/98 [==============================] - 9s 92ms/step - loss: 0.0690 - accuracy: 0.9768 - val_loss: 1.2001 - val_accuracy: 0.7646\n",
      "Epoch 38/100\n",
      "98/98 [==============================] - 9s 93ms/step - loss: 0.0603 - accuracy: 0.9793 - val_loss: 1.2686 - val_accuracy: 0.7652\n",
      "Epoch 39/100\n",
      "98/98 [==============================] - 9s 91ms/step - loss: 0.0695 - accuracy: 0.9763 - val_loss: 1.2431 - val_accuracy: 0.7607\n",
      "Epoch 40/100\n",
      "98/98 [==============================] - 9s 92ms/step - loss: 0.0507 - accuracy: 0.9834 - val_loss: 1.3249 - val_accuracy: 0.7573\n",
      "Epoch 41/100\n",
      "98/98 [==============================] - 9s 97ms/step - loss: 0.0500 - accuracy: 0.9829 - val_loss: 1.4688 - val_accuracy: 0.7697\n",
      "Epoch 42/100\n",
      "98/98 [==============================] - 9s 91ms/step - loss: 0.0460 - accuracy: 0.9846 - val_loss: 1.3692 - val_accuracy: 0.7685\n",
      "Epoch 43/100\n",
      "98/98 [==============================] - 9s 91ms/step - loss: 0.0445 - accuracy: 0.9846 - val_loss: 1.2768 - val_accuracy: 0.7695\n",
      "Epoch 44/100\n",
      "98/98 [==============================] - 9s 91ms/step - loss: 0.0397 - accuracy: 0.9869 - val_loss: 1.3400 - val_accuracy: 0.7727\n",
      "Epoch 45/100\n",
      "98/98 [==============================] - 9s 96ms/step - loss: 0.0455 - accuracy: 0.9849 - val_loss: 1.3063 - val_accuracy: 0.7670\n",
      "Epoch 46/100\n",
      "98/98 [==============================] - 9s 91ms/step - loss: 0.0397 - accuracy: 0.9871 - val_loss: 1.4306 - val_accuracy: 0.7640\n",
      "Epoch 47/100\n",
      "98/98 [==============================] - 9s 92ms/step - loss: 0.0318 - accuracy: 0.9897 - val_loss: 1.4914 - val_accuracy: 0.7591\n",
      "Epoch 48/100\n",
      "98/98 [==============================] - 9s 93ms/step - loss: 0.0411 - accuracy: 0.9863 - val_loss: 1.5495 - val_accuracy: 0.7651\n",
      "Epoch 49/100\n",
      "98/98 [==============================] - 9s 91ms/step - loss: 0.0403 - accuracy: 0.9871 - val_loss: 1.3551 - val_accuracy: 0.7527\n",
      "Epoch 50/100\n",
      "98/98 [==============================] - 9s 92ms/step - loss: 0.0392 - accuracy: 0.9869 - val_loss: 1.4621 - val_accuracy: 0.7609\n",
      "Epoch 51/100\n",
      "98/98 [==============================] - 9s 92ms/step - loss: 0.0321 - accuracy: 0.9896 - val_loss: 1.4963 - val_accuracy: 0.7744\n",
      "Epoch 52/100\n",
      "98/98 [==============================] - 9s 92ms/step - loss: 0.0324 - accuracy: 0.9894 - val_loss: 1.5140 - val_accuracy: 0.7678\n",
      "Epoch 53/100\n",
      "98/98 [==============================] - 9s 96ms/step - loss: 0.0370 - accuracy: 0.9875 - val_loss: 1.3732 - val_accuracy: 0.7649\n",
      "Epoch 54/100\n",
      "98/98 [==============================] - 9s 91ms/step - loss: 0.0322 - accuracy: 0.9893 - val_loss: 1.4571 - val_accuracy: 0.7665\n",
      "Epoch 55/100\n",
      "98/98 [==============================] - 9s 93ms/step - loss: 0.0278 - accuracy: 0.9911 - val_loss: 1.5339 - val_accuracy: 0.7722\n",
      "Epoch 56/100\n",
      "98/98 [==============================] - 9s 91ms/step - loss: 0.0364 - accuracy: 0.9879 - val_loss: 1.2585 - val_accuracy: 0.7683\n",
      "Epoch 57/100\n",
      "98/98 [==============================] - 9s 92ms/step - loss: 0.0303 - accuracy: 0.9903 - val_loss: 1.4919 - val_accuracy: 0.7715\n",
      "Epoch 58/100\n",
      "98/98 [==============================] - 9s 93ms/step - loss: 0.0247 - accuracy: 0.9919 - val_loss: 1.4517 - val_accuracy: 0.7733\n",
      "Epoch 59/100\n",
      "98/98 [==============================] - 9s 91ms/step - loss: 0.0307 - accuracy: 0.9897 - val_loss: 1.5831 - val_accuracy: 0.7687\n",
      "Epoch 60/100\n",
      "98/98 [==============================] - 9s 94ms/step - loss: 0.0318 - accuracy: 0.9895 - val_loss: 1.3517 - val_accuracy: 0.7713\n",
      "Epoch 61/100\n",
      "98/98 [==============================] - 9s 92ms/step - loss: 0.0279 - accuracy: 0.9907 - val_loss: 1.3762 - val_accuracy: 0.7699\n",
      "Epoch 62/100\n",
      "98/98 [==============================] - 9s 92ms/step - loss: 0.0255 - accuracy: 0.9913 - val_loss: 1.4662 - val_accuracy: 0.7680\n",
      "Epoch 63/100\n",
      "98/98 [==============================] - 9s 92ms/step - loss: 0.0239 - accuracy: 0.9924 - val_loss: 1.5205 - val_accuracy: 0.7705\n",
      "Epoch 64/100\n",
      "98/98 [==============================] - 9s 92ms/step - loss: 0.0278 - accuracy: 0.9917 - val_loss: 1.5523 - val_accuracy: 0.7685\n",
      "Epoch 65/100\n",
      "98/98 [==============================] - 10s 99ms/step - loss: 0.0290 - accuracy: 0.9904 - val_loss: 1.5577 - val_accuracy: 0.7647\n",
      "Epoch 66/100\n",
      "98/98 [==============================] - 9s 91ms/step - loss: 0.0308 - accuracy: 0.9905 - val_loss: 1.4578 - val_accuracy: 0.7589\n",
      "Epoch 67/100\n",
      "98/98 [==============================] - 9s 96ms/step - loss: 0.0316 - accuracy: 0.9897 - val_loss: 1.3108 - val_accuracy: 0.7739\n",
      "Epoch 68/100\n",
      "98/98 [==============================] - 9s 92ms/step - loss: 0.0170 - accuracy: 0.9945 - val_loss: 1.5441 - val_accuracy: 0.7658\n",
      "Epoch 69/100\n",
      "98/98 [==============================] - 9s 92ms/step - loss: 0.0197 - accuracy: 0.9936 - val_loss: 1.5913 - val_accuracy: 0.7719\n",
      "Epoch 70/100\n",
      "98/98 [==============================] - 9s 92ms/step - loss: 0.0248 - accuracy: 0.9920 - val_loss: 1.4519 - val_accuracy: 0.7616\n",
      "Epoch 71/100\n",
      "98/98 [==============================] - 9s 91ms/step - loss: 0.0304 - accuracy: 0.9903 - val_loss: 1.2725 - val_accuracy: 0.7721\n",
      "Epoch 72/100\n",
      "98/98 [==============================] - 9s 91ms/step - loss: 0.0230 - accuracy: 0.9922 - val_loss: 1.5408 - val_accuracy: 0.7756\n",
      "Epoch 73/100\n",
      "98/98 [==============================] - 9s 92ms/step - loss: 0.0256 - accuracy: 0.9914 - val_loss: 1.4015 - val_accuracy: 0.7703\n",
      "Epoch 74/100\n",
      "98/98 [==============================] - 9s 92ms/step - loss: 0.0246 - accuracy: 0.9919 - val_loss: 1.5049 - val_accuracy: 0.7740\n",
      "Epoch 75/100\n",
      "98/98 [==============================] - 9s 94ms/step - loss: 0.0200 - accuracy: 0.9937 - val_loss: 1.5027 - val_accuracy: 0.7705\n",
      "Epoch 76/100\n",
      "98/98 [==============================] - 9s 91ms/step - loss: 0.0256 - accuracy: 0.9918 - val_loss: 1.4075 - val_accuracy: 0.7713\n",
      "Epoch 77/100\n",
      "98/98 [==============================] - 9s 92ms/step - loss: 0.0198 - accuracy: 0.9934 - val_loss: 1.4611 - val_accuracy: 0.7771\n",
      "Epoch 78/100\n",
      "98/98 [==============================] - 9s 91ms/step - loss: 0.0235 - accuracy: 0.9925 - val_loss: 1.2695 - val_accuracy: 0.7734\n",
      "Epoch 79/100\n",
      "98/98 [==============================] - 9s 92ms/step - loss: 0.0309 - accuracy: 0.9897 - val_loss: 1.3765 - val_accuracy: 0.7675\n",
      "Epoch 80/100\n",
      "98/98 [==============================] - 9s 92ms/step - loss: 0.0194 - accuracy: 0.9935 - val_loss: 1.4366 - val_accuracy: 0.7781\n",
      "Epoch 81/100\n",
      "98/98 [==============================] - 9s 91ms/step - loss: 0.0204 - accuracy: 0.9934 - val_loss: 1.3884 - val_accuracy: 0.7757\n",
      "Epoch 82/100\n",
      "98/98 [==============================] - 9s 91ms/step - loss: 0.0251 - accuracy: 0.9923 - val_loss: 1.4067 - val_accuracy: 0.7729\n",
      "Epoch 83/100\n",
      "98/98 [==============================] - 9s 92ms/step - loss: 0.0229 - accuracy: 0.9928 - val_loss: 1.4335 - val_accuracy: 0.7727\n",
      "Epoch 84/100\n",
      "98/98 [==============================] - 9s 92ms/step - loss: 0.0243 - accuracy: 0.9922 - val_loss: 1.3793 - val_accuracy: 0.7752\n",
      "Epoch 85/100\n",
      "98/98 [==============================] - 10s 98ms/step - loss: 0.0176 - accuracy: 0.9946 - val_loss: 1.4476 - val_accuracy: 0.7738\n",
      "Epoch 86/100\n",
      "98/98 [==============================] - 9s 91ms/step - loss: 0.0216 - accuracy: 0.9931 - val_loss: 1.3687 - val_accuracy: 0.7750\n",
      "Epoch 87/100\n",
      "98/98 [==============================] - 9s 97ms/step - loss: 0.0279 - accuracy: 0.9910 - val_loss: 1.4427 - val_accuracy: 0.7622\n",
      "Epoch 88/100\n",
      "98/98 [==============================] - 9s 90ms/step - loss: 0.0241 - accuracy: 0.9928 - val_loss: 1.3212 - val_accuracy: 0.7796\n",
      "Epoch 89/100\n",
      "98/98 [==============================] - 9s 91ms/step - loss: 0.0187 - accuracy: 0.9938 - val_loss: 1.4606 - val_accuracy: 0.7774\n",
      "Epoch 90/100\n",
      "98/98 [==============================] - 9s 92ms/step - loss: 0.0240 - accuracy: 0.9921 - val_loss: 1.4451 - val_accuracy: 0.7807\n",
      "Epoch 91/100\n",
      "98/98 [==============================] - 9s 91ms/step - loss: 0.0179 - accuracy: 0.9942 - val_loss: 1.5220 - val_accuracy: 0.7683\n",
      "Epoch 92/100\n",
      "98/98 [==============================] - 9s 92ms/step - loss: 0.0276 - accuracy: 0.9917 - val_loss: 1.2444 - val_accuracy: 0.7765\n",
      "Epoch 93/100\n",
      "98/98 [==============================] - 9s 92ms/step - loss: 0.0166 - accuracy: 0.9949 - val_loss: 1.5311 - val_accuracy: 0.7768\n",
      "Epoch 94/100\n",
      "98/98 [==============================] - 9s 91ms/step - loss: 0.0191 - accuracy: 0.9937 - val_loss: 1.3877 - val_accuracy: 0.7753\n",
      "Epoch 95/100\n",
      "98/98 [==============================] - 9s 92ms/step - loss: 0.0176 - accuracy: 0.9940 - val_loss: 1.5869 - val_accuracy: 0.7776\n",
      "Epoch 96/100\n",
      "98/98 [==============================] - 9s 92ms/step - loss: 0.0212 - accuracy: 0.9931 - val_loss: 1.5485 - val_accuracy: 0.7819\n",
      "Epoch 97/100\n",
      "98/98 [==============================] - 9s 91ms/step - loss: 0.0193 - accuracy: 0.9938 - val_loss: 1.4899 - val_accuracy: 0.7771\n",
      "Epoch 98/100\n",
      "98/98 [==============================] - 9s 91ms/step - loss: 0.0190 - accuracy: 0.9940 - val_loss: 1.5683 - val_accuracy: 0.7784\n",
      "Epoch 99/100\n",
      "98/98 [==============================] - 9s 92ms/step - loss: 0.0218 - accuracy: 0.9929 - val_loss: 1.3116 - val_accuracy: 0.7731\n",
      "Epoch 100/100\n",
      "98/98 [==============================] - 9s 92ms/step - loss: 0.0190 - accuracy: 0.9941 - val_loss: 1.4323 - val_accuracy: 0.7758\n"
     ]
    }
   ],
   "source": [
    "optimizer = tf.keras.optimizers.Adam(learning_rate=0.0005)\n",
    "model.compile(optimizer=optimizer,\n",
    "              loss=tf.keras.losses.SparseCategoricalCrossentropy(),\n",
    "              metrics=['accuracy'])\n",
    "history_data = model.fit(train_images, train_labels, batch_size=512,\n",
    "                         validation_data=(test_images, test_labels), epochs=100)"
   ]
  },
  {
   "cell_type": "code",
   "execution_count": null,
   "metadata": {
    "id": "k0QazAJIhlYj"
   },
   "outputs": [],
   "source": []
  },
  {
   "cell_type": "code",
   "execution_count": 6,
   "metadata": {
    "id": "VhfGKEkPhla0"
   },
   "outputs": [
    {
     "data": {
      "text/plain": [
       "<matplotlib.legend.Legend at 0x7f0c9c086eb0>"
      ]
     },
     "execution_count": 6,
     "metadata": {},
     "output_type": "execute_result"
    },
    {
     "data": {
      "image/png": "[encoded data removed]",
      "text/plain": [
       "<Figure size 432x288 with 1 Axes>"
      ]
     },
     "metadata": {
      "needs_background": "light"
     },
     "output_type": "display_data"
    }
   ],
   "source": [
    "import matplotlib.pyplot as plt\n",
    "\n",
    "plt.plot(history_data.history['loss'], label = \"train_loss\")\n",
    "plt.plot(history_data.history['val_loss'], label = \"val_loss\")\n",
    "plt.xlabel('iteration')\n",
    "plt.ylabel('Loss')\n",
    "plt.legend()"
   ]
  },
  {
   "cell_type": "code",
   "execution_count": null,
   "metadata": {
    "id": "BZ2IPZQQhlcp"
   },
   "outputs": [],
   "source": []
  },
  {
   "cell_type": "code",
   "execution_count": 7,
   "metadata": {
    "id": "iZCsmfupfMD1"
   },
   "outputs": [
    {
     "data": {
      "text/plain": [
       "<matplotlib.legend.Legend at 0x7f0c6c74ccd0>"
      ]
     },
     "execution_count": 7,
     "metadata": {},
     "output_type": "execute_result"
    },
    {
     "data": {
      "image/png": "[encoded data removed]",
      "text/plain": [
       "<Figure size 432x288 with 1 Axes>"
      ]
     },
     "metadata": {
      "needs_background": "light"
     },
     "output_type": "display_data"
    }
   ],
   "source": [
    "import matplotlib.pyplot as plt\n",
    "\n",
    "plt.plot(history_data.history['accuracy'], label = \"train_accuracy\")\n",
    "plt.plot(history_data.history['val_accuracy'], label = \"val_accuracy\")\n",
    "plt.xlabel('iteration')\n",
    "plt.ylabel('Accuracy')\n",
    "plt.legend()"
   ]
  },
  {
   "cell_type": "code",
   "execution_count": null,
   "metadata": {},
   "outputs": [],
   "source": []
  }
 ],
 "metadata": {
  "accelerator": "GPU",
  "colab": {
   "name": "8.5.VGG16.ipynb",
   "provenance": []
  },
  "kernelspec": {
   "display_name": "Python 3 (ipykernel)",
   "language": "python",
   "name": "python3"
  },
  "language_info": {
   "codemirror_mode": {
    "name": "ipython",
    "version": 3
   },
   "file_extension": ".py",
   "mimetype": "text/x-python",
   "name": "python",
   "nbconvert_exporter": "python",
   "pygments_lexer": "ipython3",
   "version": "3.9.13"
  }
 },
 "nbformat": 4,
 "nbformat_minor": 1
}
