{
 "cells": [
  {
   "cell_type": "markdown",
   "metadata": {},
   "source": [
    "## Convolution"
   ]
  },
  {
   "cell_type": "code",
   "execution_count": 2,
   "metadata": {},
   "outputs": [
    {
     "name": "stdout",
     "output_type": "stream",
     "text": [
      "\n",
      "\n",
      " data_X: \n",
      " tf.Tensor(\n",
      "[[1. 1. 2.]\n",
      " [1. 2. 1.]\n",
      " [2. 1. 1.]], shape=(3, 3), dtype=float32)\n",
      "\n",
      "\n",
      " data_y: \n",
      " tf.Tensor(\n",
      "[[1. 1.]\n",
      " [1. 1.]], shape=(2, 2), dtype=float32)\n",
      "\n",
      "\n",
      " data_after_conv: \n",
      " tf.Tensor(\n",
      "[[1.1864988  0.7961735 ]\n",
      " [0.7961735  0.23312974]], shape=(2, 2), dtype=float32)\n",
      "\n",
      "\n",
      " conv_weight: \n",
      " tf.Tensor(\n",
      "[[-0.32082075  0.7238367 ]\n",
      " [-0.48161376  0.6325483 ]], shape=(2, 2), dtype=float32)\n",
      "\n",
      " conv_bias: \n",
      " tf.Tensor(0.0, shape=(), dtype=float32)\n",
      "\n",
      "\n",
      " loss: \n",
      " tf.Tensor(0.17649058, shape=(), dtype=float32)\n",
      "\n",
      "\n",
      " dloss: \n",
      " tf.Tensor(\n",
      "[[ 0.09324938 -0.10191324]\n",
      " [-0.10191324 -0.38343513]], shape=(2, 2), dtype=float32)\n",
      "\n",
      "\n",
      " dconv_weight: \n",
      " tf.Tensor(\n",
      "[[-0.87744737 -0.6978387 ]\n",
      " [-0.6978387  -0.40076286]], shape=(2, 2), dtype=float32)\n",
      "\n",
      " dconv_bias: \n",
      " tf.Tensor(-0.49401224, shape=(), dtype=float32)\n"
     ]
    }
   ],
   "source": [
    "import tensorflow as tf\n",
    "import tensorflow.keras as keras\n",
    "import numpy as np\n",
    "\n",
    "conv2D = keras.layers.Conv2D(1, (2, 2), activation='relu')\n",
    "\n",
    "data_X = np.array([[1, 1, 2],\n",
    "                   [1, 2, 1],\n",
    "                   [2, 1, 1]])\n",
    "data_X = data_X.reshape(1, 3, 3, 1)\n",
    "data_X = tf.Variable(data_X, dtype=tf.float32)\n",
    "\n",
    "data_y = np.ones((1, 2, 2, 1))\n",
    "data_y = tf.Variable(data_y, dtype=tf.float32)\n",
    "\n",
    "print('\\n\\n data_X: \\n', data_X[0,:,:,0])\n",
    "print('\\n\\n data_y: \\n', data_y[0,:,:,0])\n",
    "\n",
    "with tf.GradientTape(persistent=True) as tape: \n",
    "    data_after_conv = conv2D(data_X)\n",
    "    print('\\n\\n data_after_conv: \\n', data_after_conv[0,:,:,0])\n",
    "    \n",
    "    # Check the values of the current conv weight\n",
    "    print('\\n\\n conv_weight: \\n', conv2D.trainable_weights[0][:,:,0,0])\n",
    "    print('\\n conv_bias: \\n', conv2D.trainable_weights[1][0])\n",
    "        \n",
    "    loss = tf.reduce_mean((data_after_conv-data_y)**2)\n",
    "    print('\\n\\n loss: \\n', loss)\n",
    "    \n",
    "dloss = tape.gradient(loss, data_after_conv)\n",
    "print('\\n\\n dloss: \\n', dloss[0,:,:,0])\n",
    "\n",
    "dconv_weight = tape.gradient(loss, conv2D.trainable_weights)\n",
    "print('\\n\\n dconv_weight: \\n', dconv_weight[0][:,:,0,0])\n",
    "print('\\n dconv_bias: \\n', dconv_weight[1][0])"
   ]
  },
  {
   "cell_type": "code",
   "execution_count": null,
   "metadata": {},
   "outputs": [],
   "source": []
  }
 ],
 "metadata": {
  "kernelspec": {
   "display_name": "Python 3 (ipykernel)",
   "language": "python",
   "name": "python3"
  },
  "language_info": {
   "codemirror_mode": {
    "name": "ipython",
    "version": 3
   },
   "file_extension": ".py",
   "mimetype": "text/x-python",
   "name": "python",
   "nbconvert_exporter": "python",
   "pygments_lexer": "ipython3",
   "version": "3.9.13"
  }
 },
 "nbformat": 4,
 "nbformat_minor": 2
}
